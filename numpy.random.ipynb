{
 "cells": [
  {
   "cell_type": "markdown",
   "id": "27f643ca-ba6e-4b0e-81c5-70a43483a840",
   "metadata": {},
   "source": [
    "# The numpy.random Package\n",
    "\n",
    "[Official Documentation](https://numpy.org/doc/stable/reference/random/index.html)\n",
    "***"
   ]
  },
  {
   "cell_type": "markdown",
   "id": "10b92e0f-f603-4028-bd96-78d224e86c27",
   "metadata": {},
   "source": [
    "<br>\n",
    "\n",
    "## What is Numpy?"
   ]
  },
  {
   "cell_type": "markdown",
   "id": "be6376ce-be8e-42f3-b564-71835195b90e",
   "metadata": {},
   "source": [
    "Numpy (Numerical Python) is one of the most useful libraries in python for data analysis. It is great because it can crunch numbers extremely fast. This is because the ndarray object encapsulates n-dimensional arrays of homogeneous data types, with many operations being performed in compiled code for performance. Users of NumPy can manage data in vectors, matrices and N-Dimensional Arrays (ndarray).[01] NumPy supports most Python libraries that do scientific or numerical computation. In fact it is the foundation of these libraries. This includes SciPy, Matplotlib, pandas, scikit-learn and scikit-image.[01]"
   ]
  },
  {
   "cell_type": "code",
   "execution_count": null,
   "id": "6dca92c6-3fb9-4ca2-81c2-06118f31a9e7",
   "metadata": {},
   "outputs": [],
   "source": []
  },
  {
   "cell_type": "code",
   "execution_count": null,
   "id": "64e0988b-5652-4d29-80e8-d680e7da24b5",
   "metadata": {},
   "outputs": [],
   "source": []
  },
  {
   "cell_type": "code",
   "execution_count": null,
   "id": "c0ac92bc-6ed1-4b12-bc82-bc0e18d0d5cb",
   "metadata": {},
   "outputs": [],
   "source": []
  },
  {
   "cell_type": "markdown",
   "id": "89182434-0cf7-482a-b04b-246233efbbd9",
   "metadata": {},
   "source": [
    "## Packages to import for the notebook:"
   ]
  },
  {
   "cell_type": "code",
   "execution_count": 8,
   "id": "a224f55e-bb06-45a8-bb8a-0d958e668e65",
   "metadata": {},
   "outputs": [],
   "source": [
    "%matplotlib inline\n",
    "import matplotlib.mlab as mlab\n",
    "import numpy as np\n",
    "import matplotlib.pyplot as plt\n",
    "import pandas as pd\n",
    "#import scipy\n",
    "from scipy.stats import norm\n",
    "from scipy import stats"
   ]
  },
  {
   "cell_type": "markdown",
   "id": "a0b99ae8-f496-4a83-aec8-bb6c9d981ed8",
   "metadata": {},
   "source": [
    "<br>\n",
    "\n",
    "## numpy.random\n",
    "\n",
    "Random is a module which generates pseudo-random numbers, Other module functions depend on the function random() to generate random numbers from different distributions depending on the function called within the random module. The Random module contains very useful functions.\n",
    "\n",
    "The Random module contains many functions for generating random numbers. Numpy's random module provides methods for obtaining random numbers from any of several distributions as well as covenient ways to choose random entries from an array and to randomly shuffle the contents of an array. The random module uses an algorithm called PCG64 pseudorandom generator (PRNG). The PCG64 algorithm has been recently updated from the Mersenne Twister algorithm.\n",
    "\n",
    "Random package is a sub package of the numpy package in Python. The numbers are not completely random from literature findings covered for this assignment. Random numbers are drawn from probability distribution.\n",
    "\n",
    "Numpy’s random number routines produce pseudo random numbers using combinations of a BitGenerator to create sequences and a Generator to use those sequences to sample from different statistical distributions.[02]\n",
    "- BitGenerators are objects that generate random numbers. These are typically unsigned integer words filled with sequences of either 32 or 64 random bits. [02]\n",
    "- Generators are objects that transform sequences of random bits from a BitGenerator into sequences of numbers that follow a specific probability distribution (such as uniform, Normal or Binomial) within a specified interval.[02]"
   ]
  },
  {
   "cell_type": "markdown",
   "id": "70f432b7-8139-4760-b4b6-e09414c32557",
   "metadata": {},
   "source": [
    "## Recent Upgrade to PCG-64 Algorithm"
   ]
  },
  {
   "cell_type": "markdown",
   "id": "5fe6a703-0329-48d4-bb99-a6290c56c7a4",
   "metadata": {},
   "source": [
    "In the versions before Numpy v1.19, the numpy.random module was using the Mersenne Twister (MT19937) algorithm to generate pseudorandom numbers. Now, the Permutation Congruential generator (PCG-64) algorithm is used. Developed in 2014, the PCG-64 is a 128-bit implementation of O’Neill’s permutation congruential generator. The main reasons for the upgrade to this new algorithm are:\n",
    "\n",
    "1. When put to the test in the scientific paper \"TestU01: A C Library for Empirical Testing of Random Number Generators\", the researchers came to the conclusion that MT19937 performed poorly on statistical tests. It was discovered that there is a high level of predictability to the pseudorandom number sequences generated by this algorithm. The seed number could be figured out quite easily making it insecure.\n",
    "2. MT19937 is relatively slow when compared to the best algorithms of today in the paper \"PCG: AFamily of Simple Fast Space-Efficient Statistically GoodAlgorithms for Random NumberGeneration\". This paper highlights that the MT19937 algorithm's speed measured in Gb/s (Giga bytes per second). The test used in this paper is the \"TestU01\" test. This test works by performing some statistically well understood task using a candidate generator and then checking the plausibility of the results. It should be noted also that all members of the PCG-64 algorithm are faster than other generators in their class. This paper also shows that the MT19937 algorithm is insecure just like the paper mentioned above. This is because the TestU01's “linear complexity” test was able to spot nonrandom behaviour within 5 seconds. In contrast, some of the more robust candidates (algorithms) for the test in the TestU01 library can take hours to days to run. This clearly shows that MT19937 fell down at one of the earliest challenges put to it by TestU01[12].\n",
    "To use the new algorithm PCG-64, instead of using numpy.random.seed, we should now use np.random.default_rng(). It is commonplace to use rng is the object as seen below."
   ]
  },
  {
   "cell_type": "code",
   "execution_count": 9,
   "id": "ca1dde63-d146-4294-9dd9-4a723039f6d7",
   "metadata": {},
   "outputs": [
    {
     "name": "stdout",
     "output_type": "stream",
     "text": [
      "Generator(PCG64)\n"
     ]
    }
   ],
   "source": [
    "rng = np.random.default_rng(12345)\n",
    "print(rng)"
   ]
  },
  {
   "cell_type": "markdown",
   "id": "9f6a422d-597f-45d5-a828-e6822c626b65",
   "metadata": {},
   "source": [
    "The output here shows that the object rng has created an instance of Generator. Below we use this instance of Generator to create a random float of class float.The Generator is the user-facing object that is nearly identical to the legacy RandomState. It accepts a bit generator instance as an argument."
   ]
  },
  {
   "cell_type": "code",
   "execution_count": 10,
   "id": "e93c5cbf-c8c3-41b3-8242-dc92d3907831",
   "metadata": {},
   "outputs": [
    {
     "data": {
      "text/plain": [
       "0.22733602246716966"
      ]
     },
     "execution_count": 10,
     "metadata": {},
     "output_type": "execute_result"
    }
   ],
   "source": [
    "rfloat = rng.random()\n",
    "rfloat"
   ]
  },
  {
   "cell_type": "code",
   "execution_count": 11,
   "id": "8141d763-8221-4114-98fa-43ee99abf059",
   "metadata": {},
   "outputs": [
    {
     "data": {
      "text/plain": [
       "float"
      ]
     },
     "execution_count": 11,
     "metadata": {},
     "output_type": "execute_result"
    }
   ],
   "source": [
    "type(rfloat)"
   ]
  },
  {
   "cell_type": "markdown",
   "id": "d69aeefc-61b4-417e-87b5-b84f1a40ece0",
   "metadata": {},
   "source": [
    "If we needed to use the old MT19937 generator for whatever reason, we can do so by passing it as an argument to the Generator function. This is not recommended though but may be done. The following code is needed:"
   ]
  },
  {
   "cell_type": "code",
   "execution_count": 12,
   "id": "1cde39e3-e5b2-4c59-9558-6c542c289336",
   "metadata": {},
   "outputs": [
    {
     "data": {
      "text/plain": [
       "0.37786929937474845"
      ]
     },
     "execution_count": 12,
     "metadata": {},
     "output_type": "execute_result"
    }
   ],
   "source": [
    "from numpy.random import Generator, MT19937\n",
    "rg = Generator(MT19937(12345))\n",
    "rg.random()"
   ]
  },
  {
   "cell_type": "code",
   "execution_count": 13,
   "id": "319c9a80-f638-4612-bb5c-eceefd9adfd1",
   "metadata": {},
   "outputs": [
    {
     "data": {
      "text/plain": [
       "array([0.46213244, 0.53522602, 0.60360596])"
      ]
     },
     "execution_count": 13,
     "metadata": {},
     "output_type": "execute_result"
    }
   ],
   "source": [
    "#1\n",
    "a = np.random.random(3)\n",
    "a"
   ]
  },
  {
   "cell_type": "markdown",
   "id": "41933667-3e45-4708-9b51-ceb8b13ca6b7",
   "metadata": {},
   "source": [
    "3 numbers as output. 3 means 3 numbers. What if we want to print out not just one row but 3 rows?"
   ]
  },
  {
   "cell_type": "code",
   "execution_count": 14,
   "id": "331b6ad9-05cb-49ee-ac9c-544912a28c8f",
   "metadata": {},
   "outputs": [
    {
     "data": {
      "text/plain": [
       "array([[0.04180974, 0.19365899, 0.80243984],\n",
       "       [0.97225629, 0.31542627, 0.26145261],\n",
       "       [0.6073852 , 0.23457265, 0.52889583]])"
      ]
     },
     "execution_count": 14,
     "metadata": {},
     "output_type": "execute_result"
    }
   ],
   "source": [
    "b = np.random.random((3, 3))\n",
    "b"
   ]
  },
  {
   "cell_type": "code",
   "execution_count": null,
   "id": "cd516011-6ac0-457a-b821-f6fbe1e14298",
   "metadata": {},
   "outputs": [],
   "source": []
  },
  {
   "cell_type": "markdown",
   "id": "0ba091f8-903c-4186-ae43-af03493ba263",
   "metadata": {},
   "source": [
    "## numpy.random.seed"
   ]
  },
  {
   "cell_type": "markdown",
   "id": "297e22f0-8e6a-42e5-8191-2b521490a8fb",
   "metadata": {},
   "source": [
    "To understand the meaning of what it is to seed a random number generator, firstly we need to know a little bit about pseudo-random numbers. The definition of a pseudorandom number according to Wolfram Mathworld is 'a computer-generated random number'. The definition goes onto explain that 'The prefix pseudo- is used to distinguish this type of number from a “truly” random number generated by a random physical process such as radioactive decay'. A computer by design is inherintly deterministic, meaning that if you give a computer an input, it will precisely follow instructions to produce an output. Also, if a computer is given that imput again it will produce the exact same output. This means that computers do not behave randomly.\n",
    "\n",
    "Algorithms have been developed to create psuedo random numbers called 'peudo-random number generators'(PRNGs). Since a computer executes these algorithms they are still completely deterministic, but these PRMGs approximate the properties of random numbers. They appear to be random.\n",
    "\n",
    "Below are some pseudo-random numbers with the NumPy randint function:"
   ]
  },
  {
   "cell_type": "code",
   "execution_count": null,
   "id": "ed725e91-48cb-446a-8882-885ff5798bfd",
   "metadata": {},
   "outputs": [],
   "source": [
    "np.random.seed(1)\n",
    "np.random.randint(low = 1, high = 10, size = 50)"
   ]
  },
  {
   "cell_type": "markdown",
   "id": "ab7a26f6-f892-4327-abdc-b81b5348e48f",
   "metadata": {},
   "source": [
    "Although these numbers look random, they are actually determined by the algorithm. Further, if we were to run this code again, we would get the exact same numbers. This is because, as said earlier, when we give a computer an input, it will precisely follow instructions to produce an output. This means that pseudo-random number generators are deterministic and repeatable. Pseudo-random number generators can create and then re-create the exact same set of pseudo-random numbers. We'll now use the exact same code as above using NumPy's randint function again and with the exact same seed as before."
   ]
  },
  {
   "cell_type": "code",
   "execution_count": null,
   "id": "48a6d780-cc22-48ae-a173-839925aa76a6",
   "metadata": {},
   "outputs": [],
   "source": [
    "np.random.seed(1)\n",
    "np.random.randint(low = 1, high = 10, size = 50)"
   ]
  },
  {
   "cell_type": "markdown",
   "id": "eefd598f-0194-42b5-b558-a7fd4920080a",
   "metadata": {},
   "source": [
    "The way this works is that numpy.random.seed provides the input to the algorithm. The algorithm then generates pseudo-random numbers in NumPy. This input is called the 'Seed' value. The numpy.random.seed function is useless on it's own. It works in conjunction with other functions from the numpy.random package. In the examples above, we used numpy.random.seed along with numpy.random.randint which enabled us to create random integers. We could also use numpy.random.seed with numpy.random.normal to create normally distributed numbers. There are many other random functions in the package that enable us to generate random numbers, random samples, and samples from specific probability distributions.\n",
    "Looking at the above examples again, it is clear that we gave the pseudo-random number generator the same input twice and gog the same, you’ll get the same output.<br>\n",
    "The syntax of NumPy random seed is as seen below:"
   ]
  },
  {
   "cell_type": "markdown",
   "id": "3fd38cc9-7082-42d4-8d06-ac865242934f",
   "metadata": {},
   "source": [
    "![THE SYNTAX OF NUMPY RANDOM SEED](https://cdn-coiao.nitrocdn.com/CYHudqJZsSxQpAPzLkHFOkuzFKDpEHGF/assets/static/optimized/rev-46bfc56/wp-content/uploads/2019/05/numpy-random-seed_syntax.png)"
   ]
  },
  {
   "cell_type": "markdown",
   "id": "498c5252-34e5-444f-9991-0ebc4ac82bec",
   "metadata": {},
   "source": [
    "To use it, just call the function by name and then pass in a “seed” value inside the parenthesis. Let's use the NumPy random random function (np.random.random) to generate a random number between zero and one. This time we'll put the seed value as 0."
   ]
  },
  {
   "cell_type": "code",
   "execution_count": null,
   "id": "d1128e7f-0b08-40c8-bb10-0b5e88407e20",
   "metadata": {},
   "outputs": [],
   "source": [
    "np.random.seed(0)\n",
    "np.random.random()"
   ]
  },
  {
   "cell_type": "markdown",
   "id": "08269989-e095-4c72-9d2d-f9de14715ec5",
   "metadata": {},
   "source": [
    "let’s run it again with the same seed."
   ]
  },
  {
   "cell_type": "code",
   "execution_count": null,
   "id": "ef830817-1121-46bd-937a-cf976a374cc3",
   "metadata": {},
   "outputs": [],
   "source": [
    "np.random.seed(0)\n",
    "np.random.random()"
   ]
  },
  {
   "cell_type": "markdown",
   "id": "245533db-7364-49d3-80c4-5c240d76e7a0",
   "metadata": {},
   "source": [
    "Just like in the first example, the generated number is exactly the same as the first time we ran the code. A question we might ask ourselves at this point is what number should we pass through the parenthesis? It doesn't really matter, but the output of a numpy.random function will depend on the seed that you use. Let's get np.random.randint to generate an array of 5 integers between 0 and 99."
   ]
  },
  {
   "cell_type": "code",
   "execution_count": null,
   "id": "cb1e42fa-2d08-4fd7-aa70-a5869b0d3544",
   "metadata": {},
   "outputs": [],
   "source": [
    "np.random.seed(0)\n",
    "np.random.randint(99, size = 5)"
   ]
  },
  {
   "cell_type": "markdown",
   "id": "33eceddb-a2cf-4a36-8231-11c6d1d501f5",
   "metadata": {},
   "source": [
    "Now let's run the exact same code again but with a different seed."
   ]
  },
  {
   "cell_type": "code",
   "execution_count": null,
   "id": "60f8ddc4-cbcc-4353-bc3d-af7981a161e4",
   "metadata": {},
   "outputs": [],
   "source": [
    "np.random.seed(1)\n",
    "np.random.randint(99, size = 5)"
   ]
  },
  {
   "cell_type": "markdown",
   "id": "bf2cd7a6-0e10-4c59-855a-0dde6ad0a5a5",
   "metadata": {},
   "source": [
    "The output of a numpy.random function depends on the value of np.random.seed, however the choice of seed value is arbitrary. If we were to use a function from the numpy.random package (np.random.normal for exacmple) without using NumPy random seed first, Python would actually still use numpy.random.seed in the background. NumPy would generate a seed value from a part of our computer system (like /urandom on a Unix or Linux machine). In other words, if you don’t set a seed with numpy.random.seed, NumPy will set one for you. However, If we were to not set a seed value, our code would not have repeatable outputs. NumPy would generate a seed on its own, but that seed would vary and we wouldn't know it's value. This would make our outputs different every time we run it. So it is actually a good thing that this process is repeatable if we seed our values using numpy.random.seed. This is because code that has well defined, repeatable outputs is good for testing and sharing. The take home message here is that we should always use numpy.random.seed to get repeatable outputs."
   ]
  },
  {
   "cell_type": "code",
   "execution_count": null,
   "id": "eb0ddc0c-174e-435d-b4ec-2ee478dc7fda",
   "metadata": {},
   "outputs": [],
   "source": [
    "np.random.Generator "
   ]
  },
  {
   "cell_type": "code",
   "execution_count": null,
   "id": "008be857-166a-430d-a401-d06820c067ac",
   "metadata": {},
   "outputs": [],
   "source": [
    "# Do this (new version)\n",
    "from numpy.random import default_rng\n",
    "rng = default_rng()\n",
    "vals = rng.standard_normal(10)\n",
    "more_vals = rng.standard_normal(10)"
   ]
  },
  {
   "cell_type": "markdown",
   "id": "118da2b0-e678-4804-9ac2-c09481fc715c",
   "metadata": {},
   "source": [
    "When we observe the physical world we find random fluctuations everywhere. We can generate truly random numbers by measuring random fluctuations known as noise. When we measure this noise, known as 'sampling', we can obtain numbers. For example, if we were to measure the electric current of TV static over time, we would generate a truly random sequence. We can visualise this random sequence by drawing a path that changes direction according to each number. This is known as a random walk. Notice the lack of pattern at all scales. At each point in the sequence, the next move is always unpredictable. Random processes are 'nondeterministic' since they are impossible to determine in advance. Computers on the other hand are 'deterministic'. Their operation is predicatbele and repeatable. In 1946, John Von Neuman was involved in running computations for the military where he was involved in the design of the Hydrogen Bomb. Using a computer called the Eniac, he planned to repeatedly calculate approximations of the processes invloved in nuclear fission. This required quick access to randomly generated numbers that could be repeated if needed. The Eniac had very little internal memory. Storing long random sequences was not possible. To overcome this, Neuman developed and algorithm to mecahnically simulate the scrambling aspect of randomness as follows. First, select a seed value as discussed above. This seed is provided as imput to a simple calculation. Multiply the seed by itself and then output the middle of this result. This output is then used as the next seed and the process is repeated as many times as needed. This is knows as the 'middle squares method' and is just the first in a long line of pseudo-random number generators. "
   ]
  },
  {
   "cell_type": "markdown",
   "id": "091e7da4-aa35-4544-b787-c311a81e5eeb",
   "metadata": {},
   "source": [
    "## Binomial Distribution\n",
    "Binomial distribution is discrete version of normal distribution"
   ]
  },
  {
   "cell_type": "markdown",
   "id": "0731e88d-80f0-4268-9bd6-eeab4441fc74",
   "metadata": {},
   "source": [
    "Binomial distribution is discrete version of normal distribution"
   ]
  },
  {
   "cell_type": "code",
   "execution_count": null,
   "id": "dd2ad9a0-6e48-482a-85f4-d3c1fe2b7ad6",
   "metadata": {},
   "outputs": [],
   "source": [
    "# Setting the PRNG as PCG-64\n",
    "rng = np.random.default_rng(42)"
   ]
  },
  {
   "cell_type": "markdown",
   "id": "5233fcfe-ab8f-42a9-9e95-0a87b9fe4f00",
   "metadata": {},
   "source": [
    "Below is a picture of the hidden block spinner in Mario Party. If the arrow lands in the smaller segment, then the player recieves a star. If it lands in the larger segment, the player does not recive a star."
   ]
  },
  {
   "cell_type": "markdown",
   "id": "d701267d-c9d3-4c7f-b4f0-a40e13af764e",
   "metadata": {},
   "source": [
    "![Hidden Block](https://mario.wiki.gallery/images/9/98/SMP_Powderkeg_Hidden_Block.jpg)"
   ]
  },
  {
   "cell_type": "markdown",
   "id": "b30f8ca0-184e-4cfd-aac9-f56cdab12895",
   "metadata": {},
   "source": [
    "Here is the code that represents the Binomial distribution of the probability of the player recieving a star"
   ]
  },
  {
   "cell_type": "code",
   "execution_count": null,
   "id": "43182d26-8768-47d7-b4aa-ec158abf92e7",
   "metadata": {},
   "outputs": [],
   "source": [
    "hidden_block = rng.binomial(n=1, p=0.15, size=100000)"
   ]
  },
  {
   "cell_type": "code",
   "execution_count": null,
   "id": "9901a54e-1e5a-4199-8f6e-1412e656429c",
   "metadata": {},
   "outputs": [],
   "source": [
    "hidden_block"
   ]
  },
  {
   "cell_type": "code",
   "execution_count": null,
   "id": "7c4694fe-a7c2-4bae-9769-f5a0359b9a63",
   "metadata": {},
   "outputs": [],
   "source": [
    "#Function takes the array to be plotted, as well as strings from the x and y axis labels, and the title.\n",
    "#Kernel Density Estimate (KDE) and discrete arguments will default to False, although can be set to true if needed.\n",
    "def hist_plotting(array, xlabel, ylabel, title, kde=False, discrete = False):\n",
    "    \n",
    "    #Plotting the array as a histogram.\n",
    "    ax = sns.histplot(array, kde = kde, discrete = discrete)\n",
    "    \n",
    "    #Setting the x and y axis labels.\n",
    "    ax.set(xlabel = xlabel, ylabel = ylabel)\n",
    "    \n",
    "    #Setting the title.\n",
    "    ax.set_title(title)\n",
    "    \n",
    "    #Return the \"ax\" object.\n",
    "    return ax"
   ]
  },
  {
   "cell_type": "code",
   "execution_count": null,
   "id": "da1f924f-8c07-4537-927d-a06d33d0ec7c",
   "metadata": {},
   "outputs": [],
   "source": [
    "#Setting the hist_plotting function to the variable \"ax\" so that I can tidy up the x axis.\n",
    "ax = hist_plotting(hidden_block, 'Outcome', 'Count', \"Hidden Block\", discrete=True)"
   ]
  },
  {
   "cell_type": "code",
   "execution_count": null,
   "id": "175d132b-9054-457a-a931-21f0e51e713d",
   "metadata": {},
   "outputs": [],
   "source": []
  },
  {
   "cell_type": "markdown",
   "id": "cd3c900a-8c81-4ee5-b825-567dd9341264",
   "metadata": {},
   "source": [
    "## References\n",
    "[01][Towards Data Science - Why NumPy Is So Fundamental](https://towardsdatascience.com/why-numpy-is-so-fundamental-78ae2807300) <br>\n",
    "[02][Numpy.org - Random sampling (numpy.random)](https://numpy.org/doc/stable/reference/random/index.html)<br>\n",
    "[03][numpy.random.binomial](https://numpy.org/doc/stable/reference/random/generated/numpy.random.binomial.html?highlight=binomial#numpy.random.binomial)<br>\n",
    "[04][Random sampling (numpy.random)](https://numpy.org/doc/stable/reference/random/index.html)<br>\n",
    "[05][Sharp Sight - NumPy Random Seed, Explained](https://www.sharpsightlabs.com/blog/numpy-random-seed/#numpy-random-seed-examples)<br>\n",
    "[06][Sharp Sight - How to use numpy random normal in Python](https://www.sharpsightlabs.com/blog/numpy-random-normal/)<br>\n",
    "[07][Wolfram MathWorld - Pseudorandom Number](https://mathworld.wolfram.com/PseudorandomNumber.html)<br>\n",
    "[08][Wikipedia - Radom Walk](https://en.wikipedia.org/wiki/Random_walk)<br>"
   ]
  },
  {
   "cell_type": "markdown",
   "id": "06bd825a-7545-4760-8032-a9030d6c1705",
   "metadata": {},
   "source": [
    "***\n",
    "## End"
   ]
  },
  {
   "cell_type": "code",
   "execution_count": null,
   "id": "268a5ce8-cf76-415c-9d05-12cef78d8df3",
   "metadata": {},
   "outputs": [],
   "source": []
  }
 ],
 "metadata": {
  "kernelspec": {
   "display_name": "Python 3",
   "language": "python",
   "name": "python3"
  },
  "language_info": {
   "codemirror_mode": {
    "name": "ipython",
    "version": 3
   },
   "file_extension": ".py",
   "mimetype": "text/x-python",
   "name": "python",
   "nbconvert_exporter": "python",
   "pygments_lexer": "ipython3",
   "version": "3.8.8"
  }
 },
 "nbformat": 4,
 "nbformat_minor": 5
}
