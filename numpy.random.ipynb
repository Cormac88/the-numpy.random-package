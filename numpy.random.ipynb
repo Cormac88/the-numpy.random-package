{
 "cells": [
  {
   "cell_type": "markdown",
   "id": "27f643ca-ba6e-4b0e-81c5-70a43483a840",
   "metadata": {},
   "source": [
    "# The numpy.random Package\n",
    "\n",
    "[Official Documentation](https://numpy.org/doc/stable/reference/random/index.html)\n",
    "***"
   ]
  },
  {
   "cell_type": "markdown",
   "id": "a0b99ae8-f496-4a83-aec8-bb6c9d981ed8",
   "metadata": {},
   "source": [
    "Random is a module which generates pseudo-random numbers, Other module functions depend on the function random() to generate random numbers from different distributions depending on the function called within the random module. The Random module contains very useful functions.\n",
    "\n",
    "The Random module contains many functions for generating random numbers. Numpy's random module provides methods for obtaining random numbers from any of several distributions as well as covenient ways to choose random entries from an array and to randomly shuffle the contents of an array. The random module uses an algorithm called PCG64 pseudorandom generator (PRNG). The PCG64 algorithm has been recently updated from the Mersenne Twister algorithm.\n",
    "\n",
    "Random package is a sub package of the numpy package in Python. The numbers are not completely random from literature findings covered for this assignment. Random numbers are drawn from probability distribution."
   ]
  },
  {
   "cell_type": "markdown",
   "id": "eae418ed-cf35-40a0-ade7-142c08e97f23",
   "metadata": {},
   "source": [
    "## Packages to import for the notebook:"
   ]
  },
  {
   "cell_type": "code",
   "execution_count": 1,
   "id": "289dd77b-b9d3-4e81-bbc5-b654a1efbaaf",
   "metadata": {},
   "outputs": [],
   "source": [
    "%matplotlib inline\n",
    "import matplotlib.mlab as mlab\n",
    "import numpy as np\n",
    "import matplotlib.pyplot as plt\n",
    "import pandas as pd\n",
    "#import scipy\n",
    "from scipy.stats import norm\n",
    "from scipy import stats"
   ]
  },
  {
   "cell_type": "code",
   "execution_count": null,
   "id": "54a3ffac-b643-407d-851a-e934402f2cef",
   "metadata": {},
   "outputs": [],
   "source": []
  },
  {
   "cell_type": "code",
   "execution_count": null,
   "id": "6355cbaf-5a62-4117-a754-8618a9434341",
   "metadata": {},
   "outputs": [],
   "source": []
  },
  {
   "cell_type": "code",
   "execution_count": null,
   "id": "a416b592-318c-4d7c-a440-22e5950c6778",
   "metadata": {},
   "outputs": [],
   "source": []
  },
  {
   "cell_type": "code",
   "execution_count": null,
   "id": "5af552dd-ec86-426e-b8e7-327009a6884a",
   "metadata": {},
   "outputs": [],
   "source": []
  },
  {
   "cell_type": "markdown",
   "id": "06bd825a-7545-4760-8032-a9030d6c1705",
   "metadata": {},
   "source": [
    "***\n",
    "## End"
   ]
  },
  {
   "cell_type": "code",
   "execution_count": null,
   "id": "268a5ce8-cf76-415c-9d05-12cef78d8df3",
   "metadata": {},
   "outputs": [],
   "source": []
  }
 ],
 "metadata": {
  "kernelspec": {
   "display_name": "Python 3",
   "language": "python",
   "name": "python3"
  },
  "language_info": {
   "codemirror_mode": {
    "name": "ipython",
    "version": 3
   },
   "file_extension": ".py",
   "mimetype": "text/x-python",
   "name": "python",
   "nbconvert_exporter": "python",
   "pygments_lexer": "ipython3",
   "version": "3.8.8"
  }
 },
 "nbformat": 4,
 "nbformat_minor": 5
}
