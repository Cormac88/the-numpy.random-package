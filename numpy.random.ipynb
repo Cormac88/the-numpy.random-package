{
 "cells": [
  {
   "cell_type": "markdown",
   "id": "27f643ca-ba6e-4b0e-81c5-70a43483a840",
   "metadata": {},
   "source": [
    "# The numpy.random Package\n",
    "\n",
    "[Official Documentation](https://numpy.org/doc/stable/reference/random/index.html)\n",
    "***"
   ]
  },
  {
   "cell_type": "markdown",
   "id": "10b92e0f-f603-4028-bd96-78d224e86c27",
   "metadata": {},
   "source": [
    "<br>\n",
    "\n",
    "## What is Numpy?"
   ]
  },
  {
   "cell_type": "markdown",
   "id": "be6376ce-be8e-42f3-b564-71835195b90e",
   "metadata": {},
   "source": [
    "Numpy (Numerical Python) is one of the most useful libraries in python for data analysis. It is great because it can crunch numbers extremely fast. This is because the ndarray object encapsulates n-dimensional arrays of homogeneous data types, with many operations being performed in compiled code for performance. Users of NumPy can manage data in vectors, matrices and N-Dimensional Arrays (ndarray).[01] NumPy supports most Python libraries that do scientific or numerical computation. In fact it is the foundation of these libraries. This includes SciPy, Matplotlib, pandas, scikit-learn and scikit-image.[01]"
   ]
  },
  {
   "cell_type": "code",
   "execution_count": null,
   "id": "6dca92c6-3fb9-4ca2-81c2-06118f31a9e7",
   "metadata": {},
   "outputs": [],
   "source": []
  },
  {
   "cell_type": "code",
   "execution_count": null,
   "id": "64e0988b-5652-4d29-80e8-d680e7da24b5",
   "metadata": {},
   "outputs": [],
   "source": []
  },
  {
   "cell_type": "code",
   "execution_count": null,
   "id": "c0ac92bc-6ed1-4b12-bc82-bc0e18d0d5cb",
   "metadata": {},
   "outputs": [],
   "source": []
  },
  {
   "cell_type": "markdown",
   "id": "89182434-0cf7-482a-b04b-246233efbbd9",
   "metadata": {},
   "source": [
    "## Packages to import for the notebook:"
   ]
  },
  {
   "cell_type": "code",
   "execution_count": 1,
   "id": "a224f55e-bb06-45a8-bb8a-0d958e668e65",
   "metadata": {},
   "outputs": [],
   "source": [
    "%matplotlib inline\n",
    "import matplotlib.mlab as mlab\n",
    "import numpy as np\n",
    "import matplotlib.pyplot as plt\n",
    "import pandas as pd\n",
    "#import scipy\n",
    "from scipy.stats import norm\n",
    "from scipy import stats"
   ]
  },
  {
   "cell_type": "code",
   "execution_count": 2,
   "id": "87cf2965-d7ee-41b9-893d-a792d5991854",
   "metadata": {},
   "outputs": [
    {
     "data": {
      "text/plain": [
       "array([0.04538634, 0.61506496, 0.09792112])"
      ]
     },
     "execution_count": 2,
     "metadata": {},
     "output_type": "execute_result"
    }
   ],
   "source": [
    "#1\n",
    "a = np.random.random(3)\n",
    "a"
   ]
  },
  {
   "cell_type": "markdown",
   "id": "24495eb2-965d-4c24-b180-8a4a18e2648f",
   "metadata": {},
   "source": [
    "3 numbers as output. 3 means 3 numbers. What if we want to print out not just one row but 3 rows?"
   ]
  },
  {
   "cell_type": "code",
   "execution_count": 3,
   "id": "94446a6d-ee39-4c6b-a2ae-f45f857f8e29",
   "metadata": {},
   "outputs": [
    {
     "data": {
      "text/plain": [
       "array([[0.59176311, 0.42845994, 0.43607899],\n",
       "       [0.32079232, 0.55117176, 0.58840957],\n",
       "       [0.02676393, 0.99330602, 0.04199085]])"
      ]
     },
     "execution_count": 3,
     "metadata": {},
     "output_type": "execute_result"
    }
   ],
   "source": [
    "b = np.random.random((3, 3))\n",
    "b"
   ]
  },
  {
   "cell_type": "markdown",
   "id": "a0b99ae8-f496-4a83-aec8-bb6c9d981ed8",
   "metadata": {},
   "source": [
    "<br>\n",
    "\n",
    "## numpy.random\n",
    "\n",
    "Random is a module which generates pseudo-random numbers, Other module functions depend on the function random() to generate random numbers from different distributions depending on the function called within the random module. The Random module contains very useful functions.\n",
    "\n",
    "The Random module contains many functions for generating random numbers. Numpy's random module provides methods for obtaining random numbers from any of several distributions as well as covenient ways to choose random entries from an array and to randomly shuffle the contents of an array. The random module uses an algorithm called PCG64 pseudorandom generator (PRNG). The PCG64 algorithm has been recently updated from the Mersenne Twister algorithm.\n",
    "\n",
    "Random package is a sub package of the numpy package in Python. The numbers are not completely random from literature findings covered for this assignment. Random numbers are drawn from probability distribution.\n",
    "\n",
    "Numpy’s random number routines produce pseudo random numbers using combinations of a BitGenerator to create sequences and a Generator to use those sequences to sample from different statistical distributions.[02]\n",
    "- BitGenerators are objects that generate random numbers. These are typically unsigned integer words filled with sequences of either 32 or 64 random bits. [02]\n",
    "- Generators are objects that transform sequences of random bits from a BitGenerator into sequences of numbers that follow a specific probability distribution (such as uniform, Normal or Binomial) within a specified interval.[02]"
   ]
  },
  {
   "cell_type": "markdown",
   "id": "70f432b7-8139-4760-b4b6-e09414c32557",
   "metadata": {},
   "source": [
    "## Recent Upgrade to PCG-64 Algorithm"
   ]
  },
  {
   "cell_type": "markdown",
   "id": "5fe6a703-0329-48d4-bb99-a6290c56c7a4",
   "metadata": {},
   "source": [
    "In the versions before Numpy v1.19, the numpy.random module was using the Mersenne Twister (MT19937) algorithm to generate pseudorandom numbers. Now, the Permutation Congruential generator (PCG-64) algorithm is used. Developed in 2014, the PCG-64 is a 128-bit implementation of O’Neill’s permutation congruential generator. The main reasons for the upgrade to this new algorithm are:\n",
    "\n",
    "1. When put to the test in the scientific paper \"TestU01: A C Library for Empirical Testing of Random Number Generators\", the researchers came to the conclusion that MT19937 performed poorly on statistical tests. It was discovered that there is a high level of predictability to the pseudorandom number sequences generated by this algorithm. The seed number could be figured out quite easily making it insecure.\n",
    "2. MT19937 is relatively slow when compared to the best algorithms of today in the paper \"PCG: AFamily of Simple Fast Space-Efficient Statistically GoodAlgorithms for Random NumberGeneration\". This paper highlights that the MT19937 algorithm's speed measured in Gb/s (Giga bytes per second). The test used in this paper is the \"TestU01\" test. This test works by performing some statistically well understood task using a candidate generator and then checking the plausibility of the results. It should be noted also that all members of the PCG-64 algorithm are faster than other generators in their class. This paper also shows that the MT19937 algorithm is insecure just like the paper mentioned above. This is because the TestU01's “linear complexity” test was able to spot nonrandom behaviour within 5 seconds. In contrast, some of the more robust candidates (algorithms) for the test in the TestU01 library can take hours to days to run. This clearly shows that MT19937 fell down at one of the earliest challenges put to it by TestU01[12].\n",
    "To use the new algorithm PCG-64, instead of using numpy.random.seed, we should now use np.random.default_rng(). It is commonplace to use rng is the object as seen below."
   ]
  },
  {
   "cell_type": "code",
   "execution_count": 4,
   "id": "ca1dde63-d146-4294-9dd9-4a723039f6d7",
   "metadata": {},
   "outputs": [
    {
     "name": "stdout",
     "output_type": "stream",
     "text": [
      "Generator(PCG64)\n"
     ]
    }
   ],
   "source": [
    "rng = np.random.default_rng(12345)\n",
    "print(rng)"
   ]
  },
  {
   "cell_type": "markdown",
   "id": "9f6a422d-597f-45d5-a828-e6822c626b65",
   "metadata": {},
   "source": [
    "The output here shows that the object rng has created an instance of Generator. Below we use this instance of Generator to create a random float of class float.The Generator is the user-facing object that is nearly identical to the legacy RandomState. It accepts a bit generator instance as an argument."
   ]
  },
  {
   "cell_type": "code",
   "execution_count": 5,
   "id": "e93c5cbf-c8c3-41b3-8242-dc92d3907831",
   "metadata": {},
   "outputs": [
    {
     "data": {
      "text/plain": [
       "0.22733602246716966"
      ]
     },
     "execution_count": 5,
     "metadata": {},
     "output_type": "execute_result"
    }
   ],
   "source": [
    "rfloat = rng.random()\n",
    "rfloat"
   ]
  },
  {
   "cell_type": "code",
   "execution_count": 6,
   "id": "8141d763-8221-4114-98fa-43ee99abf059",
   "metadata": {},
   "outputs": [
    {
     "data": {
      "text/plain": [
       "float"
      ]
     },
     "execution_count": 6,
     "metadata": {},
     "output_type": "execute_result"
    }
   ],
   "source": [
    "type(rfloat)"
   ]
  },
  {
   "cell_type": "markdown",
   "id": "d69aeefc-61b4-417e-87b5-b84f1a40ece0",
   "metadata": {},
   "source": [
    "If we needed to use the old MT19937 generator for whatever reason, we can do so by passing it as an argument to the Generator function. This is not recommended though but may be done. The following code is needed:"
   ]
  },
  {
   "cell_type": "code",
   "execution_count": 7,
   "id": "1cde39e3-e5b2-4c59-9558-6c542c289336",
   "metadata": {},
   "outputs": [
    {
     "data": {
      "text/plain": [
       "0.37786929937474845"
      ]
     },
     "execution_count": 7,
     "metadata": {},
     "output_type": "execute_result"
    }
   ],
   "source": [
    "from numpy.random import Generator, MT19937\n",
    "rg = Generator(MT19937(12345))\n",
    "rg.random()"
   ]
  },
  {
   "cell_type": "markdown",
   "id": "0ba091f8-903c-4186-ae43-af03493ba263",
   "metadata": {},
   "source": [
    "## Seeds in Generating Pseudorandom Numbers"
   ]
  },
  {
   "cell_type": "markdown",
   "id": "297e22f0-8e6a-42e5-8191-2b521490a8fb",
   "metadata": {},
   "source": [
    "To understand the meaning of what it is to seed a random number generator, firstly we need to know a little bit about pseudo-random numbers. The definition of a pseudorandom number according to Wolfram Mathworld is 'a computer-generated random number'. The definition goes onto explain that 'The prefix pseudo- is used to distinguish this type of number from a “truly” random number generated by a random physical process such as radioactive decay'. A computer by design is inherintly deterministic, meaning that if you give a computer an input, it will precisely follow instructions to produce an output. Also, if a computer is given that imput again it will produce the exact same output. This means that computers do not behave randomly.\n",
    "\n",
    "Algorithms have been developed to create psuedo random numbers called 'peudo-random number generators'(PRNGs). Since a computer executes these algorithms they are still completely deterministic, but these PRMGs approximate the properties of random numbers. They appear to be random.\n",
    "\n",
    "Below are some pseudo-random numbers with the NumPy randint function:"
   ]
  },
  {
   "cell_type": "code",
   "execution_count": 8,
   "id": "c92a82fe-3800-4f34-9316-06dbe0889fb2",
   "metadata": {},
   "outputs": [
    {
     "data": {
      "text/plain": [
       "array([5, 5, 7, 9, 1, 2, 8, 9, 3, 3, 8, 4, 3, 8, 3, 4, 6, 5, 1, 1, 8, 7,\n",
       "       8, 5, 8, 3, 5, 8, 2, 3, 2, 5, 9, 2, 4, 4, 9, 2, 5, 3, 1, 7, 1, 3,\n",
       "       5, 5, 2, 9, 7, 9], dtype=int64)"
      ]
     },
     "execution_count": 8,
     "metadata": {},
     "output_type": "execute_result"
    }
   ],
   "source": [
    "rng = np.random.default_rng(1)\n",
    "rints = rng.integers(low = 1, high = 10, size = 50)\n",
    "rints"
   ]
  },
  {
   "cell_type": "code",
   "execution_count": 9,
   "id": "ed725e91-48cb-446a-8882-885ff5798bfd",
   "metadata": {},
   "outputs": [
    {
     "data": {
      "text/plain": [
       "array([6, 9, 6, 1, 1, 2, 8, 7, 3, 5, 6, 3, 5, 3, 5, 8, 8, 2, 8, 1, 7, 8,\n",
       "       7, 2, 1, 2, 9, 9, 4, 9, 8, 4, 7, 6, 2, 4, 5, 9, 2, 5, 1, 4, 3, 1,\n",
       "       5, 3, 8, 8, 9, 7])"
      ]
     },
     "execution_count": 9,
     "metadata": {},
     "output_type": "execute_result"
    }
   ],
   "source": [
    "#Legacy code\n",
    "np.random.seed(1)\n",
    "np.random.randint(low = 1, high = 10, size = 50)"
   ]
  },
  {
   "cell_type": "markdown",
   "id": "ab7a26f6-f892-4327-abdc-b81b5348e48f",
   "metadata": {},
   "source": [
    "Although these numbers look random, they are actually determined by the algorithm. Further, if we were to run this code again, we would get the exact same numbers. This is because, as said earlier, when we give a computer an input, it will precisely follow instructions to produce an output. This means that pseudo-random number generators are deterministic and repeatable. Pseudo-random number generators can create and then re-create the exact same set of pseudo-random numbers. We'll now use the exact same code as above using NumPy's randint function again and with the exact same seed as before."
   ]
  },
  {
   "cell_type": "code",
   "execution_count": 10,
   "id": "eff9cd26-a6f2-4493-9a2d-e61e50843e1e",
   "metadata": {},
   "outputs": [
    {
     "data": {
      "text/plain": [
       "array([5, 5, 7, 9, 1, 2, 8, 9, 3, 3, 8, 4, 3, 8, 3, 4, 6, 5, 1, 1, 8, 7,\n",
       "       8, 5, 8, 3, 5, 8, 2, 3, 2, 5, 9, 2, 4, 4, 9, 2, 5, 3, 1, 7, 1, 3,\n",
       "       5, 5, 2, 9, 7, 9], dtype=int64)"
      ]
     },
     "execution_count": 10,
     "metadata": {},
     "output_type": "execute_result"
    }
   ],
   "source": [
    "rng = np.random.default_rng(1)\n",
    "rints = rng.integers(low = 1, high = 10, size = 50)\n",
    "rints"
   ]
  },
  {
   "cell_type": "code",
   "execution_count": 11,
   "id": "48a6d780-cc22-48ae-a173-839925aa76a6",
   "metadata": {},
   "outputs": [
    {
     "data": {
      "text/plain": [
       "array([6, 9, 6, 1, 1, 2, 8, 7, 3, 5, 6, 3, 5, 3, 5, 8, 8, 2, 8, 1, 7, 8,\n",
       "       7, 2, 1, 2, 9, 9, 4, 9, 8, 4, 7, 6, 2, 4, 5, 9, 2, 5, 1, 4, 3, 1,\n",
       "       5, 3, 8, 8, 9, 7])"
      ]
     },
     "execution_count": 11,
     "metadata": {},
     "output_type": "execute_result"
    }
   ],
   "source": [
    "#Legacy code\n",
    "np.random.seed(1)\n",
    "np.random.randint(low = 1, high = 10, size = 50)"
   ]
  },
  {
   "cell_type": "markdown",
   "id": "eefd598f-0194-42b5-b558-a7fd4920080a",
   "metadata": {},
   "source": [
    "The way this works is that numpy.random.seed provides the input to the algorithm. The algorithm then generates pseudo-random numbers in NumPy. This input is called the 'Seed' value. The numpy.random.seed function is useless on it's own. It works in conjunction with other functions from the numpy.random package. In the examples above, we used numpy.random.seed along with numpy.random.randint which enabled us to create random integers. We could also use numpy.random.seed with numpy.random.normal to create normally distributed numbers. There are many other random functions in the package that enable us to generate random numbers, random samples, and samples from specific probability distributions.\n",
    "Looking at the above examples again, it is clear that we gave the pseudo-random number generator the same input twice and gog the same, you’ll get the same output.<br>\n",
    "The syntax of NumPy random seed is as seen below:"
   ]
  },
  {
   "cell_type": "markdown",
   "id": "3fd38cc9-7082-42d4-8d06-ac865242934f",
   "metadata": {},
   "source": [
    "![THE SYNTAX OF NUMPY RANDOM SEED](https://cdn-coiao.nitrocdn.com/CYHudqJZsSxQpAPzLkHFOkuzFKDpEHGF/assets/static/optimized/rev-46bfc56/wp-content/uploads/2019/05/numpy-random-seed_syntax.png)"
   ]
  },
  {
   "cell_type": "markdown",
   "id": "498c5252-34e5-444f-9991-0ebc4ac82bec",
   "metadata": {},
   "source": [
    "To use it, just call the function by name and then pass in a “seed” value inside the parenthesis. Let's use the NumPy random random function (np.random.random) to generate a random number between zero and one. This time we'll put the seed value as 0."
   ]
  },
  {
   "cell_type": "code",
   "execution_count": 12,
   "id": "202e27be-6b72-4437-9778-69c854fa3137",
   "metadata": {},
   "outputs": [
    {
     "data": {
      "text/plain": [
       "0.6369616873214543"
      ]
     },
     "execution_count": 12,
     "metadata": {},
     "output_type": "execute_result"
    }
   ],
   "source": [
    "rng = np.random.default_rng(0)\n",
    "rfloat = rng.random()\n",
    "rfloat"
   ]
  },
  {
   "cell_type": "code",
   "execution_count": 13,
   "id": "d1128e7f-0b08-40c8-bb10-0b5e88407e20",
   "metadata": {},
   "outputs": [
    {
     "data": {
      "text/plain": [
       "0.5488135039273248"
      ]
     },
     "execution_count": 13,
     "metadata": {},
     "output_type": "execute_result"
    }
   ],
   "source": [
    "#Legacy code\n",
    "np.random.seed(0)\n",
    "np.random.random()"
   ]
  },
  {
   "cell_type": "markdown",
   "id": "08269989-e095-4c72-9d2d-f9de14715ec5",
   "metadata": {},
   "source": [
    "let’s run it again with the same seed."
   ]
  },
  {
   "cell_type": "code",
   "execution_count": 14,
   "id": "33151afd-ddc9-4bb4-85c6-21b17f394d4b",
   "metadata": {},
   "outputs": [
    {
     "data": {
      "text/plain": [
       "0.6369616873214543"
      ]
     },
     "execution_count": 14,
     "metadata": {},
     "output_type": "execute_result"
    }
   ],
   "source": [
    "rng = np.random.default_rng(0)\n",
    "rfloat = rng.random()\n",
    "rfloat"
   ]
  },
  {
   "cell_type": "code",
   "execution_count": 15,
   "id": "ef830817-1121-46bd-937a-cf976a374cc3",
   "metadata": {},
   "outputs": [
    {
     "data": {
      "text/plain": [
       "0.5488135039273248"
      ]
     },
     "execution_count": 15,
     "metadata": {},
     "output_type": "execute_result"
    }
   ],
   "source": [
    "#Legacy code\n",
    "np.random.seed(0)\n",
    "np.random.random()"
   ]
  },
  {
   "cell_type": "markdown",
   "id": "245533db-7364-49d3-80c4-5c240d76e7a0",
   "metadata": {},
   "source": [
    "Just like in the first example, the generated number is exactly the same as the first time we ran the code. A question we might ask ourselves at this point is what number should we pass through the parenthesis? It doesn't really matter, but the output of a numpy.random function will depend on the seed that you use. Let's get np.random.randint to generate an array of 5 integers between 0 and 99."
   ]
  },
  {
   "cell_type": "code",
   "execution_count": 16,
   "id": "0c22b187-4eb8-4681-8a48-5f38a4aac57a",
   "metadata": {},
   "outputs": [
    {
     "data": {
      "text/plain": [
       "array([84, 63, 50, 26, 30], dtype=int64)"
      ]
     },
     "execution_count": 16,
     "metadata": {},
     "output_type": "execute_result"
    }
   ],
   "source": [
    "rng = np.random.default_rng(0)\n",
    "rints = rng.integers(99, size = 5)\n",
    "rints"
   ]
  },
  {
   "cell_type": "code",
   "execution_count": 17,
   "id": "cb1e42fa-2d08-4fd7-aa70-a5869b0d3544",
   "metadata": {},
   "outputs": [
    {
     "data": {
      "text/plain": [
       "array([44, 47, 64, 67, 67])"
      ]
     },
     "execution_count": 17,
     "metadata": {},
     "output_type": "execute_result"
    }
   ],
   "source": [
    "#Legacy code\n",
    "np.random.seed(0)\n",
    "np.random.randint(99, size = 5)"
   ]
  },
  {
   "cell_type": "markdown",
   "id": "33eceddb-a2cf-4a36-8231-11c6d1d501f5",
   "metadata": {},
   "source": [
    "Now let's run the exact same code again but with a different seed."
   ]
  },
  {
   "cell_type": "code",
   "execution_count": 18,
   "id": "7d08d1c9-e5c4-4712-b5c8-1655c89246d6",
   "metadata": {},
   "outputs": [
    {
     "data": {
      "text/plain": [
       "array([46, 50, 74, 94,  3], dtype=int64)"
      ]
     },
     "execution_count": 18,
     "metadata": {},
     "output_type": "execute_result"
    }
   ],
   "source": [
    "rng = np.random.default_rng(1)\n",
    "rints = rng.integers(99, size = 5)\n",
    "rints"
   ]
  },
  {
   "cell_type": "code",
   "execution_count": 19,
   "id": "60f8ddc4-cbcc-4353-bc3d-af7981a161e4",
   "metadata": {},
   "outputs": [
    {
     "data": {
      "text/plain": [
       "array([37, 12, 72,  9, 75])"
      ]
     },
     "execution_count": 19,
     "metadata": {},
     "output_type": "execute_result"
    }
   ],
   "source": [
    "#Legacy code\n",
    "np.random.seed(1)\n",
    "np.random.randint(99, size = 5)"
   ]
  },
  {
   "cell_type": "markdown",
   "id": "bf2cd7a6-0e10-4c59-855a-0dde6ad0a5a5",
   "metadata": {},
   "source": [
    "The output of a numpy.random function depends on the value of np.random.seed, however the choice of seed value is arbitrary. If we were to use a function from the numpy.random package (np.random.normal for exacmple) without using NumPy random seed first, Python would actually still use numpy.random.seed in the background. NumPy would generate a seed value from a part of our computer system (like /urandom on a Unix or Linux machine). In other words, if you don’t set a seed with numpy.random.seed, NumPy will set one for you. However, If we were to not set a seed value, our code would not have repeatable outputs. NumPy would generate a seed on its own, but that seed would vary and we wouldn't know it's value. This would make our outputs different every time we run it. So it is actually a good thing that this process is repeatable if we seed our values using numpy.random.seed. This is because code that has well defined, repeatable outputs is good for testing and sharing. The take home message here is that we should always use numpy.random.seed to get repeatable outputs."
   ]
  },
  {
   "cell_type": "code",
   "execution_count": 20,
   "id": "eb0ddc0c-174e-435d-b4ec-2ee478dc7fda",
   "metadata": {},
   "outputs": [
    {
     "data": {
      "text/plain": [
       "numpy.random._generator.Generator"
      ]
     },
     "execution_count": 20,
     "metadata": {},
     "output_type": "execute_result"
    }
   ],
   "source": [
    "np.random.Generator "
   ]
  },
  {
   "cell_type": "code",
   "execution_count": 21,
   "id": "008be857-166a-430d-a401-d06820c067ac",
   "metadata": {},
   "outputs": [],
   "source": [
    "# Do this (new version)\n",
    "from numpy.random import default_rng\n",
    "rng = default_rng()\n",
    "vals = rng.standard_normal(10)\n",
    "more_vals = rng.standard_normal(10)"
   ]
  },
  {
   "cell_type": "markdown",
   "id": "118da2b0-e678-4804-9ac2-c09481fc715c",
   "metadata": {},
   "source": [
    "When we observe the physical world we find random fluctuations everywhere. We can generate truly random numbers by measuring random fluctuations known as noise. When we measure this noise, known as 'sampling', we can obtain numbers. For example, if we were to measure the electric current of TV static over time, we would generate a truly random sequence. We can visualise this random sequence by drawing a path that changes direction according to each number. This is known as a random walk. Notice the lack of pattern at all scales. At each point in the sequence, the next move is always unpredictable. Random processes are 'nondeterministic' since they are impossible to determine in advance. Computers on the other hand are 'deterministic'. Their operation is predicatbele and repeatable. In 1946, John Von Neuman was involved in running computations for the military where he was involved in the design of the Hydrogen Bomb. Using a computer called the Eniac, he planned to repeatedly calculate approximations of the processes invloved in nuclear fission. This required quick access to randomly generated numbers that could be repeated if needed. The Eniac had very little internal memory. Storing long random sequences was not possible. To overcome this, Neuman developed and algorithm to mecahnically simulate the scrambling aspect of randomness as follows. First, select a seed value as discussed above. This seed is provided as imput to a simple calculation. Multiply the seed by itself and then output the middle of this result. This output is then used as the next seed and the process is repeated as many times as needed. This is knows as the 'middle squares method' and is just the first in a long line of pseudo-random number generators. The randomness of the sequence is dependent on the randomness of the inital seed only. Same seed, same sequence. So what are the differnces between a randomly generated vs pseudo-randomly generated sequences? If we were to represend each sequence as a random walk, they seem similar until speeded up. A pseudo-random sequence must eventually repeat. This occurs when the algorithm reaches a seed it has previously used and the cycle repeats. The length before a pseudo-random sequence repeats is called the period. The period is strictly limited by the length of the initial seed. For example, if we use a 2-digit seed, then an algorithm can produce at most 100 numbers before reusing a seed and repeating the cycle. A 3-digit seed can expand passed 1000 numbers before repeating its cycle. A 4-digit seed can expand 10,000 numbers before repeating. If we use a seed large enough, the sequence can expand into trillions of digits before repeating. The key difference is important. When we generate numbers pseudo-randomly, there are many sequences which cannot occur. When we move from random to pseudo-random shifts, we shrink the key space into a much much smaller seed space. So for a pseudo-random sequence to be indistinguishable from a randomly generated sequence, it must be impractical for a computer to try all seeds and look for a match. This leads to an important distiction in computer science between what is possible vs what is possible in a reasonable amount of time. We use the same logic when we buy a bike lock. We know that anybody can simply try all possible combinations until they find a match and it opens. But it would take them days to do so. So for 8 hours, we assume it's practically safe. With pseudo-random generators, the security inceases as the length of the seed increases. If the most powerful computer would take hundreds of years to run through all seeds, then we can safely assume that it's practically secure instead of perfectly secure. As computers get faster, the seed size must increase accordingly."
   ]
  },
  {
   "cell_type": "markdown",
   "id": "b52731ad-a5fd-472e-bdce-95276c713634",
   "metadata": {},
   "source": [
    "## Simple Random Data"
   ]
  },
  {
   "cell_type": "markdown",
   "id": "60580703-3091-4423-b019-cb959fbf12cf",
   "metadata": {},
   "source": [
    "The Simple Random Data functions in the NumPy package are integers (numpy.random.Generator.integers), random (numpy.random.Generator.random), choice (numpy.random.Generator.choice) and bytes (numpy.random.Generator.bytes). "
   ]
  },
  {
   "cell_type": "markdown",
   "id": "d1fb228d-849e-468e-ae19-e083b93eb3df",
   "metadata": {},
   "source": [
    "### Integers"
   ]
  },
  {
   "cell_type": "markdown",
   "id": "d9dad606-6e99-4bd6-bf57-c53a90a2316d",
   "metadata": {},
   "source": [
    "The integer function return random integers. To start, let's create an rng with a seed value of 42. "
   ]
  },
  {
   "cell_type": "code",
   "execution_count": 22,
   "id": "22d3eb7e-eb3c-4b20-ad59-26ca06d66d65",
   "metadata": {},
   "outputs": [],
   "source": [
    "rng = np.random.default_rng(42)"
   ]
  },
  {
   "cell_type": "markdown",
   "id": "1cc47f6b-112a-4f74-a2f8-e9872e4947d4",
   "metadata": {},
   "source": [
    "We can call the function by writing ``rng.integers()``. Something must be passed as an argument through the parenthesis though otherwise we will get an error."
   ]
  },
  {
   "cell_type": "markdown",
   "id": "c0c5b04e-61fc-42d3-a539-05802d3e5c66",
   "metadata": {},
   "source": [
    "The default parameters are rng.integers(low, high=None, size=None, dtype=np.int64, endpoint=False) Let's take a look at the parameters:"
   ]
  },
  {
   "cell_type": "markdown",
   "id": "3b58e727-defd-4058-a08a-35a12aef7ae6",
   "metadata": {},
   "source": [
    "Let's start by simply passing one number as an argument, 5."
   ]
  },
  {
   "cell_type": "code",
   "execution_count": 23,
   "id": "65ffa375-a05b-4ae9-b989-6b33a45b8b2b",
   "metadata": {},
   "outputs": [
    {
     "data": {
      "text/plain": [
       "0"
      ]
     },
     "execution_count": 23,
     "metadata": {},
     "output_type": "execute_result"
    }
   ],
   "source": [
    "rng.integers(5)"
   ]
  },
  {
   "cell_type": "markdown",
   "id": "19e52362-19cb-4f0c-8baf-cc8ab5c6bbd2",
   "metadata": {},
   "source": [
    "This gives a random integer in the range from 0 to 4. This is because the 'high' value is exclusive, meaning that the range will stop at one integer value before the 'high' value, 5 in this case. The 'low' value is 0 by default. In the function below, we have asked the integers function to give us one random integer in the range from 1 to 9. "
   ]
  },
  {
   "cell_type": "code",
   "execution_count": 24,
   "id": "b679ddac-dffc-4e2a-bd4b-e1051291b429",
   "metadata": {},
   "outputs": [
    {
     "data": {
      "text/plain": [
       "7"
      ]
     },
     "execution_count": 24,
     "metadata": {},
     "output_type": "execute_result"
    }
   ],
   "source": [
    "rng.integers(1, 10)"
   ]
  },
  {
   "cell_type": "markdown",
   "id": "4ce844fb-b52f-46d6-8a6e-34545b3eca7f",
   "metadata": {},
   "source": [
    "Let's confirm that the 'high' number is exclusive by asking the integer function to give us 10 random integers in the range of 0 to 1 by setting the high value to 2 and using the 'size' parameter. The 'size' parameter is the output shape, meaning that if we pass ``size = 10`` through the function, we will get 10 intgers out."
   ]
  },
  {
   "cell_type": "code",
   "execution_count": 25,
   "id": "9aa1b413-3b62-4b40-9e2a-6f3d3a28cb8f",
   "metadata": {},
   "outputs": [
    {
     "data": {
      "text/plain": [
       "array([1, 0, 0, 1, 0, 1, 0, 0, 1, 1], dtype=int64)"
      ]
     },
     "execution_count": 25,
     "metadata": {},
     "output_type": "execute_result"
    }
   ],
   "source": [
    "rng.integers(2, size = 10)"
   ]
  },
  {
   "cell_type": "code",
   "execution_count": 26,
   "id": "4658a191-984b-455b-9438-aebc7bbec327",
   "metadata": {},
   "outputs": [
    {
     "data": {
      "text/plain": [
       "array([2, 2, 2, 2, 1, 0, 2, 1, 1, 1], dtype=int64)"
      ]
     },
     "execution_count": 26,
     "metadata": {},
     "output_type": "execute_result"
    }
   ],
   "source": [
    "rng.integers(2, size = 10, endpoint = True)"
   ]
  },
  {
   "cell_type": "markdown",
   "id": "d7591204-1419-4bf3-8c25-984bb7dfedfe",
   "metadata": {},
   "source": [
    "We can see here that changing 'endpoint' to true gave us some 2's, showing us that changing 'endpoint' to true forces the function to include the 'high' value.<br>\n",
    "Now let's pass a tuple for the 'size' paramater and see what happens."
   ]
  },
  {
   "cell_type": "code",
   "execution_count": 27,
   "id": "9c51423c-fd3f-484f-b26a-68a0f914171f",
   "metadata": {},
   "outputs": [
    {
     "data": {
      "text/plain": [
       "array([[0, 4, 3, 3],\n",
       "       [2, 4, 2, 2]], dtype=int64)"
      ]
     },
     "execution_count": 27,
     "metadata": {},
     "output_type": "execute_result"
    }
   ],
   "source": [
    "rints_1 = rng.integers(5, size = (2, 4))\n",
    "rints_1"
   ]
  },
  {
   "cell_type": "code",
   "execution_count": 28,
   "id": "f59b9507-9344-4602-9b79-b011b7b2493c",
   "metadata": {},
   "outputs": [
    {
     "data": {
      "text/plain": [
       "1"
      ]
     },
     "execution_count": 28,
     "metadata": {},
     "output_type": "execute_result"
    }
   ],
   "source": [
    "rints.ndim"
   ]
  },
  {
   "cell_type": "markdown",
   "id": "52eda24f-c028-48a8-bee2-e1132b2e077f",
   "metadata": {},
   "source": [
    "The output here is a NumPy array. This is a 2 x 4 2 dimensional array of integers between 0 and 4. Let's now try a bigger shape."
   ]
  },
  {
   "cell_type": "code",
   "execution_count": 29,
   "id": "4f16bae4-56ff-4e8a-a8fa-3914b6e9d753",
   "metadata": {},
   "outputs": [
    {
     "data": {
      "text/plain": [
       "array([[[2, 1],\n",
       "        [0, 2],\n",
       "        [4, 0],\n",
       "        [4, 4]],\n",
       "\n",
       "       [[1, 3],\n",
       "        [0, 3],\n",
       "        [3, 1],\n",
       "        [0, 4]]], dtype=int64)"
      ]
     },
     "execution_count": 29,
     "metadata": {},
     "output_type": "execute_result"
    }
   ],
   "source": [
    "rints_2 = rng.integers(5, size = (2, 4, 2))\n",
    "rints_2"
   ]
  },
  {
   "cell_type": "markdown",
   "id": "27cb112c-80a5-45b6-ab81-f2511b7b6ecd",
   "metadata": {},
   "source": [
    "The output here is a 2 x 4 x 2 3 dimensional array of integers between 0 and 4."
   ]
  },
  {
   "cell_type": "code",
   "execution_count": 30,
   "id": "87b647ad-6085-4021-8ef2-17687248d11a",
   "metadata": {},
   "outputs": [
    {
     "data": {
      "text/plain": [
       "3"
      ]
     },
     "execution_count": 30,
     "metadata": {},
     "output_type": "execute_result"
    }
   ],
   "source": [
    "rints_2.ndim"
   ]
  },
  {
   "cell_type": "markdown",
   "id": "42d4a106-e0bb-4038-8d7c-50683923e825",
   "metadata": {},
   "source": [
    "We can also pass an array of integers as the 'high' value which will give us a set of upper bounds. For example, let's generate a 1 x 2 array with 2 different upper bounds."
   ]
  },
  {
   "cell_type": "code",
   "execution_count": 31,
   "id": "6a4dc275-022d-46e0-947a-3c1551388c8e",
   "metadata": {},
   "outputs": [
    {
     "data": {
      "text/plain": [
       "array([1, 4], dtype=int64)"
      ]
     },
     "execution_count": 31,
     "metadata": {},
     "output_type": "execute_result"
    }
   ],
   "source": [
    "rng.integers(1, [3, 5])"
   ]
  },
  {
   "cell_type": "markdown",
   "id": "6fdd4bd1-abac-4672-bca2-ea8f3bb8bb0a",
   "metadata": {},
   "source": [
    "Above, the 1 is the lower limit. The first integer generated must be between 1 and 2 and second integer must be between 1 and 4"
   ]
  },
  {
   "cell_type": "markdown",
   "id": "9f962dcb-191f-4b00-bf5a-f970adec348c",
   "metadata": {},
   "source": [
    "Now let's generate a 1 x 3 array with 3 different upper bounds. "
   ]
  },
  {
   "cell_type": "code",
   "execution_count": 32,
   "id": "08778ff2-d3be-4d94-8239-a979cc186aec",
   "metadata": {},
   "outputs": [
    {
     "data": {
      "text/plain": [
       "array([2, 4, 7], dtype=int64)"
      ]
     },
     "execution_count": 32,
     "metadata": {},
     "output_type": "execute_result"
    }
   ],
   "source": [
    "rng.integers(1, [3, 5, 10])"
   ]
  },
  {
   "cell_type": "markdown",
   "id": "87b68de8-7316-485f-bf3f-9210c707d204",
   "metadata": {},
   "source": [
    "Above, the 1 is the lower limit. The first integer generated must be between 1 and 2, the second integer must be between 1 and 4 and third integer must be between 1 and 9. The same can be done for lower boundaries."
   ]
  },
  {
   "cell_type": "code",
   "execution_count": 33,
   "id": "24209c78-3a05-4082-80cf-f62d9cbc4a63",
   "metadata": {},
   "outputs": [
    {
     "data": {
      "text/plain": [
       "array([2, 8], dtype=int64)"
      ]
     },
     "execution_count": 33,
     "metadata": {},
     "output_type": "execute_result"
    }
   ],
   "source": [
    "rng.integers([1, 7], 10)"
   ]
  },
  {
   "cell_type": "code",
   "execution_count": 34,
   "id": "a8d2a692-2257-47ae-8703-a1d41be48003",
   "metadata": {},
   "outputs": [
    {
     "data": {
      "text/plain": [
       "array([5, 7, 7], dtype=int64)"
      ]
     },
     "execution_count": 34,
     "metadata": {},
     "output_type": "execute_result"
    }
   ],
   "source": [
    "# Another example\n",
    "rng.integers([1, 5, 7], 10)"
   ]
  },
  {
   "cell_type": "markdown",
   "id": "eb43ac94-e40b-4dc7-bff5-07e998130ea0",
   "metadata": {},
   "source": [
    "Let's generate 3 random integers with 3 different sets of lower and upper bounds."
   ]
  },
  {
   "cell_type": "code",
   "execution_count": 35,
   "id": "b24654c1-b99a-418c-b293-cf4ff015e678",
   "metadata": {},
   "outputs": [
    {
     "data": {
      "text/plain": [
       "array([2, 1, 9], dtype=int64)"
      ]
     },
     "execution_count": 35,
     "metadata": {},
     "output_type": "execute_result"
    }
   ],
   "source": [
    "rng.integers([1, 1, 8], [3, 5, 10])"
   ]
  },
  {
   "cell_type": "markdown",
   "id": "71ac1f5a-8d98-4437-8895-0a17a2fba753",
   "metadata": {},
   "source": [
    "Above, the first integer generated must be between 1 and 2, the second integer must be between 1 and 4 and third integer must be between 8 and 9"
   ]
  },
  {
   "cell_type": "code",
   "execution_count": 36,
   "id": "c1fa60d2-a684-4c7c-89c5-eafdb6e77d61",
   "metadata": {},
   "outputs": [
    {
     "data": {
      "text/plain": [
       "array([7, 9, 9], dtype=int64)"
      ]
     },
     "execution_count": 36,
     "metadata": {},
     "output_type": "execute_result"
    }
   ],
   "source": [
    "# Another example\n",
    "rng.integers([1, 5, 7], [10, 10, 10])"
   ]
  },
  {
   "cell_type": "markdown",
   "id": "ecbe86fe-dbe1-4bdd-80a1-b66986ad87fe",
   "metadata": {},
   "source": [
    "Let's generate a 2 by 4 array using broadcasting with dtype of 8 bit unsigned integer. Broadcasting means that for example, we can put 4 integers as the 'low' values and then use a 2 dimensional array for the 'high' value."
   ]
  },
  {
   "cell_type": "code",
   "execution_count": 37,
   "id": "095bd1e9-0ef2-4b36-bcba-03d8f787d19b",
   "metadata": {
    "tags": []
   },
   "outputs": [
    {
     "data": {
      "text/plain": [
       "array([[ 1,  5,  9,  8],\n",
       "       [15, 15, 15, 19]], dtype=uint8)"
      ]
     },
     "execution_count": 37,
     "metadata": {},
     "output_type": "execute_result"
    }
   ],
   "source": [
    "rng.integers([1, 3, 5, 7], [[10], [20]], dtype = np.uint8)"
   ]
  },
  {
   "cell_type": "markdown",
   "id": "6ecc6537-4096-4306-8cca-93a744c4ee19",
   "metadata": {},
   "source": [
    "Above, we generated a 2D array and the upper boundary for the first array is 9 but for the second array it's 19. Below is another example but this time using broadcasting for the lower bound."
   ]
  },
  {
   "cell_type": "code",
   "execution_count": 38,
   "id": "bbf4ae9e-f4c9-476d-a5e3-0128a1eca68b",
   "metadata": {},
   "outputs": [
    {
     "data": {
      "text/plain": [
       "array([[ 2,  6,  3,  7],\n",
       "       [10, 11, 11, 12]], dtype=uint8)"
      ]
     },
     "execution_count": 38,
     "metadata": {},
     "output_type": "execute_result"
    }
   ],
   "source": [
    "rng.integers([[1], [10]], [11, 13, 15, 17], dtype = np.uint8)"
   ]
  },
  {
   "cell_type": "markdown",
   "id": "785f64b7-1dbd-49e3-863f-fa7d33779fba",
   "metadata": {},
   "source": [
    "Let's now investigate whether or not the integers function has any bias towards any particulat numbers. First, we'll need to create an object that will store 100 random integers ranging from 0 to 99. We will also graphically represent this array as a histogram."
   ]
  },
  {
   "cell_type": "code",
   "execution_count": 39,
   "id": "13cb4c20-dbf0-415b-97f0-5492b3a72250",
   "metadata": {
    "tags": []
   },
   "outputs": [
    {
     "data": {
      "text/plain": [
       "array([90, 37,  7, 46, 79, 18, 46, 12, 68, 47, 33, 22, 56, 66, 94, 43, 16,\n",
       "       83, 62, 70,  9, 31, 76, 83, 43, 80, 84, 38, 89, 28, 23, 68, 63, 13,\n",
       "       83, 19, 80,  0, 79, 78, 78, 66, 47, 70, 27, 78, 55, 45, 50, 56,  3,\n",
       "       13, 24, 11, 43, 66, 65, 47, 85, 56,  7, 76, 57, 63, 56, 55,  9, 55,\n",
       "       79, 30, 60,  3, 34, 43, 98, 21, 27, 40, 99, 85,  3, 23, 82,  5, 85,\n",
       "       28, 91, 29, 43, 66, 12, 55, 50, 78, 99, 66, 40, 40, 41, 81],\n",
       "      dtype=int64)"
      ]
     },
     "execution_count": 39,
     "metadata": {},
     "output_type": "execute_result"
    }
   ],
   "source": [
    "rints_3 = rng.integers(100, size = 100)\n",
    "rints_3"
   ]
  },
  {
   "cell_type": "code",
   "execution_count": 40,
   "id": "3be6e9bc-40a7-41a6-90d1-e9b92905b1dd",
   "metadata": {},
   "outputs": [
    {
     "data": {
      "text/plain": [
       "(array([ 9.,  8., 10.,  6., 15., 11., 12., 11., 12.,  6.]),\n",
       " array([ 0. ,  9.9, 19.8, 29.7, 39.6, 49.5, 59.4, 69.3, 79.2, 89.1, 99. ]),\n",
       " <BarContainer object of 10 artists>)"
      ]
     },
     "execution_count": 40,
     "metadata": {},
     "output_type": "execute_result"
    },
    {
     "data": {
      "image/png": "[encoded data removed]",
      "text/plain": [
       "<Figure size 432x288 with 1 Axes>"
      ]
     },
     "metadata": {
      "needs_background": "light"
     },
     "output_type": "display_data"
    }
   ],
   "source": [
    "plt.hist(rints_3)"
   ]
  },
  {
   "cell_type": "markdown",
   "id": "b5920e99-5bf5-4453-b05c-7e12550c4827",
   "metadata": {},
   "source": [
    "We can see here that this array is not evenly distributed. This is because a sample size of 100 is not sufficient enough to tell if there is a bias. Let's create another object and this time we will increase the size to 10000."
   ]
  },
  {
   "cell_type": "code",
   "execution_count": 41,
   "id": "455c2c0b-f2f5-42e5-aa30-6be3d4c74c61",
   "metadata": {
    "scrolled": true,
    "tags": []
   },
   "outputs": [
    {
     "data": {
      "text/plain": [
       "array([32, 16, 33, ..., 58, 43, 41], dtype=int64)"
      ]
     },
     "execution_count": 41,
     "metadata": {},
     "output_type": "execute_result"
    }
   ],
   "source": [
    "rints_4 = rng.integers(100, size = 10000)\n",
    "rints_4"
   ]
  },
  {
   "cell_type": "code",
   "execution_count": 42,
   "id": "13f7024d-f296-469a-91d5-3ae20e97ec5d",
   "metadata": {},
   "outputs": [
    {
     "data": {
      "text/plain": [
       "(array([ 973., 1047., 1029.,  976., 1040., 1037.,  954., 1003.,  955.,\n",
       "         986.]),\n",
       " array([ 0. ,  9.9, 19.8, 29.7, 39.6, 49.5, 59.4, 69.3, 79.2, 89.1, 99. ]),\n",
       " <BarContainer object of 10 artists>)"
      ]
     },
     "execution_count": 42,
     "metadata": {},
     "output_type": "execute_result"
    },
    {
     "data": {
      "image/png": "[encoded data removed]",
      "text/plain": [
       "<Figure size 432x288 with 1 Axes>"
      ]
     },
     "metadata": {
      "needs_background": "light"
     },
     "output_type": "display_data"
    }
   ],
   "source": [
    "plt.hist(rints_4)"
   ]
  },
  {
   "cell_type": "markdown",
   "id": "ba2e968c-1c1c-43e5-9111-c42bbb3207c8",
   "metadata": {},
   "source": [
    "We can see here that the data is much more evenly distributed, the profile of the data is quite flat. The distribution into all of the bins seems roughly the same all the way across. Now let's change the size to 10 million and plot another histogram."
   ]
  },
  {
   "cell_type": "code",
   "execution_count": 43,
   "id": "b8e97e5c-f391-4c27-874d-f4abbb39c869",
   "metadata": {},
   "outputs": [
    {
     "data": {
      "text/plain": [
       "array([35,  5, 85, ..., 65, 53, 39], dtype=int64)"
      ]
     },
     "execution_count": 43,
     "metadata": {},
     "output_type": "execute_result"
    }
   ],
   "source": [
    "rints_5 = rng.integers(100, size = 10000000)\n",
    "rints_5"
   ]
  },
  {
   "cell_type": "code",
   "execution_count": 44,
   "id": "a3803049-e3fb-40a2-aa43-e0aa8666656c",
   "metadata": {},
   "outputs": [
    {
     "data": {
      "text/plain": [
       "(array([ 999256., 1000962., 1000930.,  997793., 1002007., 1000918.,\n",
       "         999384.,  999681.,  999870.,  999199.]),\n",
       " array([ 0. ,  9.9, 19.8, 29.7, 39.6, 49.5, 59.4, 69.3, 79.2, 89.1, 99. ]),\n",
       " <BarContainer object of 10 artists>)"
      ]
     },
     "execution_count": 44,
     "metadata": {},
     "output_type": "execute_result"
    },
    {
     "data": {
      "image/png": "[encoded data removed]",
      "text/plain": [
       "<Figure size 432x288 with 1 Axes>"
      ]
     },
     "metadata": {
      "needs_background": "light"
     },
     "output_type": "display_data"
    }
   ],
   "source": [
    "plt.hist(rints_5)"
   ]
  },
  {
   "cell_type": "markdown",
   "id": "589c8a0f-638a-45ed-a5c1-cb6a45bd01d8",
   "metadata": {},
   "source": [
    "We can see here that we have an exact square. The bins each hold the number of values and we have a uniform distribution. This shows us that the integers function is not biased towards any particular integer. The function will generate all numbers with the same probability."
   ]
  },
  {
   "cell_type": "markdown",
   "id": "eb9517d4-ff44-4fec-bcb4-cbffda191282",
   "metadata": {},
   "source": [
    "### Random"
   ]
  },
  {
   "cell_type": "markdown",
   "id": "cc341031-a3e9-414e-8cdc-fc0003a9e4eb",
   "metadata": {},
   "source": [
    "The random function is used to generate floating point numbers (floats). By default the interval is between 0 and 1 and it is a half-open interval. This means that the output will be greater than or equal to 0 and less than 1. Just like with integers, the numbers generated will be from a uniform distribution, however in this case they are continuous (i.e. not limited to integers). For the random fucntion, the \"size\" and \"dtype\" arguments act just the same as for the integers function and therefor we do not need to cover this again here."
   ]
  },
  {
   "cell_type": "code",
   "execution_count": 45,
   "id": "b4d595ed-4fe9-4e83-a13b-6fa71fb9ecd6",
   "metadata": {},
   "outputs": [],
   "source": [
    "rng = np.random.default_rng(42)"
   ]
  },
  {
   "cell_type": "code",
   "execution_count": 46,
   "id": "b8935b40-6995-4e2e-b38d-499d3a12ffac",
   "metadata": {},
   "outputs": [
    {
     "data": {
      "text/plain": [
       "0.7739560485559633"
      ]
     },
     "execution_count": 46,
     "metadata": {},
     "output_type": "execute_result"
    }
   ],
   "source": [
    "rng.random()"
   ]
  },
  {
   "cell_type": "markdown",
   "id": "9124e012-9c11-4e8c-92f4-43b68fa9f8b5",
   "metadata": {},
   "source": [
    "As seen above, if we do not pass any argument through the function, we will simply get a random number between 1 and 0, or in other words this could be described as a random probability. If we put just one number in the paranthesis, this corresponds to the size."
   ]
  },
  {
   "cell_type": "code",
   "execution_count": 47,
   "id": "74650e6c-bdc8-434f-a5dc-59e6d75576b1",
   "metadata": {},
   "outputs": [
    {
     "data": {
      "text/plain": [
       "array([0.43887844, 0.85859792, 0.69736803, 0.09417735, 0.97562235])"
      ]
     },
     "execution_count": 47,
     "metadata": {},
     "output_type": "execute_result"
    }
   ],
   "source": [
    "rng.random(5)"
   ]
  },
  {
   "cell_type": "markdown",
   "id": "4b25170f-435a-41e3-b81a-bb1cf5271954",
   "metadata": {},
   "source": [
    "To chenge the range of the function, we need to use the formula:\n",
    "<br>``(b - a) * random() + a``<br>\n",
    "Below we have a three-by-two array of random numbers from 5 to 10. This is because b minus a is 10 minus 5 is +5 for the left hand side, and + a is +5 on the right hand side."
   ]
  },
  {
   "cell_type": "code",
   "execution_count": 48,
   "id": "9c8ae8cb-d75e-4c19-8e2f-e38b4c8e16e2",
   "metadata": {},
   "outputs": [
    {
     "data": {
      "text/plain": [
       "array([[8.80569851, 8.93032153],\n",
       "       [5.64056816, 7.25192969],\n",
       "       [6.85399012, 9.63382494]])"
      ]
     },
     "execution_count": 48,
     "metadata": {},
     "output_type": "execute_result"
    }
   ],
   "source": [
    "5 * rng.random((3, 2)) + 5"
   ]
  },
  {
   "cell_type": "code",
   "execution_count": 49,
   "id": "6be8cc75-25c6-4752-a3ec-5f0d0d4a43f3",
   "metadata": {},
   "outputs": [
    {
     "data": {
      "text/plain": [
       "array([[5.64386512, 5.82276161],\n",
       "       [5.4434142 , 5.22723872],\n",
       "       [5.55458479, 5.06381726]])"
      ]
     },
     "execution_count": 49,
     "metadata": {},
     "output_type": "execute_result"
    }
   ],
   "source": [
    "# Here the range is from 5 to 6\n",
    "# 1 * rng.random((3, 2)) - 5 which is the same thing as:\n",
    "rng.random((3, 2)) + 5"
   ]
  },
  {
   "cell_type": "markdown",
   "id": "9b4660d5-1022-4826-9255-5b9983f6c19f",
   "metadata": {},
   "source": [
    "We can do the same for negative numbers. Below the range is from -5 to 0. The a here is -5 and b minus a here is 0 plus 5:<br>``(0-(-5)) = (0 + 5) = 5``<br>"
   ]
  },
  {
   "cell_type": "code",
   "execution_count": 50,
   "id": "07957d56-db54-4c86-97e0-3fe0d59e2f9e",
   "metadata": {},
   "outputs": [
    {
     "data": {
      "text/plain": [
       "array([[-0.86184414, -1.841678  ],\n",
       "       [-1.2095613 , -3.22737016],\n",
       "       [-0.14650988, -0.53439439]])"
      ]
     },
     "execution_count": 50,
     "metadata": {},
     "output_type": "execute_result"
    }
   ],
   "source": [
    "5 * rng.random((3, 2)) - 5"
   ]
  },
  {
   "cell_type": "code",
   "execution_count": 51,
   "id": "5463de0b-3caa-4540-b8e8-ac50694fd75c",
   "metadata": {},
   "outputs": [
    {
     "data": {
      "text/plain": [
       "array([[-4.2216165 , -4.80536129],\n",
       "       [-4.533279  , -4.95619623],\n",
       "       [-4.84571051, -4.31695105]])"
      ]
     },
     "execution_count": 51,
     "metadata": {},
     "output_type": "execute_result"
    }
   ],
   "source": [
    "# Here the range is from -4 to 5\n",
    "# 1 * rng.random((3, 2)) - 5 which is the same thing as:\n",
    "rng.random((3, 2)) - 5"
   ]
  },
  {
   "cell_type": "markdown",
   "id": "4c470089-9057-4aab-8bcc-2d53bd6af084",
   "metadata": {},
   "source": [
    "Let's now investigate whether or not the integers function has any bias towards any particular numbers. We'll do the same investigation as we did for NumPy integers. 3 histograms where the interval a half-open interval between 0 and 1 with size samples of 100, 10000 and 10 million."
   ]
  },
  {
   "cell_type": "code",
   "execution_count": 52,
   "id": "bdde5978-6b0e-468c-b6ac-b460171889e1",
   "metadata": {},
   "outputs": [
    {
     "data": {
      "text/plain": [
       "array([0.74476216, 0.96750973, 0.32582536, 0.37045971, 0.46955581,\n",
       "       0.18947136, 0.12992151, 0.47570493, 0.22690935, 0.66981399,\n",
       "       0.43715192, 0.8326782 , 0.7002651 , 0.31236664, 0.8322598 ,\n",
       "       0.80476436, 0.38747838, 0.2883281 , 0.6824955 , 0.13975248,\n",
       "       0.1999082 , 0.00736227, 0.78692438, 0.66485086, 0.70516538,\n",
       "       0.78072903, 0.45891578, 0.5687412 , 0.139797  , 0.11453007,\n",
       "       0.66840296, 0.47109621, 0.56523611, 0.76499886, 0.63471832,\n",
       "       0.5535794 , 0.55920716, 0.3039501 , 0.03081783, 0.43671739,\n",
       "       0.21458467, 0.40852864, 0.85340307, 0.23393949, 0.05830274,\n",
       "       0.28138389, 0.29359376, 0.66191651, 0.55703215, 0.78389821,\n",
       "       0.66431354, 0.40638686, 0.81402038, 0.16697292, 0.02271207,\n",
       "       0.09004786, 0.72235935, 0.46187723, 0.16127178, 0.50104478,\n",
       "       0.1523121 , 0.69632038, 0.44615628, 0.38102123, 0.30151209,\n",
       "       0.63028259, 0.36181261, 0.08764992, 0.1180059 , 0.96189766,\n",
       "       0.90858069, 0.69970713, 0.26586996, 0.96917638, 0.7787509 ,\n",
       "       0.71689019, 0.4493615 , 0.27224156, 0.09639096, 0.9026024 ,\n",
       "       0.45577629, 0.20236336, 0.30595662, 0.57921957, 0.17677278,\n",
       "       0.85661428, 0.75851953, 0.71946296, 0.43209304, 0.62730884,\n",
       "       0.58409797, 0.6498466 , 0.08444432, 0.4158074 , 0.04161417,\n",
       "       0.49399082, 0.32986121, 0.14452419, 0.10340297, 0.58764457])"
      ]
     },
     "execution_count": 52,
     "metadata": {},
     "output_type": "execute_result"
    }
   ],
   "source": [
    "rrandom_1 = rng.random(100)\n",
    "rrandom_1"
   ]
  },
  {
   "cell_type": "code",
   "execution_count": 53,
   "id": "c53471c5-da88-4eda-90ab-0fbf36ae8eac",
   "metadata": {},
   "outputs": [
    {
     "data": {
      "text/plain": [
       "(array([10., 11., 10., 10., 14.,  9., 10., 11., 10.,  5.]),\n",
       " array([0.00736227, 0.10354368, 0.19972509, 0.2959065 , 0.39208791,\n",
       "        0.48826932, 0.58445073, 0.68063215, 0.77681356, 0.87299497,\n",
       "        0.96917638]),\n",
       " <BarContainer object of 10 artists>)"
      ]
     },
     "execution_count": 53,
     "metadata": {},
     "output_type": "execute_result"
    },
    {
     "data": {
      "image/png": "[encoded data removed]",
      "text/plain": [
       "<Figure size 432x288 with 1 Axes>"
      ]
     },
     "metadata": {
      "needs_background": "light"
     },
     "output_type": "display_data"
    }
   ],
   "source": [
    "plt.hist(rrandom_1)"
   ]
  },
  {
   "cell_type": "code",
   "execution_count": 54,
   "id": "3aa7269f-8bb8-4921-8741-4608b2102423",
   "metadata": {},
   "outputs": [
    {
     "data": {
      "text/plain": [
       "array([0.17059297, 0.92512012, 0.58106114, ..., 0.95014389, 0.12381909,\n",
       "       0.38314887])"
      ]
     },
     "execution_count": 54,
     "metadata": {},
     "output_type": "execute_result"
    }
   ],
   "source": [
    "rrandom_2 = rng.random(10000)\n",
    "rrandom_2"
   ]
  },
  {
   "cell_type": "code",
   "execution_count": 55,
   "id": "6108428c-25d2-4409-9231-8e361a7314c4",
   "metadata": {},
   "outputs": [
    {
     "data": {
      "text/plain": [
       "(array([ 985., 1056., 1006.,  998.,  968., 1031., 1007.,  983.,  971.,\n",
       "         995.]),\n",
       " array([3.14419644e-04, 1.00280680e-01, 2.00246940e-01, 3.00213200e-01,\n",
       "        4.00179460e-01, 5.00145720e-01, 6.00111980e-01, 7.00078240e-01,\n",
       "        8.00044500e-01, 9.00010760e-01, 9.99977020e-01]),\n",
       " <BarContainer object of 10 artists>)"
      ]
     },
     "execution_count": 55,
     "metadata": {},
     "output_type": "execute_result"
    },
    {
     "data": {
      "image/png": "[encoded data removed]",
      "text/plain": [
       "<Figure size 432x288 with 1 Axes>"
      ]
     },
     "metadata": {
      "needs_background": "light"
     },
     "output_type": "display_data"
    }
   ],
   "source": [
    "plt.hist(rrandom_2)"
   ]
  },
  {
   "cell_type": "code",
   "execution_count": 56,
   "id": "93bfe211-eed9-42ef-9547-aaa2c575ec8c",
   "metadata": {},
   "outputs": [
    {
     "data": {
      "text/plain": [
       "array([0.87952756, 0.10656797, 0.48360425, ..., 0.1380578 , 0.39814049,\n",
       "       0.64368557])"
      ]
     },
     "execution_count": 56,
     "metadata": {},
     "output_type": "execute_result"
    }
   ],
   "source": [
    "rrandom_3 = rng.random(10000000)\n",
    "rrandom_3"
   ]
  },
  {
   "cell_type": "code",
   "execution_count": 57,
   "id": "f17c1dfe-4234-41b6-9663-434392f08e09",
   "metadata": {},
   "outputs": [
    {
     "data": {
      "text/plain": [
       "(array([ 999256., 1000937., 1001055., 1000130., 1001440.,  999423.,\n",
       "         998472., 1000015.,  999297.,  999975.]),\n",
       " array([5.34029949e-08, 1.00000040e-01, 2.00000027e-01, 3.00000013e-01,\n",
       "        4.00000000e-01, 4.99999986e-01, 5.99999973e-01, 6.99999960e-01,\n",
       "        7.99999946e-01, 8.99999933e-01, 9.99999920e-01]),\n",
       " <BarContainer object of 10 artists>)"
      ]
     },
     "execution_count": 57,
     "metadata": {},
     "output_type": "execute_result"
    },
    {
     "data": {
      "image/png": "[encoded data removed]",
      "text/plain": [
       "<Figure size 432x288 with 1 Axes>"
      ]
     },
     "metadata": {
      "needs_background": "light"
     },
     "output_type": "display_data"
    }
   ],
   "source": [
    "plt.hist(rrandom_3)"
   ]
  },
  {
   "cell_type": "markdown",
   "id": "bb8801fc-bfc3-4424-a545-d72c5cc52451",
   "metadata": {},
   "source": [
    "We can see here that again we have an exact square. The bins each hold the number of values and we have a uniform distribution. This shows us that the random function is not biased towards any particular number. The function will generate all numbers with the same probability."
   ]
  },
  {
   "cell_type": "markdown",
   "id": "b049c24d-571f-4ad9-bfe7-387317bdfac2",
   "metadata": {},
   "source": [
    "### Choice"
   ]
  },
  {
   "cell_type": "code",
   "execution_count": 58,
   "id": "67a0e609-47e6-406d-ab9c-d071e07e7582",
   "metadata": {},
   "outputs": [
    {
     "data": {
      "text/plain": [
       "array([2, 2, 3], dtype=int64)"
      ]
     },
     "execution_count": 58,
     "metadata": {},
     "output_type": "execute_result"
    }
   ],
   "source": [
    "rng = np.random.default_rng(1)\n",
    "rng.choice(5, 3)"
   ]
  },
  {
   "cell_type": "code",
   "execution_count": 59,
   "id": "caae8fb5-18cd-4429-8dfb-c08980027201",
   "metadata": {},
   "outputs": [
    {
     "data": {
      "text/plain": [
       "array([4, 0, 0, 4], dtype=int64)"
      ]
     },
     "execution_count": 59,
     "metadata": {},
     "output_type": "execute_result"
    }
   ],
   "source": [
    "rng.choice(5, 4)"
   ]
  },
  {
   "cell_type": "code",
   "execution_count": 60,
   "id": "ccba0ec2-1471-4b78-85ef-b88ac1a3b74d",
   "metadata": {},
   "outputs": [
    {
     "data": {
      "text/plain": [
       "array([2, 3, 3], dtype=int64)"
      ]
     },
     "execution_count": 60,
     "metadata": {},
     "output_type": "execute_result"
    }
   ],
   "source": [
    "rng.choice(5, 3, p=[0.1, 0, 0.3, 0.6, 0])"
   ]
  },
  {
   "cell_type": "code",
   "execution_count": 61,
   "id": "eb35cae5-6f22-476e-9ecc-c65f378106ed",
   "metadata": {},
   "outputs": [
    {
     "data": {
      "text/plain": [
       "array([2, 4, 1], dtype=int64)"
      ]
     },
     "execution_count": 61,
     "metadata": {},
     "output_type": "execute_result"
    }
   ],
   "source": [
    "rng.choice(5, 3, replace=False)"
   ]
  },
  {
   "cell_type": "code",
   "execution_count": 62,
   "id": "152f8050-d5f2-42d3-bcf3-c626940a9e63",
   "metadata": {},
   "outputs": [
    {
     "data": {
      "text/plain": [
       "array([[0, 1, 2],\n",
       "       [6, 7, 8]])"
      ]
     },
     "execution_count": 62,
     "metadata": {},
     "output_type": "execute_result"
    }
   ],
   "source": [
    "rng.choice([[0, 1, 2], [3, 4, 5], [6, 7, 8]], 2, replace=False)"
   ]
  },
  {
   "cell_type": "code",
   "execution_count": 63,
   "id": "43e0772f-8ec8-4856-9bf6-ee3ac4226b40",
   "metadata": {},
   "outputs": [
    {
     "data": {
      "text/plain": [
       "array([3, 2, 0], dtype=int64)"
      ]
     },
     "execution_count": 63,
     "metadata": {},
     "output_type": "execute_result"
    }
   ],
   "source": [
    "rng.choice(5, 3, replace=False, p=[0.1, 0, 0.3, 0.6, 0])"
   ]
  },
  {
   "cell_type": "code",
   "execution_count": 64,
   "id": "81e10ffa-c5b0-4c67-b324-d5d1dbf9cffa",
   "metadata": {},
   "outputs": [
    {
     "data": {
      "text/plain": [
       "array(['pooh', 'pooh', 'pooh', 'pooh', 'pooh'], dtype='<U11')"
      ]
     },
     "execution_count": 64,
     "metadata": {},
     "output_type": "execute_result"
    }
   ],
   "source": [
    "aa_milne_arr = ['pooh', 'rabbit', 'piglet', 'Christopher']\n",
    "rng.choice(aa_milne_arr, 5, p=[0.5, 0.1, 0.1, 0.3])"
   ]
  },
  {
   "cell_type": "markdown",
   "id": "7acde067-8db0-426e-9416-5f1094c60877",
   "metadata": {},
   "source": [
    "### Bytes"
   ]
  },
  {
   "cell_type": "markdown",
   "id": "091e7da4-aa35-4544-b787-c311a81e5eeb",
   "metadata": {},
   "source": [
    "## Binomial Distribution\n",
    "Binomial distribution is discrete version of normal distribution"
   ]
  },
  {
   "cell_type": "markdown",
   "id": "0731e88d-80f0-4268-9bd6-eeab4441fc74",
   "metadata": {},
   "source": [
    "Binomial distribution is discrete version of normal distribution"
   ]
  },
  {
   "cell_type": "code",
   "execution_count": 65,
   "id": "dd2ad9a0-6e48-482a-85f4-d3c1fe2b7ad6",
   "metadata": {},
   "outputs": [],
   "source": [
    "# Setting the PRNG as PCG-64\n",
    "rng = np.random.default_rng(42)"
   ]
  },
  {
   "cell_type": "markdown",
   "id": "5233fcfe-ab8f-42a9-9e95-0a87b9fe4f00",
   "metadata": {},
   "source": [
    "Below is a picture of the hidden block spinner in Mario Party. If the arrow lands in the smaller segment, then the player recieves a star. If it lands in the larger segment, the player does not recive a star."
   ]
  },
  {
   "cell_type": "markdown",
   "id": "d701267d-c9d3-4c7f-b4f0-a40e13af764e",
   "metadata": {},
   "source": [
    "![Hidden Block](https://mario.wiki.gallery/images/9/98/SMP_Powderkeg_Hidden_Block.jpg)"
   ]
  },
  {
   "cell_type": "markdown",
   "id": "b30f8ca0-184e-4cfd-aac9-f56cdab12895",
   "metadata": {},
   "source": [
    "Here is the code that represents the Binomial distribution of the probability of the player recieving a star"
   ]
  },
  {
   "cell_type": "code",
   "execution_count": 66,
   "id": "43182d26-8768-47d7-b4aa-ec158abf92e7",
   "metadata": {},
   "outputs": [],
   "source": [
    "hidden_block = rng.binomial(n=1, p=0.15, size=100000)"
   ]
  },
  {
   "cell_type": "code",
   "execution_count": 67,
   "id": "9901a54e-1e5a-4199-8f6e-1412e656429c",
   "metadata": {},
   "outputs": [
    {
     "data": {
      "text/plain": [
       "array([0, 0, 1, ..., 0, 0, 1], dtype=int64)"
      ]
     },
     "execution_count": 67,
     "metadata": {},
     "output_type": "execute_result"
    }
   ],
   "source": [
    "hidden_block"
   ]
  },
  {
   "cell_type": "code",
   "execution_count": 68,
   "id": "7c4694fe-a7c2-4bae-9769-f5a0359b9a63",
   "metadata": {},
   "outputs": [],
   "source": [
    "#Function takes the array to be plotted, as well as strings from the x and y axis labels, and the title.\n",
    "#Kernel Density Estimate (KDE) and discrete arguments will default to False, although can be set to true if needed.\n",
    "def hist_plotting(array, xlabel, ylabel, title, kde=False, discrete = False):\n",
    "    \n",
    "    #Plotting the array as a histogram.\n",
    "    ax = sns.histplot(array, kde = kde, discrete = discrete)\n",
    "    \n",
    "    #Setting the x and y axis labels.\n",
    "    ax.set(xlabel = xlabel, ylabel = ylabel)\n",
    "    \n",
    "    #Setting the title.\n",
    "    ax.set_title(title)\n",
    "    \n",
    "    #Return the \"ax\" object.\n",
    "    return ax"
   ]
  },
  {
   "cell_type": "code",
   "execution_count": 69,
   "id": "da1f924f-8c07-4537-927d-a06d33d0ec7c",
   "metadata": {},
   "outputs": [
    {
     "data": {
      "image/png": "[encoded data removed]",
      "text/plain": [
       "<Figure size 432x288 with 1 Axes>"
      ]
     },
     "metadata": {
      "needs_background": "light"
     },
     "output_type": "display_data"
    }
   ],
   "source": [
    "#Setting the hist_plotting function to the variable \"ax\" so that I can tidy up the x axis.\n",
    "ax = hist_plotting(hidden_block, 'Outcome', 'Count', \"Hidden Block\", discrete=True)"
   ]
  },
  {
   "cell_type": "code",
   "execution_count": null,
   "id": "175d132b-9054-457a-a931-21f0e51e713d",
   "metadata": {},
   "outputs": [],
   "source": []
  },
  {
   "cell_type": "markdown",
   "id": "cd3c900a-8c81-4ee5-b825-567dd9341264",
   "metadata": {},
   "source": [
    "## References\n",
    "[01][Towards Data Science - Why NumPy Is So Fundamental](https://towardsdatascience.com/why-numpy-is-so-fundamental-78ae2807300) <br>\n",
    "[02][Numpy.org - Random sampling (numpy.random)](https://numpy.org/doc/stable/reference/random/index.html)<br>\n",
    "[03][numpy.random.binomial](https://numpy.org/doc/stable/reference/random/generated/numpy.random.binomial.html?highlight=binomial#numpy.random.binomial)<br>\n",
    "[04][Random sampling (numpy.random)](https://numpy.org/doc/stable/reference/random/index.html)<br>\n",
    "[05][Sharp Sight - NumPy Random Seed, Explained](https://www.sharpsightlabs.com/blog/numpy-random-seed/#numpy-random-seed-examples)<br>\n",
    "[06][Sharp Sight - How to use numpy random normal in Python](https://www.sharpsightlabs.com/blog/numpy-random-normal/)<br>\n",
    "[07][Wolfram MathWorld - Pseudorandom Number](https://mathworld.wolfram.com/PseudorandomNumber.html)<br>\n",
    "[08][Wikipedia - Radom Walk](https://en.wikipedia.org/wiki/Random_walk)<br>\n",
    "[09][TestU01: A C Library for Empirical Testing of Random Number Generators](chrome-extension://efaidnbmnnnibpcajpcglclefindmkaj/viewer.html?pdfurl=https%3A%2F%2Fwww.iro.umontreal.ca%2F~lecuyer%2Fmyftp%2Fpapers%2Ftestu01.pdf&clen=801628&chunk=true)<br>\n",
    "[10][PCG: AFamily of Simple Fast Space-Efficient Statistically GoodAlgorithms for Random NumberGeneration](chrome-extension://efaidnbmnnnibpcajpcglclefindmkaj/viewer.html?pdfurl=https%3A%2F%2Fwww.cs.hmc.edu%2Ftr%2Fhmc-cs-2014-0905.pdf&clen=2326958&chunk=true)<br>\n",
    "[11][Numpy.org - Permuted Congruential Generator (64-bit, PCG64)](https://numpy.org/doc/stable/reference/random/bit_generators/pcg64.html)<br>\n",
    "[12][Wikipedia - Mersenne Twister](https://en.wikipedia.org/w/index.php?title=Mersenne_Twister&oldid=1049043226)<br>\n",
    "[13][Wikipedia - Permuted congruential generator](https://en.wikipedia.org/w/index.php?title=Permuted_congruential_generator&oldid=999160939)<br>\n",
    "[14][numpy.random.Generator.integers](https://numpy.org/doc/stable/reference/random/generated/numpy.random.Generator.integers.html#numpy.random.Generator.integers)<br>\n",
    "[15][numpy.random.Generator.random](https://numpy.org/doc/stable/reference/random/generated/numpy.random.Generator.random.html#numpy.random.Generator.random)<br>\n",
    "[16][numpy.random.Generator.choice](https://numpy.org/doc/stable/reference/random/generated/numpy.random.Generator.choice.html#numpy.random.Generator.choice)<br>\n",
    "[17][numpy.random.Generator.bytes](https://numpy.org/doc/stable/reference/random/generated/numpy.random.Generator.bytes.html#numpy.random.Generator.bytes)<br>\n",
    "[18][Wikipedia - Interval (mathematics)](https://en.wikipedia.org/wiki/Interval_(mathematics)#Terminology)<br>"
   ]
  },
  {
   "cell_type": "markdown",
   "id": "06bd825a-7545-4760-8032-a9030d6c1705",
   "metadata": {},
   "source": [
    "***\n",
    "## End"
   ]
  },
  {
   "cell_type": "code",
   "execution_count": null,
   "id": "268a5ce8-cf76-415c-9d05-12cef78d8df3",
   "metadata": {},
   "outputs": [],
   "source": []
  }
 ],
 "metadata": {
  "kernelspec": {
   "display_name": "Python 3",
   "language": "python",
   "name": "python3"
  },
  "language_info": {
   "codemirror_mode": {
    "name": "ipython",
    "version": 3
   },
   "file_extension": ".py",
   "mimetype": "text/x-python",
   "name": "python",
   "nbconvert_exporter": "python",
   "pygments_lexer": "ipython3",
   "version": "3.8.8"
  }
 },
 "nbformat": 4,
 "nbformat_minor": 5
}
