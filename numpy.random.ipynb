{
 "cells": [
  {
   "cell_type": "markdown",
   "id": "27f643ca-ba6e-4b0e-81c5-70a43483a840",
   "metadata": {},
   "source": [
    "# The numpy.random Package\n",
    "\n",
    "[Official Documentation](https://numpy.org/doc/stable/reference/random/index.html)\n",
    "***"
   ]
  },
  {
   "cell_type": "markdown",
   "id": "10b92e0f-f603-4028-bd96-78d224e86c27",
   "metadata": {},
   "source": [
    "<br>\n",
    "\n",
    "## What is Numpy?"
   ]
  },
  {
   "cell_type": "markdown",
   "id": "9e2c3e65-db8f-4994-bf4f-16bf51b2a0c1",
   "metadata": {},
   "source": [
    "![NumPy](https://res.cloudinary.com/practicaldev/image/fetch/s--IS2P_PRA--/c_imagga_scale,f_auto,fl_progressive,h_420,q_auto,w_1000/https://res.cloudinary.com/practicaldev/image/fetch/s--PmX0XWGn--/c_imagga_scale%2Cf_auto%2Cfl_progressive%2Ch_420%2Cq_auto%2Cw_1000/https://thepracticaldev.s3.amazonaws.com/i/i7xbfqoej9ylzboevtbb.png)"
   ]
  },
  {
   "cell_type": "markdown",
   "id": "be6376ce-be8e-42f3-b564-71835195b90e",
   "metadata": {},
   "source": [
    "Numpy (Numerical Python) is one of the most useful libraries in python for data analysis. It is so great because it can crunch numbers extremely fast. This is because the ndarray object encapsulates N-Nimensional arrays (ndarrays) of homogeneous data types, with many operations being performed in compiled code for performance. Users of NumPy can manage data in vectors, matrices and N-Dimensional Arrays (ndarray).[01] These ndarrays to Python can store large amounts of data of the same data type (e.g. string, integer, float) and allows the data to be stored in various \"shapes\" (i.e. different dimensions). Alongside the ndarray data type, NumPy is heralded for its speed and ease of use, especially across larger and larger data sets.[1] NumPy supports most Python libraries that do scientific or numerical computation. In fact it is the foundation of these libraries. This includes SciPy, Matplotlib, pandas, scikit-learn and scikit-image.[01] NumPy was created in 2005 by Travis Oliphant. See below the different shapes in a NumPy ndarray.[53]"
   ]
  },
  {
   "cell_type": "markdown",
   "id": "bb89661b-e67c-4b3c-a544-7ada75939c01",
   "metadata": {},
   "source": [
    "![ndarray](https://fgnt.github.io/python_crashkurs_doc/_images/numpy_array_t.png)"
   ]
  },
  {
   "cell_type": "markdown",
   "id": "89182434-0cf7-482a-b04b-246233efbbd9",
   "metadata": {},
   "source": [
    "<br>\n",
    "\n",
    "## Packages to import for this notebook:\n",
    "***"
   ]
  },
  {
   "cell_type": "code",
   "execution_count": 1,
   "id": "a224f55e-bb06-45a8-bb8a-0d958e668e65",
   "metadata": {},
   "outputs": [],
   "source": [
    "# magic function to make plots show in this notebook\n",
    "%matplotlib inline\n",
    "\n",
    "# Importing NumPy\n",
    "import numpy as np\n",
    "\n",
    "# Importing matplotlib\n",
    "import matplotlib.pyplot as plt\n",
    "\n",
    "# Importing Seaborn\n",
    "import seaborn as sns\n",
    "\n",
    "# Importing pandas\n",
    "import pandas as pd"
   ]
  },
  {
   "cell_type": "code",
   "execution_count": 2,
   "id": "90e7bab3-eb32-45f2-8bc2-1f5441ada720",
   "metadata": {},
   "outputs": [],
   "source": [
    "# Change the style of plots in matplotlib.\n",
    "plt.style.use('ggplot')\n",
    "\n",
    "# Change default figure size in matplotlib.\n",
    "plt.rcParams['figure.figsize'] = (9, 9)\n",
    "plt.rcParams['axes.labelsize'] = 16\n",
    "plt.rcParams['axes.titlesize'] = 20"
   ]
  },
  {
   "cell_type": "markdown",
   "id": "a0b99ae8-f496-4a83-aec8-bb6c9d981ed8",
   "metadata": {},
   "source": [
    "<br>\n",
    "\n",
    "## numpy.random\n",
    "***\n",
    "\n",
    "Random is a module which generates pseudo-random numbers, Other module functions depend on the function random() to generate random numbers from different distributions depending on the function called within the random module. The Random module contains very useful functions.\n",
    "\n",
    "The Random module contains many functions for generating random numbers. Numpy's random module provides methods for obtaining random numbers from any of several distributions as well as covenient ways to choose random entries from an array and to randomly shuffle the contents of an array. The random module uses an algorithm called PCG64 pseudorandom generator (PRNG). The PCG64 algorithm has been recently updated from the Mersenne Twister algorithm.[54]\n",
    "\n",
    "Random package is a sub package of the numpy package in Python. The numbers are not completely random from literature findings covered for this assignment. Random numbers are drawn from probability distribution.\n",
    "\n",
    "Numpy’s random number routines produce pseudo random numbers using combinations of a BitGenerator to create sequences and a Generator to use those sequences to sample from different statistical distributions.[02]\n",
    "- BitGenerators are objects that generate random numbers. These are typically unsigned integer words filled with sequences of either 32 or 64 random bits. [02]\n",
    "- Generators are objects that transform sequences of random bits from a BitGenerator into sequences of numbers that follow a specific probability distribution (such as uniform, Normal or Binomial) within a specified interval.[02]"
   ]
  },
  {
   "cell_type": "markdown",
   "id": "70f432b7-8139-4760-b4b6-e09414c32557",
   "metadata": {},
   "source": [
    "<br>\n",
    "\n",
    "## Recent Upgrade to PCG-64 Algorithm\n",
    "***"
   ]
  },
  {
   "cell_type": "markdown",
   "id": "5fe6a703-0329-48d4-bb99-a6290c56c7a4",
   "metadata": {},
   "source": [
    "In the versions before Numpy v1.19, the numpy.random module was using the Mersenne Twister (MT19937) algorithm to generate pseudorandom numbers. Now, the Permutation Congruential generator (PCG-64) algorithm is used. [13] Developed in 2014, the PCG-64 is a 128-bit implementation of O’Neill’s permutation congruential generator. [11] The main reasons for the upgrade to this new algorithm are:\n",
    "\n",
    "1. When put to the test in the scientific paper \"TestU01: A C Library for Empirical Testing of Random Number Generators\", the researchers came to the conclusion that MT19937 performed poorly on statistical tests. It was discovered that there is a high level of predictability to the pseudorandom number sequences generated by this algorithm. The seed number could be figured out quite easily making it insecure. [09]\n",
    "2. MT19937 is relatively slow when compared to the best algorithms of today in the paper \"PCG: AFamily of Simple Fast Space-Efficient Statistically GoodAlgorithms for Random NumberGeneration\" .[10] This paper highlights that the MT19937 algorithm's speed measured in Gb/s (Giga bytes per second). The test used in this paper is the \"TestU01\" test. This test works by performing some statistically well understood task using a candidate generator and then checking the plausibility of the results. It should be noted also that all members of the PCG-64 algorithm are faster than other generators in their class. This paper also shows that the MT19937 algorithm is insecure just like the paper mentioned above. This is because the TestU01's “linear complexity” test was able to spot nonrandom behaviour within 5 seconds. In contrast, some of the more robust candidates (algorithms) for the test in the TestU01 library can take hours to days to run. This clearly shows that MT19937 fell down at one of the earliest challenges put to it by TestU01 [12].\n",
    "To use the new algorithm PCG-64, instead of using numpy.random.seed, we should now use np.random.default_rng(). It is commonplace to use rng is the object as seen below."
   ]
  },
  {
   "cell_type": "code",
   "execution_count": 3,
   "id": "ca1dde63-d146-4294-9dd9-4a723039f6d7",
   "metadata": {},
   "outputs": [
    {
     "name": "stdout",
     "output_type": "stream",
     "text": [
      "Generator(PCG64)\n"
     ]
    }
   ],
   "source": [
    "rng = np.random.default_rng(12345)\n",
    "print(rng)"
   ]
  },
  {
   "cell_type": "markdown",
   "id": "9f6a422d-597f-45d5-a828-e6822c626b65",
   "metadata": {},
   "source": [
    "The output here shows that the object rng has created an instance of Generator. Below we use this instance of Generator to create a random float of class float.The Generator is the user-facing object that is nearly identical to the legacy RandomState. It accepts a bit generator instance as an argument."
   ]
  },
  {
   "cell_type": "code",
   "execution_count": 4,
   "id": "e93c5cbf-c8c3-41b3-8242-dc92d3907831",
   "metadata": {},
   "outputs": [
    {
     "data": {
      "text/plain": [
       "0.22733602246716966"
      ]
     },
     "execution_count": 4,
     "metadata": {},
     "output_type": "execute_result"
    }
   ],
   "source": [
    "rfloat = rng.random()\n",
    "rfloat"
   ]
  },
  {
   "cell_type": "code",
   "execution_count": 5,
   "id": "8141d763-8221-4114-98fa-43ee99abf059",
   "metadata": {},
   "outputs": [
    {
     "data": {
      "text/plain": [
       "float"
      ]
     },
     "execution_count": 5,
     "metadata": {},
     "output_type": "execute_result"
    }
   ],
   "source": [
    "type(rfloat)"
   ]
  },
  {
   "cell_type": "markdown",
   "id": "d69aeefc-61b4-417e-87b5-b84f1a40ece0",
   "metadata": {},
   "source": [
    "If we needed to use the old MT19937 generator for whatever reason, we can do so by passing it as an argument to the Generator function. This is not recommended though but may be done. The following code is needed:"
   ]
  },
  {
   "cell_type": "code",
   "execution_count": 6,
   "id": "1cde39e3-e5b2-4c59-9558-6c542c289336",
   "metadata": {},
   "outputs": [
    {
     "data": {
      "text/plain": [
       "0.37786929937474845"
      ]
     },
     "execution_count": 6,
     "metadata": {},
     "output_type": "execute_result"
    }
   ],
   "source": [
    "from numpy.random import Generator, MT19937\n",
    "rg = Generator(MT19937(12345))\n",
    "rg.random()"
   ]
  },
  {
   "cell_type": "markdown",
   "id": "0ba091f8-903c-4186-ae43-af03493ba263",
   "metadata": {},
   "source": [
    "***\n",
    "\n",
    "## Seeds in Generating Pseudorandom Numbers\n",
    "\n",
    "***"
   ]
  },
  {
   "cell_type": "markdown",
   "id": "297e22f0-8e6a-42e5-8191-2b521490a8fb",
   "metadata": {},
   "source": [
    "To understand the meaning of what it is to seed a random number generator, firstly we need to know a little bit about pseudo-random numbers. The definition of a pseudorandom number according to Wolfram Mathworld is 'a computer-generated random number'. The definition goes onto explain that 'The prefix pseudo- is used to distinguish this type of number from a “truly” random number generated by a random physical process such as radioactive decay'. A computer by design is inherintly deterministic, meaning that if you give a computer an input, it will precisely follow instructions to produce an output. Also, if a computer is given that imput again it will produce the exact same output. This means that computers do not behave randomly.[05]\n",
    "\n",
    "Algorithms have been developed to create psuedo random numbers called 'peudo-random number generators'(PRNGs). Since a computer executes these algorithms they are still completely deterministic, but these PRMGs approximate the properties of random numbers. They appear to be random. [07]\n",
    "\n",
    "Below are some pseudo-random numbers with the NumPy randint function: [04]"
   ]
  },
  {
   "cell_type": "code",
   "execution_count": 7,
   "id": "c92a82fe-3800-4f34-9316-06dbe0889fb2",
   "metadata": {},
   "outputs": [
    {
     "data": {
      "text/plain": [
       "array([5, 5, 7, 9, 1, 2, 8, 9, 3, 3, 8, 4, 3, 8, 3, 4, 6, 5, 1, 1, 8, 7,\n",
       "       8, 5, 8, 3, 5, 8, 2, 3, 2, 5, 9, 2, 4, 4, 9, 2, 5, 3, 1, 7, 1, 3,\n",
       "       5, 5, 2, 9, 7, 9], dtype=int64)"
      ]
     },
     "execution_count": 7,
     "metadata": {},
     "output_type": "execute_result"
    }
   ],
   "source": [
    "rng = np.random.default_rng(1)\n",
    "rints = rng.integers(low = 1, high = 10, size = 50)\n",
    "rints"
   ]
  },
  {
   "cell_type": "code",
   "execution_count": 8,
   "id": "ed725e91-48cb-446a-8882-885ff5798bfd",
   "metadata": {},
   "outputs": [
    {
     "data": {
      "text/plain": [
       "array([6, 9, 6, 1, 1, 2, 8, 7, 3, 5, 6, 3, 5, 3, 5, 8, 8, 2, 8, 1, 7, 8,\n",
       "       7, 2, 1, 2, 9, 9, 4, 9, 8, 4, 7, 6, 2, 4, 5, 9, 2, 5, 1, 4, 3, 1,\n",
       "       5, 3, 8, 8, 9, 7])"
      ]
     },
     "execution_count": 8,
     "metadata": {},
     "output_type": "execute_result"
    }
   ],
   "source": [
    "#Legacy code\n",
    "np.random.seed(1)\n",
    "np.random.randint(low = 1, high = 10, size = 50)"
   ]
  },
  {
   "cell_type": "markdown",
   "id": "ab7a26f6-f892-4327-abdc-b81b5348e48f",
   "metadata": {},
   "source": [
    "Although these numbers look random, they are actually determined by the algorithm. Further, if we were to run this code again, we would get the exact same numbers. This is because, as said earlier, when we give a computer an input, it will precisely follow instructions to produce an output. This means that pseudo-random number generators are deterministic and repeatable. Pseudo-random number generators can create and then re-create the exact same set of pseudo-random numbers. We'll now use the exact same code as above using NumPy's randint function again and with the exact same seed as before. [05]"
   ]
  },
  {
   "cell_type": "code",
   "execution_count": 9,
   "id": "eff9cd26-a6f2-4493-9a2d-e61e50843e1e",
   "metadata": {},
   "outputs": [
    {
     "data": {
      "text/plain": [
       "array([5, 5, 7, 9, 1, 2, 8, 9, 3, 3, 8, 4, 3, 8, 3, 4, 6, 5, 1, 1, 8, 7,\n",
       "       8, 5, 8, 3, 5, 8, 2, 3, 2, 5, 9, 2, 4, 4, 9, 2, 5, 3, 1, 7, 1, 3,\n",
       "       5, 5, 2, 9, 7, 9], dtype=int64)"
      ]
     },
     "execution_count": 9,
     "metadata": {},
     "output_type": "execute_result"
    }
   ],
   "source": [
    "rng = np.random.default_rng(1)\n",
    "rints = rng.integers(low = 1, high = 10, size = 50)\n",
    "rints"
   ]
  },
  {
   "cell_type": "code",
   "execution_count": 10,
   "id": "48a6d780-cc22-48ae-a173-839925aa76a6",
   "metadata": {},
   "outputs": [
    {
     "data": {
      "text/plain": [
       "array([6, 9, 6, 1, 1, 2, 8, 7, 3, 5, 6, 3, 5, 3, 5, 8, 8, 2, 8, 1, 7, 8,\n",
       "       7, 2, 1, 2, 9, 9, 4, 9, 8, 4, 7, 6, 2, 4, 5, 9, 2, 5, 1, 4, 3, 1,\n",
       "       5, 3, 8, 8, 9, 7])"
      ]
     },
     "execution_count": 10,
     "metadata": {},
     "output_type": "execute_result"
    }
   ],
   "source": [
    "#Legacy code\n",
    "np.random.seed(1)\n",
    "np.random.randint(low = 1, high = 10, size = 50)"
   ]
  },
  {
   "cell_type": "markdown",
   "id": "eefd598f-0194-42b5-b558-a7fd4920080a",
   "metadata": {},
   "source": [
    "The way this works is that numpy.random.seed provides the input to the algorithm. The algorithm then generates pseudo-random numbers in NumPy. This input is called the 'Seed' value. The numpy.random.seed function is useless on it's own. It works in conjunction with other functions from the numpy.random package. In the examples above, we used numpy.random.seed along with numpy.random.randint which enabled us to create random integers. We could also use numpy.random.seed with numpy.random.normal to create normally distributed numbers. There are many other random functions in the package that enable us to generate random numbers, random samples, and samples from specific probability distributions.\n",
    "Looking at the above examples again, it is clear that we gave the pseudo-random number generator the same input twice and gog the same, you’ll get the same output. [05]<br>\n",
    "The syntax of NumPy random seed is as seen below:"
   ]
  },
  {
   "cell_type": "markdown",
   "id": "3fd38cc9-7082-42d4-8d06-ac865242934f",
   "metadata": {},
   "source": [
    "``numpy.random.default_rng()``<br>\n",
    "<br>"
   ]
  },
  {
   "cell_type": "markdown",
   "id": "498c5252-34e5-444f-9991-0ebc4ac82bec",
   "metadata": {},
   "source": [
    "To use it, just call the function by name and then pass in a “seed” value inside the parenthesis. Let's use the NumPy random random function (np.random.random) to generate a random number between zero and one. This time we'll put the seed value as 0."
   ]
  },
  {
   "cell_type": "code",
   "execution_count": 11,
   "id": "202e27be-6b72-4437-9778-69c854fa3137",
   "metadata": {},
   "outputs": [
    {
     "data": {
      "text/plain": [
       "0.6369616873214543"
      ]
     },
     "execution_count": 11,
     "metadata": {},
     "output_type": "execute_result"
    }
   ],
   "source": [
    "rng = np.random.default_rng(0)\n",
    "rfloat = rng.random()\n",
    "rfloat"
   ]
  },
  {
   "cell_type": "code",
   "execution_count": 12,
   "id": "d1128e7f-0b08-40c8-bb10-0b5e88407e20",
   "metadata": {},
   "outputs": [
    {
     "data": {
      "text/plain": [
       "0.5488135039273248"
      ]
     },
     "execution_count": 12,
     "metadata": {},
     "output_type": "execute_result"
    }
   ],
   "source": [
    "#Legacy code\n",
    "np.random.seed(0)\n",
    "np.random.random()"
   ]
  },
  {
   "cell_type": "markdown",
   "id": "08269989-e095-4c72-9d2d-f9de14715ec5",
   "metadata": {},
   "source": [
    "let’s run it again with the same seed."
   ]
  },
  {
   "cell_type": "code",
   "execution_count": 13,
   "id": "33151afd-ddc9-4bb4-85c6-21b17f394d4b",
   "metadata": {},
   "outputs": [
    {
     "data": {
      "text/plain": [
       "0.6369616873214543"
      ]
     },
     "execution_count": 13,
     "metadata": {},
     "output_type": "execute_result"
    }
   ],
   "source": [
    "rng = np.random.default_rng(0)\n",
    "rfloat = rng.random()\n",
    "rfloat"
   ]
  },
  {
   "cell_type": "code",
   "execution_count": 14,
   "id": "ef830817-1121-46bd-937a-cf976a374cc3",
   "metadata": {},
   "outputs": [
    {
     "data": {
      "text/plain": [
       "0.5488135039273248"
      ]
     },
     "execution_count": 14,
     "metadata": {},
     "output_type": "execute_result"
    }
   ],
   "source": [
    "#Legacy code\n",
    "np.random.seed(0)\n",
    "np.random.random()"
   ]
  },
  {
   "cell_type": "markdown",
   "id": "245533db-7364-49d3-80c4-5c240d76e7a0",
   "metadata": {},
   "source": [
    "Just like in the first example, the generated number is exactly the same as the first time we ran the code. A question we might ask ourselves at this point is what number should we pass through the parenthesis? It doesn't really matter, but the output of a numpy.random function will depend on the seed that you use. Let's get np.random.randint to generate an array of 5 integers between 0 and 99."
   ]
  },
  {
   "cell_type": "code",
   "execution_count": 15,
   "id": "0c22b187-4eb8-4681-8a48-5f38a4aac57a",
   "metadata": {},
   "outputs": [
    {
     "data": {
      "text/plain": [
       "array([84, 63, 50, 26, 30], dtype=int64)"
      ]
     },
     "execution_count": 15,
     "metadata": {},
     "output_type": "execute_result"
    }
   ],
   "source": [
    "rng = np.random.default_rng(0)\n",
    "rints = rng.integers(99, size = 5)\n",
    "rints"
   ]
  },
  {
   "cell_type": "code",
   "execution_count": 16,
   "id": "cb1e42fa-2d08-4fd7-aa70-a5869b0d3544",
   "metadata": {},
   "outputs": [
    {
     "data": {
      "text/plain": [
       "array([44, 47, 64, 67, 67])"
      ]
     },
     "execution_count": 16,
     "metadata": {},
     "output_type": "execute_result"
    }
   ],
   "source": [
    "#Legacy code\n",
    "np.random.seed(0)\n",
    "np.random.randint(99, size = 5)"
   ]
  },
  {
   "cell_type": "markdown",
   "id": "33eceddb-a2cf-4a36-8231-11c6d1d501f5",
   "metadata": {},
   "source": [
    "Now let's run the exact same code again but with a different seed."
   ]
  },
  {
   "cell_type": "code",
   "execution_count": 17,
   "id": "7d08d1c9-e5c4-4712-b5c8-1655c89246d6",
   "metadata": {},
   "outputs": [
    {
     "data": {
      "text/plain": [
       "array([46, 50, 74, 94,  3], dtype=int64)"
      ]
     },
     "execution_count": 17,
     "metadata": {},
     "output_type": "execute_result"
    }
   ],
   "source": [
    "rng = np.random.default_rng(1)\n",
    "rints = rng.integers(99, size = 5)\n",
    "rints"
   ]
  },
  {
   "cell_type": "code",
   "execution_count": 18,
   "id": "60f8ddc4-cbcc-4353-bc3d-af7981a161e4",
   "metadata": {},
   "outputs": [
    {
     "data": {
      "text/plain": [
       "array([37, 12, 72,  9, 75])"
      ]
     },
     "execution_count": 18,
     "metadata": {},
     "output_type": "execute_result"
    }
   ],
   "source": [
    "#Legacy code\n",
    "np.random.seed(1)\n",
    "np.random.randint(99, size = 5)"
   ]
  },
  {
   "cell_type": "markdown",
   "id": "bf2cd7a6-0e10-4c59-855a-0dde6ad0a5a5",
   "metadata": {},
   "source": [
    "The output of a numpy.random function depends on the value of np.random.seed, however the choice of seed value is arbitrary. If we were to use a function from the numpy.random package (np.random.normal for exacmple) without using NumPy random seed first, Python would actually still use numpy.random.seed in the background. NumPy would generate a seed value from a part of our computer system (like /urandom on a Unix or Linux machine). In other words, if you don’t set a seed with numpy.random.seed, NumPy will set one for you. However, If we were to not set a seed value, our code would not have repeatable outputs. NumPy would generate a seed on its own, but that seed would vary and we wouldn't know it's value. This would make our outputs different every time we run it. So it is actually a good thing that this process is repeatable if we seed our values using numpy.random.seed. This is because code that has well defined, repeatable outputs is good for testing and sharing. The take home message here is that we should always use numpy.random.seed to get repeatable outputs."
   ]
  },
  {
   "cell_type": "code",
   "execution_count": 19,
   "id": "eb0ddc0c-174e-435d-b4ec-2ee478dc7fda",
   "metadata": {},
   "outputs": [
    {
     "data": {
      "text/plain": [
       "numpy.random._generator.Generator"
      ]
     },
     "execution_count": 19,
     "metadata": {},
     "output_type": "execute_result"
    }
   ],
   "source": [
    "np.random.Generator "
   ]
  },
  {
   "cell_type": "code",
   "execution_count": 20,
   "id": "008be857-166a-430d-a401-d06820c067ac",
   "metadata": {},
   "outputs": [],
   "source": [
    "# Do this (new version)\n",
    "from numpy.random import default_rng\n",
    "rng = default_rng()\n",
    "vals = rng.standard_normal(10)\n",
    "more_vals = rng.standard_normal(10)"
   ]
  },
  {
   "cell_type": "markdown",
   "id": "118da2b0-e678-4804-9ac2-c09481fc715c",
   "metadata": {},
   "source": [
    "When we observe the physical world we find random fluctuations everywhere. We can generate truly random numbers by measuring random fluctuations known as noise. When we measure this noise, known as 'sampling', we can obtain numbers. For example, if we were to measure the electric current of TV static over time, we would generate a truly random sequence. We can visualise this random sequence by drawing a path that changes direction according to each number. This is known as a random walk. [08]<br>\n",
    "\n",
    "![Random Walk](https://cdncontribute.geeksforgeeks.org/wp-content/uploads/python-random-walk-highrer-dimensions.jpeg)\n",
    "\n",
    "Notice the lack of pattern at all scales. At each point in the sequence, the next move is always unpredictable. Random processes are 'nondeterministic' since they are impossible to determine in advance. Computers on the other hand are 'deterministic'. Their operation is predicatbele and repeatable. In 1946, John Von Neuman was involved in running computations for the military where he was involved in the design of the Hydrogen Bomb. Using a computer called the Eniac, he planned to repeatedly calculate approximations of the processes invloved in nuclear fission.[60] This required quick access to randomly generated numbers that could be repeated if needed. The Eniac had very little internal memory. Storing long random sequences was not possible. To overcome this, Neuman developed and algorithm to mecahnically simulate the scrambling aspect of randomness as follows. First, select a seed value as discussed above. This seed is provided as imput to a simple calculation. [61] Multiply the seed by itself and then output the middle of this result. This output is then used as the next seed and the process is repeated as many times as needed. This is knows as the 'middle squares method' and is just the first in a long line of pseudo-random number generators. The randomness of the sequence is dependent on the randomness of the inital seed only. Same seed, same sequence. So what are the differnces between a randomly generated vs pseudo-randomly generated sequences? If we were to represend each sequence as a random walk, they seem similar until speeded up. A pseudo-random sequence must eventually repeat. This occurs when the algorithm reaches a seed it has previously used and the cycle repeats. The length before a pseudo-random sequence repeats is called the period. The period is strictly limited by the length of the initial seed. For example, if we use a 2-digit seed, then an algorithm can produce at most 100 numbers before reusing a seed and repeating the cycle. [61] A 3-digit seed can expand passed 1000 numbers before repeating its cycle. A 4-digit seed can expand 10,000 numbers before repeating. If we use a seed large enough, the sequence can expand into trillions of digits before repeating. The key difference is important. When we generate numbers pseudo-randomly, there are many sequences which cannot occur. When we move from random to pseudo-random shifts, we shrink the key space into a much much smaller seed space. So for a pseudo-random sequence to be indistinguishable from a randomly generated sequence, it must be impractical for a computer to try all seeds and look for a match. This leads to an important distiction in computer science between what is possible vs what is possible in a reasonable amount of time. We use the same logic when we buy a bike lock. We know that anybody can simply try all possible combinations until they find a match and it opens. But it would take them days to do so. So for 8 hours, we assume it's practically safe. With pseudo-random generators, the security inceases as the length of the seed increases. If the most powerful computer would take hundreds of years to run through all seeds, then we can safely assume that it's practically secure instead of perfectly secure. As computers get faster, the seed size must increase accordingly. [61]"
   ]
  },
  {
   "cell_type": "markdown",
   "id": "b52731ad-a5fd-472e-bdce-95276c713634",
   "metadata": {},
   "source": [
    "***\n",
    "\n",
    "## Simple Random Data\n",
    "***"
   ]
  },
  {
   "cell_type": "markdown",
   "id": "60580703-3091-4423-b019-cb959fbf12cf",
   "metadata": {},
   "source": [
    "The Simple Random Data functions in the NumPy package are integers (numpy.random.Generator.integers), random (numpy.random.Generator.random), choice (numpy.random.Generator.choice) and bytes (numpy.random.Generator.bytes). [54]"
   ]
  },
  {
   "cell_type": "markdown",
   "id": "d1fb228d-849e-468e-ae19-e083b93eb3df",
   "metadata": {},
   "source": [
    "### Integers"
   ]
  },
  {
   "cell_type": "markdown",
   "id": "d9dad606-6e99-4bd6-bf57-c53a90a2316d",
   "metadata": {},
   "source": [
    "The integer function return random integers. To start, let's create an rng with a seed value of 42. "
   ]
  },
  {
   "cell_type": "code",
   "execution_count": 21,
   "id": "22d3eb7e-eb3c-4b20-ad59-26ca06d66d65",
   "metadata": {},
   "outputs": [],
   "source": [
    "rng = np.random.default_rng(42)"
   ]
  },
  {
   "cell_type": "markdown",
   "id": "1cc47f6b-112a-4f74-a2f8-e9872e4947d4",
   "metadata": {},
   "source": [
    "We can call the function by writing ``rng.integers()``. Something must be passed as an argument through the parenthesis though otherwise we will get an error. [14]"
   ]
  },
  {
   "cell_type": "markdown",
   "id": "c0c5b04e-61fc-42d3-a539-05802d3e5c66",
   "metadata": {},
   "source": [
    "The default parameters are rng.integers(low, high=None, size=None, dtype=np.int64, endpoint=False) Let's take a look at the parameters:"
   ]
  },
  {
   "cell_type": "markdown",
   "id": "3b58e727-defd-4058-a08a-35a12aef7ae6",
   "metadata": {},
   "source": [
    "Let's start by simply passing one number as an argument, 5."
   ]
  },
  {
   "cell_type": "code",
   "execution_count": 22,
   "id": "65ffa375-a05b-4ae9-b989-6b33a45b8b2b",
   "metadata": {},
   "outputs": [
    {
     "data": {
      "text/plain": [
       "0"
      ]
     },
     "execution_count": 22,
     "metadata": {},
     "output_type": "execute_result"
    }
   ],
   "source": [
    "rng.integers(5)"
   ]
  },
  {
   "cell_type": "markdown",
   "id": "19e52362-19cb-4f0c-8baf-cc8ab5c6bbd2",
   "metadata": {},
   "source": [
    "This gives a random integer in the range from 0 to 4. This is because the 'high' value is exclusive, meaning that the range will stop at one integer value before the 'high' value, 5 in this case. The 'low' value is 0 by default. In the function below, we have asked the integers function to give us one random integer in the range from 1 to 9. "
   ]
  },
  {
   "cell_type": "code",
   "execution_count": 23,
   "id": "b679ddac-dffc-4e2a-bd4b-e1051291b429",
   "metadata": {},
   "outputs": [
    {
     "data": {
      "text/plain": [
       "7"
      ]
     },
     "execution_count": 23,
     "metadata": {},
     "output_type": "execute_result"
    }
   ],
   "source": [
    "rng.integers(1, 10)"
   ]
  },
  {
   "cell_type": "markdown",
   "id": "4ce844fb-b52f-46d6-8a6e-34545b3eca7f",
   "metadata": {},
   "source": [
    "Let's confirm that the 'high' number is exclusive by asking the integer function to give us 10 random integers in the range of 0 to 1 by setting the high value to 2 and using the 'size' parameter. The 'size' parameter is the output shape, meaning that if we pass ``size = 10`` through the function, we will get 10 intgers out."
   ]
  },
  {
   "cell_type": "code",
   "execution_count": 24,
   "id": "9aa1b413-3b62-4b40-9e2a-6f3d3a28cb8f",
   "metadata": {},
   "outputs": [
    {
     "data": {
      "text/plain": [
       "array([1, 0, 0, 1, 0, 1, 0, 0, 1, 1], dtype=int64)"
      ]
     },
     "execution_count": 24,
     "metadata": {},
     "output_type": "execute_result"
    }
   ],
   "source": [
    "rng.integers(2, size = 10)"
   ]
  },
  {
   "cell_type": "code",
   "execution_count": 25,
   "id": "4658a191-984b-455b-9438-aebc7bbec327",
   "metadata": {},
   "outputs": [
    {
     "data": {
      "text/plain": [
       "array([2, 2, 2, 2, 1, 0, 2, 1, 1, 1], dtype=int64)"
      ]
     },
     "execution_count": 25,
     "metadata": {},
     "output_type": "execute_result"
    }
   ],
   "source": [
    "rng.integers(2, size = 10, endpoint = True)"
   ]
  },
  {
   "cell_type": "markdown",
   "id": "d7591204-1419-4bf3-8c25-984bb7dfedfe",
   "metadata": {},
   "source": [
    "We can see here that changing 'endpoint' to true gave us some 2's, showing us that changing 'endpoint' to true forces the function to include the 'high' value.<br>\n",
    "Now let's pass a tuple for the 'size' paramater and see what happens."
   ]
  },
  {
   "cell_type": "code",
   "execution_count": 26,
   "id": "9c51423c-fd3f-484f-b26a-68a0f914171f",
   "metadata": {},
   "outputs": [
    {
     "data": {
      "text/plain": [
       "array([[0, 4, 3, 3],\n",
       "       [2, 4, 2, 2]], dtype=int64)"
      ]
     },
     "execution_count": 26,
     "metadata": {},
     "output_type": "execute_result"
    }
   ],
   "source": [
    "rints_1 = rng.integers(5, size = (2, 4))\n",
    "rints_1"
   ]
  },
  {
   "cell_type": "code",
   "execution_count": 27,
   "id": "f59b9507-9344-4602-9b79-b011b7b2493c",
   "metadata": {},
   "outputs": [
    {
     "data": {
      "text/plain": [
       "1"
      ]
     },
     "execution_count": 27,
     "metadata": {},
     "output_type": "execute_result"
    }
   ],
   "source": [
    "rints.ndim"
   ]
  },
  {
   "cell_type": "markdown",
   "id": "52eda24f-c028-48a8-bee2-e1132b2e077f",
   "metadata": {},
   "source": [
    "The output here is a NumPy array. This is a 2 x 4 2 dimensional array of integers between 0 and 4. Let's now try a bigger shape."
   ]
  },
  {
   "cell_type": "code",
   "execution_count": 28,
   "id": "4f16bae4-56ff-4e8a-a8fa-3914b6e9d753",
   "metadata": {},
   "outputs": [
    {
     "data": {
      "text/plain": [
       "array([[[2, 1],\n",
       "        [0, 2],\n",
       "        [4, 0],\n",
       "        [4, 4]],\n",
       "\n",
       "       [[1, 3],\n",
       "        [0, 3],\n",
       "        [3, 1],\n",
       "        [0, 4]]], dtype=int64)"
      ]
     },
     "execution_count": 28,
     "metadata": {},
     "output_type": "execute_result"
    }
   ],
   "source": [
    "rints_2 = rng.integers(5, size = (2, 4, 2))\n",
    "rints_2"
   ]
  },
  {
   "cell_type": "markdown",
   "id": "27cb112c-80a5-45b6-ab81-f2511b7b6ecd",
   "metadata": {},
   "source": [
    "The output here is a 2 x 4 x 2 3 dimensional array of integers between 0 and 4."
   ]
  },
  {
   "cell_type": "code",
   "execution_count": 29,
   "id": "87b647ad-6085-4021-8ef2-17687248d11a",
   "metadata": {},
   "outputs": [
    {
     "data": {
      "text/plain": [
       "3"
      ]
     },
     "execution_count": 29,
     "metadata": {},
     "output_type": "execute_result"
    }
   ],
   "source": [
    "rints_2.ndim"
   ]
  },
  {
   "cell_type": "markdown",
   "id": "42d4a106-e0bb-4038-8d7c-50683923e825",
   "metadata": {},
   "source": [
    "We can also pass an array of integers as the 'high' value which will give us a set of upper bounds. For example, let's generate a 1 x 2 array with 2 different upper bounds."
   ]
  },
  {
   "cell_type": "code",
   "execution_count": 30,
   "id": "6a4dc275-022d-46e0-947a-3c1551388c8e",
   "metadata": {},
   "outputs": [
    {
     "data": {
      "text/plain": [
       "array([1, 4], dtype=int64)"
      ]
     },
     "execution_count": 30,
     "metadata": {},
     "output_type": "execute_result"
    }
   ],
   "source": [
    "rng.integers(1, [3, 5])"
   ]
  },
  {
   "cell_type": "markdown",
   "id": "6fdd4bd1-abac-4672-bca2-ea8f3bb8bb0a",
   "metadata": {},
   "source": [
    "Above, the 1 is the lower limit. The first integer generated must be between 1 and 2 and second integer must be between 1 and 4"
   ]
  },
  {
   "cell_type": "markdown",
   "id": "9f962dcb-191f-4b00-bf5a-f970adec348c",
   "metadata": {},
   "source": [
    "Now let's generate a 1 x 3 array with 3 different upper bounds. "
   ]
  },
  {
   "cell_type": "code",
   "execution_count": 31,
   "id": "08778ff2-d3be-4d94-8239-a979cc186aec",
   "metadata": {},
   "outputs": [
    {
     "data": {
      "text/plain": [
       "array([2, 4, 7], dtype=int64)"
      ]
     },
     "execution_count": 31,
     "metadata": {},
     "output_type": "execute_result"
    }
   ],
   "source": [
    "rng.integers(1, [3, 5, 10])"
   ]
  },
  {
   "cell_type": "markdown",
   "id": "87b68de8-7316-485f-bf3f-9210c707d204",
   "metadata": {},
   "source": [
    "Above, the 1 is the lower limit. The first integer generated must be between 1 and 2, the second integer must be between 1 and 4 and third integer must be between 1 and 9. The same can be done for lower boundaries."
   ]
  },
  {
   "cell_type": "code",
   "execution_count": 32,
   "id": "24209c78-3a05-4082-80cf-f62d9cbc4a63",
   "metadata": {},
   "outputs": [
    {
     "data": {
      "text/plain": [
       "array([2, 8], dtype=int64)"
      ]
     },
     "execution_count": 32,
     "metadata": {},
     "output_type": "execute_result"
    }
   ],
   "source": [
    "rng.integers([1, 7], 10)"
   ]
  },
  {
   "cell_type": "code",
   "execution_count": 33,
   "id": "a8d2a692-2257-47ae-8703-a1d41be48003",
   "metadata": {},
   "outputs": [
    {
     "data": {
      "text/plain": [
       "array([5, 7, 7], dtype=int64)"
      ]
     },
     "execution_count": 33,
     "metadata": {},
     "output_type": "execute_result"
    }
   ],
   "source": [
    "# Another example\n",
    "rng.integers([1, 5, 7], 10)"
   ]
  },
  {
   "cell_type": "markdown",
   "id": "eb43ac94-e40b-4dc7-bff5-07e998130ea0",
   "metadata": {},
   "source": [
    "Let's generate 3 random integers with 3 different sets of lower and upper bounds."
   ]
  },
  {
   "cell_type": "code",
   "execution_count": 34,
   "id": "b24654c1-b99a-418c-b293-cf4ff015e678",
   "metadata": {},
   "outputs": [
    {
     "data": {
      "text/plain": [
       "array([2, 1, 9], dtype=int64)"
      ]
     },
     "execution_count": 34,
     "metadata": {},
     "output_type": "execute_result"
    }
   ],
   "source": [
    "rng.integers([1, 1, 8], [3, 5, 10])"
   ]
  },
  {
   "cell_type": "markdown",
   "id": "71ac1f5a-8d98-4437-8895-0a17a2fba753",
   "metadata": {},
   "source": [
    "Above, the first integer generated must be between 1 and 2, the second integer must be between 1 and 4 and third integer must be between 8 and 9"
   ]
  },
  {
   "cell_type": "code",
   "execution_count": 35,
   "id": "c1fa60d2-a684-4c7c-89c5-eafdb6e77d61",
   "metadata": {},
   "outputs": [
    {
     "data": {
      "text/plain": [
       "array([7, 9, 9], dtype=int64)"
      ]
     },
     "execution_count": 35,
     "metadata": {},
     "output_type": "execute_result"
    }
   ],
   "source": [
    "# Another example\n",
    "rng.integers([1, 5, 7], [10, 10, 10])"
   ]
  },
  {
   "cell_type": "markdown",
   "id": "ecbe86fe-dbe1-4bdd-80a1-b66986ad87fe",
   "metadata": {},
   "source": [
    "Let's generate a 2 by 4 array using broadcasting with dtype of 8 bit unsigned integer. Broadcasting means that for example, we can put 4 integers as the 'low' values and then use a 2 dimensional array for the 'high' value."
   ]
  },
  {
   "cell_type": "code",
   "execution_count": 36,
   "id": "095bd1e9-0ef2-4b36-bcba-03d8f787d19b",
   "metadata": {
    "tags": []
   },
   "outputs": [
    {
     "data": {
      "text/plain": [
       "array([[ 1,  5,  9,  8],\n",
       "       [15, 15, 15, 19]], dtype=uint8)"
      ]
     },
     "execution_count": 36,
     "metadata": {},
     "output_type": "execute_result"
    }
   ],
   "source": [
    "rng.integers([1, 3, 5, 7], [[10], [20]], dtype = np.uint8)"
   ]
  },
  {
   "cell_type": "markdown",
   "id": "6ecc6537-4096-4306-8cca-93a744c4ee19",
   "metadata": {},
   "source": [
    "Above, we generated a 2D array and the upper boundary for the first array is 9 but for the second array it's 19. Below is another example but this time using broadcasting for the lower bound."
   ]
  },
  {
   "cell_type": "code",
   "execution_count": 37,
   "id": "bbf4ae9e-f4c9-476d-a5e3-0128a1eca68b",
   "metadata": {},
   "outputs": [
    {
     "data": {
      "text/plain": [
       "array([[ 2,  6,  3,  7],\n",
       "       [10, 11, 11, 12]], dtype=uint8)"
      ]
     },
     "execution_count": 37,
     "metadata": {},
     "output_type": "execute_result"
    }
   ],
   "source": [
    "rng.integers([[1], [10]], [11, 13, 15, 17], dtype = np.uint8)"
   ]
  },
  {
   "cell_type": "markdown",
   "id": "785f64b7-1dbd-49e3-863f-fa7d33779fba",
   "metadata": {},
   "source": [
    "Let's now investigate whether or not the integers function has any bias towards any particulat numbers. First, we'll need to create an object that will store 100 random integers ranging from 0 to 99. We will also graphically represent this array as a histogram."
   ]
  },
  {
   "cell_type": "code",
   "execution_count": 38,
   "id": "13cb4c20-dbf0-415b-97f0-5492b3a72250",
   "metadata": {
    "tags": []
   },
   "outputs": [
    {
     "data": {
      "text/plain": [
       "array([90, 37,  7, 46, 79, 18, 46, 12, 68, 47, 33, 22, 56, 66, 94, 43, 16,\n",
       "       83, 62, 70,  9, 31, 76, 83, 43, 80, 84, 38, 89, 28, 23, 68, 63, 13,\n",
       "       83, 19, 80,  0, 79, 78, 78, 66, 47, 70, 27, 78, 55, 45, 50, 56,  3,\n",
       "       13, 24, 11, 43, 66, 65, 47, 85, 56,  7, 76, 57, 63, 56, 55,  9, 55,\n",
       "       79, 30, 60,  3, 34, 43, 98, 21, 27, 40, 99, 85,  3, 23, 82,  5, 85,\n",
       "       28, 91, 29, 43, 66, 12, 55, 50, 78, 99, 66, 40, 40, 41, 81],\n",
       "      dtype=int64)"
      ]
     },
     "execution_count": 38,
     "metadata": {},
     "output_type": "execute_result"
    }
   ],
   "source": [
    "rints_3 = rng.integers(100, size = 100)\n",
    "rints_3"
   ]
  },
  {
   "cell_type": "code",
   "execution_count": 39,
   "id": "3be6e9bc-40a7-41a6-90d1-e9b92905b1dd",
   "metadata": {},
   "outputs": [
    {
     "data": {
      "text/plain": [
       "(array([ 9.,  8., 10.,  6., 15., 11., 12., 11., 12.,  6.]),\n",
       " array([ 0. ,  9.9, 19.8, 29.7, 39.6, 49.5, 59.4, 69.3, 79.2, 89.1, 99. ]),\n",
       " <BarContainer object of 10 artists>)"
      ]
     },
     "execution_count": 39,
     "metadata": {},
     "output_type": "execute_result"
    },
    {
     "data": {
      "image/png": "[encoded data removed]",
      "text/plain": [
       "<Figure size 648x648 with 1 Axes>"
      ]
     },
     "metadata": {},
     "output_type": "display_data"
    }
   ],
   "source": [
    "plt.hist(rints_3)"
   ]
  },
  {
   "cell_type": "markdown",
   "id": "b5920e99-5bf5-4453-b05c-7e12550c4827",
   "metadata": {},
   "source": [
    "We can see here that this array is not evenly distributed. This is because a sample size of 100 is not sufficient enough to tell if there is a bias. Let's create another object and this time we will increase the size to 10000."
   ]
  },
  {
   "cell_type": "code",
   "execution_count": 40,
   "id": "455c2c0b-f2f5-42e5-aa30-6be3d4c74c61",
   "metadata": {
    "scrolled": true,
    "tags": []
   },
   "outputs": [
    {
     "data": {
      "text/plain": [
       "array([32, 16, 33, ..., 58, 43, 41], dtype=int64)"
      ]
     },
     "execution_count": 40,
     "metadata": {},
     "output_type": "execute_result"
    }
   ],
   "source": [
    "rints_4 = rng.integers(100, size = 10000)\n",
    "rints_4"
   ]
  },
  {
   "cell_type": "code",
   "execution_count": 41,
   "id": "13f7024d-f296-469a-91d5-3ae20e97ec5d",
   "metadata": {},
   "outputs": [
    {
     "data": {
      "text/plain": [
       "(array([ 973., 1047., 1029.,  976., 1040., 1037.,  954., 1003.,  955.,\n",
       "         986.]),\n",
       " array([ 0. ,  9.9, 19.8, 29.7, 39.6, 49.5, 59.4, 69.3, 79.2, 89.1, 99. ]),\n",
       " <BarContainer object of 10 artists>)"
      ]
     },
     "execution_count": 41,
     "metadata": {},
     "output_type": "execute_result"
    },
    {
     "data": {
      "image/png": "[encoded data removed]",
      "text/plain": [
       "<Figure size 648x648 with 1 Axes>"
      ]
     },
     "metadata": {},
     "output_type": "display_data"
    }
   ],
   "source": [
    "plt.hist(rints_4)"
   ]
  },
  {
   "cell_type": "markdown",
   "id": "ba2e968c-1c1c-43e5-9111-c42bbb3207c8",
   "metadata": {},
   "source": [
    "We can see here that the data is much more evenly distributed, the profile of the data is quite flat. The distribution into all of the bins seems roughly the same all the way across. Now let's change the size to 10 million and plot another histogram."
   ]
  },
  {
   "cell_type": "code",
   "execution_count": 42,
   "id": "b8e97e5c-f391-4c27-874d-f4abbb39c869",
   "metadata": {},
   "outputs": [
    {
     "data": {
      "text/plain": [
       "array([35,  5, 85, ..., 65, 53, 39], dtype=int64)"
      ]
     },
     "execution_count": 42,
     "metadata": {},
     "output_type": "execute_result"
    }
   ],
   "source": [
    "rints_5 = rng.integers(100, size = 10000000)\n",
    "rints_5"
   ]
  },
  {
   "cell_type": "code",
   "execution_count": 43,
   "id": "a3803049-e3fb-40a2-aa43-e0aa8666656c",
   "metadata": {},
   "outputs": [
    {
     "data": {
      "text/plain": [
       "(array([ 999256., 1000962., 1000930.,  997793., 1002007., 1000918.,\n",
       "         999384.,  999681.,  999870.,  999199.]),\n",
       " array([ 0. ,  9.9, 19.8, 29.7, 39.6, 49.5, 59.4, 69.3, 79.2, 89.1, 99. ]),\n",
       " <BarContainer object of 10 artists>)"
      ]
     },
     "execution_count": 43,
     "metadata": {},
     "output_type": "execute_result"
    },
    {
     "data": {
      "image/png": "[encoded data removed]",
      "text/plain": [
       "<Figure size 648x648 with 1 Axes>"
      ]
     },
     "metadata": {},
     "output_type": "display_data"
    }
   ],
   "source": [
    "plt.hist(rints_5)"
   ]
  },
  {
   "cell_type": "markdown",
   "id": "589c8a0f-638a-45ed-a5c1-cb6a45bd01d8",
   "metadata": {},
   "source": [
    "We can see here that we have an exact square. The bins each hold the number of values and we have a uniform distribution. This shows us that the integers function is not biased towards any particular integer. The function will generate all numbers with the same probability."
   ]
  },
  {
   "cell_type": "markdown",
   "id": "eb9517d4-ff44-4fec-bcb4-cbffda191282",
   "metadata": {},
   "source": [
    "### Random"
   ]
  },
  {
   "cell_type": "markdown",
   "id": "cc341031-a3e9-414e-8cdc-fc0003a9e4eb",
   "metadata": {},
   "source": [
    "The random function is used to generate floating point numbers (floats). By default the interval is between 0 and 1 and it is a half-open interval. [18]This means that the output will be greater than or equal to 0 and less than 1. Just like with integers, the numbers generated will be from a uniform distribution, however in this case they are continuous (i.e. not limited to integers). [15] For the random fucntion, the \"size\" and \"dtype\" arguments act just the same as for the integers function and therefor we do not need to cover this again here. Let's start by creating an rng with a seed value of 42."
   ]
  },
  {
   "cell_type": "code",
   "execution_count": 44,
   "id": "b4d595ed-4fe9-4e83-a13b-6fa71fb9ecd6",
   "metadata": {},
   "outputs": [],
   "source": [
    "rng = np.random.default_rng(42)"
   ]
  },
  {
   "cell_type": "code",
   "execution_count": 45,
   "id": "b8935b40-6995-4e2e-b38d-499d3a12ffac",
   "metadata": {},
   "outputs": [
    {
     "data": {
      "text/plain": [
       "0.7739560485559633"
      ]
     },
     "execution_count": 45,
     "metadata": {},
     "output_type": "execute_result"
    }
   ],
   "source": [
    "rng.random()"
   ]
  },
  {
   "cell_type": "markdown",
   "id": "9124e012-9c11-4e8c-92f4-43b68fa9f8b5",
   "metadata": {},
   "source": [
    "As seen above, if we do not pass any argument through the function, we will simply get a random number between 1 and 0, or in other words this could be described as a random probability. If we put just one number in the paranthesis, this corresponds to the size."
   ]
  },
  {
   "cell_type": "code",
   "execution_count": 46,
   "id": "74650e6c-bdc8-434f-a5dc-59e6d75576b1",
   "metadata": {},
   "outputs": [
    {
     "data": {
      "text/plain": [
       "array([0.43887844, 0.85859792, 0.69736803, 0.09417735, 0.97562235])"
      ]
     },
     "execution_count": 46,
     "metadata": {},
     "output_type": "execute_result"
    }
   ],
   "source": [
    "rng.random(5)"
   ]
  },
  {
   "cell_type": "markdown",
   "id": "4b25170f-435a-41e3-b81a-bb1cf5271954",
   "metadata": {},
   "source": [
    "To chenge the range of the function, we need to use the formula:\n",
    "<br>``(b - a) * random() + a``<br>\n",
    "Below we have a three-by-two array of random numbers from 5 to 10. This is because b minus a is 10 minus 5 is +5 for the left hand side, and + a is +5 on the right hand side."
   ]
  },
  {
   "cell_type": "code",
   "execution_count": 47,
   "id": "9c8ae8cb-d75e-4c19-8e2f-e38b4c8e16e2",
   "metadata": {},
   "outputs": [
    {
     "data": {
      "text/plain": [
       "array([[8.80569851, 8.93032153],\n",
       "       [5.64056816, 7.25192969],\n",
       "       [6.85399012, 9.63382494]])"
      ]
     },
     "execution_count": 47,
     "metadata": {},
     "output_type": "execute_result"
    }
   ],
   "source": [
    "5 * rng.random((3, 2)) + 5"
   ]
  },
  {
   "cell_type": "code",
   "execution_count": 48,
   "id": "6be8cc75-25c6-4752-a3ec-5f0d0d4a43f3",
   "metadata": {},
   "outputs": [
    {
     "data": {
      "text/plain": [
       "array([[5.64386512, 5.82276161],\n",
       "       [5.4434142 , 5.22723872],\n",
       "       [5.55458479, 5.06381726]])"
      ]
     },
     "execution_count": 48,
     "metadata": {},
     "output_type": "execute_result"
    }
   ],
   "source": [
    "# Here the range is from 5 to 6\n",
    "# 1 * rng.random((3, 2)) - 5 which is the same thing as:\n",
    "rng.random((3, 2)) + 5"
   ]
  },
  {
   "cell_type": "markdown",
   "id": "9b4660d5-1022-4826-9255-5b9983f6c19f",
   "metadata": {},
   "source": [
    "We can do the same for negative numbers. Below the range is from -5 to 0. The a here is -5 and b minus a here is 0 plus 5:<br>``(0-(-5)) = (0 + 5) = 5``<br>"
   ]
  },
  {
   "cell_type": "code",
   "execution_count": 49,
   "id": "07957d56-db54-4c86-97e0-3fe0d59e2f9e",
   "metadata": {},
   "outputs": [
    {
     "data": {
      "text/plain": [
       "array([[-0.86184414, -1.841678  ],\n",
       "       [-1.2095613 , -3.22737016],\n",
       "       [-0.14650988, -0.53439439]])"
      ]
     },
     "execution_count": 49,
     "metadata": {},
     "output_type": "execute_result"
    }
   ],
   "source": [
    "5 * rng.random((3, 2)) - 5"
   ]
  },
  {
   "cell_type": "code",
   "execution_count": 50,
   "id": "5463de0b-3caa-4540-b8e8-ac50694fd75c",
   "metadata": {},
   "outputs": [
    {
     "data": {
      "text/plain": [
       "array([[-4.2216165 , -4.80536129],\n",
       "       [-4.533279  , -4.95619623],\n",
       "       [-4.84571051, -4.31695105]])"
      ]
     },
     "execution_count": 50,
     "metadata": {},
     "output_type": "execute_result"
    }
   ],
   "source": [
    "# Here the range is from -4 to 5\n",
    "# 1 * rng.random((3, 2)) - 5 which is the same thing as:\n",
    "rng.random((3, 2)) - 5"
   ]
  },
  {
   "cell_type": "markdown",
   "id": "4c470089-9057-4aab-8bcc-2d53bd6af084",
   "metadata": {},
   "source": [
    "Let's now investigate whether or not the integers function has any bias towards any particular numbers. We'll do the same investigation as we did for NumPy integers. 3 histograms where the interval a half-open interval between 0 and 1 with size samples of 100, 10000 and 10 million."
   ]
  },
  {
   "cell_type": "code",
   "execution_count": 51,
   "id": "bdde5978-6b0e-468c-b6ac-b460171889e1",
   "metadata": {},
   "outputs": [
    {
     "data": {
      "text/plain": [
       "array([0.74476216, 0.96750973, 0.32582536, 0.37045971, 0.46955581,\n",
       "       0.18947136, 0.12992151, 0.47570493, 0.22690935, 0.66981399,\n",
       "       0.43715192, 0.8326782 , 0.7002651 , 0.31236664, 0.8322598 ,\n",
       "       0.80476436, 0.38747838, 0.2883281 , 0.6824955 , 0.13975248,\n",
       "       0.1999082 , 0.00736227, 0.78692438, 0.66485086, 0.70516538,\n",
       "       0.78072903, 0.45891578, 0.5687412 , 0.139797  , 0.11453007,\n",
       "       0.66840296, 0.47109621, 0.56523611, 0.76499886, 0.63471832,\n",
       "       0.5535794 , 0.55920716, 0.3039501 , 0.03081783, 0.43671739,\n",
       "       0.21458467, 0.40852864, 0.85340307, 0.23393949, 0.05830274,\n",
       "       0.28138389, 0.29359376, 0.66191651, 0.55703215, 0.78389821,\n",
       "       0.66431354, 0.40638686, 0.81402038, 0.16697292, 0.02271207,\n",
       "       0.09004786, 0.72235935, 0.46187723, 0.16127178, 0.50104478,\n",
       "       0.1523121 , 0.69632038, 0.44615628, 0.38102123, 0.30151209,\n",
       "       0.63028259, 0.36181261, 0.08764992, 0.1180059 , 0.96189766,\n",
       "       0.90858069, 0.69970713, 0.26586996, 0.96917638, 0.7787509 ,\n",
       "       0.71689019, 0.4493615 , 0.27224156, 0.09639096, 0.9026024 ,\n",
       "       0.45577629, 0.20236336, 0.30595662, 0.57921957, 0.17677278,\n",
       "       0.85661428, 0.75851953, 0.71946296, 0.43209304, 0.62730884,\n",
       "       0.58409797, 0.6498466 , 0.08444432, 0.4158074 , 0.04161417,\n",
       "       0.49399082, 0.32986121, 0.14452419, 0.10340297, 0.58764457])"
      ]
     },
     "execution_count": 51,
     "metadata": {},
     "output_type": "execute_result"
    }
   ],
   "source": [
    "rrandom_1 = rng.random(100)\n",
    "rrandom_1"
   ]
  },
  {
   "cell_type": "code",
   "execution_count": 52,
   "id": "c53471c5-da88-4eda-90ab-0fbf36ae8eac",
   "metadata": {},
   "outputs": [
    {
     "data": {
      "text/plain": [
       "(array([10., 11., 10., 10., 14.,  9., 10., 11., 10.,  5.]),\n",
       " array([0.00736227, 0.10354368, 0.19972509, 0.2959065 , 0.39208791,\n",
       "        0.48826932, 0.58445073, 0.68063215, 0.77681356, 0.87299497,\n",
       "        0.96917638]),\n",
       " <BarContainer object of 10 artists>)"
      ]
     },
     "execution_count": 52,
     "metadata": {},
     "output_type": "execute_result"
    },
    {
     "data": {
      "image/png": "[encoded data removed]",
      "text/plain": [
       "<Figure size 648x648 with 1 Axes>"
      ]
     },
     "metadata": {},
     "output_type": "display_data"
    }
   ],
   "source": [
    "plt.hist(rrandom_1)"
   ]
  },
  {
   "cell_type": "code",
   "execution_count": 53,
   "id": "3aa7269f-8bb8-4921-8741-4608b2102423",
   "metadata": {},
   "outputs": [
    {
     "data": {
      "text/plain": [
       "array([0.17059297, 0.92512012, 0.58106114, ..., 0.95014389, 0.12381909,\n",
       "       0.38314887])"
      ]
     },
     "execution_count": 53,
     "metadata": {},
     "output_type": "execute_result"
    }
   ],
   "source": [
    "rrandom_2 = rng.random(10000)\n",
    "rrandom_2"
   ]
  },
  {
   "cell_type": "code",
   "execution_count": 54,
   "id": "6108428c-25d2-4409-9231-8e361a7314c4",
   "metadata": {},
   "outputs": [
    {
     "data": {
      "text/plain": [
       "(array([ 985., 1056., 1006.,  998.,  968., 1031., 1007.,  983.,  971.,\n",
       "         995.]),\n",
       " array([3.14419644e-04, 1.00280680e-01, 2.00246940e-01, 3.00213200e-01,\n",
       "        4.00179460e-01, 5.00145720e-01, 6.00111980e-01, 7.00078240e-01,\n",
       "        8.00044500e-01, 9.00010760e-01, 9.99977020e-01]),\n",
       " <BarContainer object of 10 artists>)"
      ]
     },
     "execution_count": 54,
     "metadata": {},
     "output_type": "execute_result"
    },
    {
     "data": {
      "image/png": "[encoded data removed]",
      "text/plain": [
       "<Figure size 648x648 with 1 Axes>"
      ]
     },
     "metadata": {},
     "output_type": "display_data"
    }
   ],
   "source": [
    "plt.hist(rrandom_2)"
   ]
  },
  {
   "cell_type": "code",
   "execution_count": 55,
   "id": "93bfe211-eed9-42ef-9547-aaa2c575ec8c",
   "metadata": {},
   "outputs": [
    {
     "data": {
      "text/plain": [
       "array([0.87952756, 0.10656797, 0.48360425, ..., 0.1380578 , 0.39814049,\n",
       "       0.64368557])"
      ]
     },
     "execution_count": 55,
     "metadata": {},
     "output_type": "execute_result"
    }
   ],
   "source": [
    "rrandom_3 = rng.random(10000000)\n",
    "rrandom_3"
   ]
  },
  {
   "cell_type": "code",
   "execution_count": 56,
   "id": "f17c1dfe-4234-41b6-9663-434392f08e09",
   "metadata": {},
   "outputs": [
    {
     "data": {
      "text/plain": [
       "(array([ 999256., 1000937., 1001055., 1000130., 1001440.,  999423.,\n",
       "         998472., 1000015.,  999297.,  999975.]),\n",
       " array([5.34029949e-08, 1.00000040e-01, 2.00000027e-01, 3.00000013e-01,\n",
       "        4.00000000e-01, 4.99999986e-01, 5.99999973e-01, 6.99999960e-01,\n",
       "        7.99999946e-01, 8.99999933e-01, 9.99999920e-01]),\n",
       " <BarContainer object of 10 artists>)"
      ]
     },
     "execution_count": 56,
     "metadata": {},
     "output_type": "execute_result"
    },
    {
     "data": {
      "image/png": "[encoded data removed]",
      "text/plain": [
       "<Figure size 648x648 with 1 Axes>"
      ]
     },
     "metadata": {},
     "output_type": "display_data"
    }
   ],
   "source": [
    "plt.hist(rrandom_3)"
   ]
  },
  {
   "cell_type": "markdown",
   "id": "bb8801fc-bfc3-4424-a545-d72c5cc52451",
   "metadata": {},
   "source": [
    "We can see here that again we have an exact square. The bins each hold the number of values and we have a uniform distribution. This shows us that the random function is not biased towards any particular number. The function will generate all numbers with the same probability."
   ]
  },
  {
   "cell_type": "markdown",
   "id": "b049c24d-571f-4ad9-bfe7-387317bdfac2",
   "metadata": {},
   "source": [
    "### Choice"
   ]
  },
  {
   "cell_type": "markdown",
   "id": "c3cbff18-1fda-4d92-8cd9-661d60c567c4",
   "metadata": {},
   "source": [
    "The choice function generates a random sample from a given array. This means that the choice function randomly picks one of the arguments that have it has been given from a selection. As before, let's create an rng with a seed value of 1 this time. We can pass an integer or aray_like object as an argument for the 'a' parameter. [16] For array_like arguments this could be something like 'Rock', Paper or 'Scissors' which I will talk more about later. If the the argument is an integer, then the function calls np.arange(a) to generate the sample. This means that if we chose 5 for a, it would be the equivalent of typing ``[0, 1, 2, 3, 4]``, another half open interval."
   ]
  },
  {
   "cell_type": "code",
   "execution_count": 57,
   "id": "40a86a0d-9756-4190-a3c8-998243bc6e76",
   "metadata": {},
   "outputs": [],
   "source": [
    "rng = np.random.default_rng(1)"
   ]
  },
  {
   "cell_type": "code",
   "execution_count": 58,
   "id": "67a0e609-47e6-406d-ab9c-d071e07e7582",
   "metadata": {},
   "outputs": [
    {
     "data": {
      "text/plain": [
       "array([2, 2, 3], dtype=int64)"
      ]
     },
     "execution_count": 58,
     "metadata": {},
     "output_type": "execute_result"
    }
   ],
   "source": [
    "rng.choice(5, 3) # size = 3"
   ]
  },
  {
   "cell_type": "markdown",
   "id": "b6492c4b-5671-4fa7-9386-1415b9ebdd81",
   "metadata": {},
   "source": [
    "In the above example, we have asked the choice function to pick 3 random numbers between 0 and 4. Below is the same function writen differently:"
   ]
  },
  {
   "cell_type": "code",
   "execution_count": 59,
   "id": "9e329126-8fe4-42cd-b02a-2de8f77de5b1",
   "metadata": {},
   "outputs": [
    {
     "data": {
      "text/plain": [
       "array([4, 0, 0])"
      ]
     },
     "execution_count": 59,
     "metadata": {},
     "output_type": "execute_result"
    }
   ],
   "source": [
    "rng.choice([0, 1, 2, 3, 4], 3)"
   ]
  },
  {
   "cell_type": "code",
   "execution_count": 60,
   "id": "caae8fb5-18cd-4429-8dfb-c08980027201",
   "metadata": {},
   "outputs": [
    {
     "data": {
      "text/plain": [
       "array([[4, 4, 1, 1, 4],\n",
       "       [2, 1, 4, 1, 2],\n",
       "       [3, 2, 0, 0, 4],\n",
       "       [3, 4, 2, 4, 1]], dtype=int64)"
      ]
     },
     "execution_count": 60,
     "metadata": {},
     "output_type": "execute_result"
    }
   ],
   "source": [
    "rng.choice(5, (4, 5)) # another example with size = 4 x 5"
   ]
  },
  {
   "cell_type": "markdown",
   "id": "2fa4574f-522a-4e5e-afed-493fa201dd91",
   "metadata": {},
   "source": [
    "The 'p' parameter is the probability associated with each entry in 'a'. How much bias is given to each of the entries in 'a'. This is an optional value and if no value is given then the choice function assumes a uniform distribution over all entries in a, meaning that all of the entries have an equal chance of being selected. Note that the probabilities must add up to 1."
   ]
  },
  {
   "cell_type": "code",
   "execution_count": 61,
   "id": "ccba0ec2-1471-4b78-85ef-b88ac1a3b74d",
   "metadata": {},
   "outputs": [
    {
     "data": {
      "text/plain": [
       "array([3, 2, 3], dtype=int64)"
      ]
     },
     "execution_count": 61,
     "metadata": {},
     "output_type": "execute_result"
    }
   ],
   "source": [
    "rng.choice(5, 3, p = [0.1, 0, 0.3, 0.6, 0])\n",
    "# 10% chance of 0 being selected,\n",
    "# 0 % chance of 1 being selected,\n",
    "# 30% chance of 2 being selected,\n",
    "# 60 % chance of 3 being selected,\n",
    "# 0 % chance of 4 being selected."
   ]
  },
  {
   "cell_type": "markdown",
   "id": "3d6876fe-c4cc-4555-a1ed-8195c3c2fcfb",
   "metadata": {},
   "source": [
    "The replace parameter is an optional parameter and it is boolean. The default is set to true and it means that the entries can be selected multiple times."
   ]
  },
  {
   "cell_type": "code",
   "execution_count": 62,
   "id": "eb35cae5-6f22-476e-9ecc-c65f378106ed",
   "metadata": {},
   "outputs": [
    {
     "data": {
      "text/plain": [
       "array([2, 1, 0], dtype=int64)"
      ]
     },
     "execution_count": 62,
     "metadata": {},
     "output_type": "execute_result"
    }
   ],
   "source": [
    "rng.choice(5, 3, replace=False)\n",
    "# The numbers ranging from 0 to 4 cannot be selected more than once."
   ]
  },
  {
   "cell_type": "code",
   "execution_count": 63,
   "id": "1f5cf998-a1ec-4a42-ba51-cf611a8e00ca",
   "metadata": {},
   "outputs": [
    {
     "data": {
      "text/plain": [
       "array(['Paper', 'Scissors', 'Rock'], dtype='<U8')"
      ]
     },
     "execution_count": 63,
     "metadata": {},
     "output_type": "execute_result"
    }
   ],
   "source": [
    "rng.choice(['Rock', 'Paper', 'Scissors'] , 3, replace=False)\n",
    "# Each string cannot be selected more than once.\n",
    "# The size must not be later than the amount of things that can be selected."
   ]
  },
  {
   "cell_type": "code",
   "execution_count": 64,
   "id": "152f8050-d5f2-42d3-bcf3-c626940a9e63",
   "metadata": {},
   "outputs": [
    {
     "data": {
      "text/plain": [
       "array([[0, 1, 2],\n",
       "       [3, 4, 5]])"
      ]
     },
     "execution_count": 64,
     "metadata": {},
     "output_type": "execute_result"
    }
   ],
   "source": [
    "rng.choice([[0, 1, 2], [3, 4, 5], [6, 7, 8]], 2, replace=False)\n",
    "# Another example from a 2-D array"
   ]
  },
  {
   "cell_type": "code",
   "execution_count": 65,
   "id": "43e0772f-8ec8-4856-9bf6-ee3ac4226b40",
   "metadata": {},
   "outputs": [
    {
     "data": {
      "text/plain": [
       "array([3, 2, 0], dtype=int64)"
      ]
     },
     "execution_count": 65,
     "metadata": {},
     "output_type": "execute_result"
    }
   ],
   "source": [
    "rng.choice(5, 3, replace=False, p=[0.1, 0, 0.3, 0.6, 0])\n",
    "# Another example from np.arange(5) of size 3 without replacement and non-uniform"
   ]
  },
  {
   "cell_type": "markdown",
   "id": "eb283686-32fa-45f3-b48b-ae82d9e49c6c",
   "metadata": {},
   "source": [
    "Let's now investigate whether or not the integers function has any bias towards any particular numbers. We'll use the pandas 'Series' function and from the 'Series' module we'll use the 'plot.bar' function to show a bar chart of the 'Choice' function. First we'll convert the output of the below choice function into a Series and store it in the variable 's'. [20] Next, we'll use the Series function ``value_counts`` [21] to show the amount of times each entry in the choice function was selected. We'll also going to put the order displayed in the order of 'Rock', 'Paper', 'Scissors' because this is the way everyone knows the game. The default for ``value_counts`` is ascending. To do this, we just need to pass the expression as a list through vc and then assign it back to the original variable as seen below. We then print ``vc`` to show the value counts and then we use the Series function ``plot.bar`` to show the bar chart. [22]"
   ]
  },
  {
   "cell_type": "code",
   "execution_count": 66,
   "id": "f4916756-0f14-4546-97c2-9d99485ba616",
   "metadata": {},
   "outputs": [
    {
     "name": "stdout",
     "output_type": "stream",
     "text": [
      "Rock        4\n",
      "Paper       7\n",
      "Scissors    4\n",
      "dtype: int64\n"
     ]
    },
    {
     "data": {
      "text/plain": [
       "<AxesSubplot:>"
      ]
     },
     "execution_count": 66,
     "metadata": {},
     "output_type": "execute_result"
    },
    {
     "data": {
      "image/png": "[encoded data removed]",
      "text/plain": [
       "<Figure size 648x648 with 1 Axes>"
      ]
     },
     "metadata": {},
     "output_type": "display_data"
    }
   ],
   "source": [
    "s = pd.Series(rng.choice(['Rock', 'Paper', 'Scissors'], \n",
    "                      size = 15)) # low sample size\n",
    "vc = s.value_counts() \n",
    "vc = vc[['Rock', 'Paper', 'Scissors']] # change the order to display\n",
    "print(vc)\n",
    "vc.plot.bar()"
   ]
  },
  {
   "cell_type": "markdown",
   "id": "6395943b-d550-4a83-828e-34b2b6231f6e",
   "metadata": {},
   "source": [
    "We can see here that this array is not evenly distributed. This is because a sample size of 15 is not sufficient enough to tell if there is a bias. Let's create another object and this time we will increase the size to 10 million"
   ]
  },
  {
   "cell_type": "code",
   "execution_count": 67,
   "id": "d20953c9-4b02-4421-8c00-7662c398ca3c",
   "metadata": {},
   "outputs": [
    {
     "name": "stdout",
     "output_type": "stream",
     "text": [
      "Rock        3332024\n",
      "Paper       3334562\n",
      "Scissors    3333414\n",
      "dtype: int64\n"
     ]
    },
    {
     "data": {
      "text/plain": [
       "<AxesSubplot:>"
      ]
     },
     "execution_count": 67,
     "metadata": {},
     "output_type": "execute_result"
    },
    {
     "data": {
      "image/png": "[encoded data removed]",
      "text/plain": [
       "<Figure size 648x648 with 1 Axes>"
      ]
     },
     "metadata": {},
     "output_type": "display_data"
    }
   ],
   "source": [
    "s = pd.Series(rng.choice(['Rock', 'Paper', 'Scissors'], size = 10000000))\n",
    "vc = s.value_counts()\n",
    "vc = vc[['Rock', 'Paper', 'Scissors']]\n",
    "print(vc)\n",
    "vc.plot.bar()"
   ]
  },
  {
   "cell_type": "markdown",
   "id": "a41ff81a-b650-4a4a-b34e-987129a5632d",
   "metadata": {},
   "source": [
    "We can see here that the bars are evenly distributed and the value counts are almost a third each, therefore there is no bias in selection. This of course could be manipulated as below. We can choose the bias in favour of whichever entry we want. Here, 'Rock' is 10%, 'Paper' is 20% and  'Scissors' is 70%. We can see that the bar chart and value counts reflect this."
   ]
  },
  {
   "cell_type": "code",
   "execution_count": 68,
   "id": "5891cd14-0e9f-4a1a-b949-72fc6a030b6e",
   "metadata": {},
   "outputs": [
    {
     "name": "stdout",
     "output_type": "stream",
     "text": [
      "Rock        1000941\n",
      "Paper       2000185\n",
      "Scissors    6998874\n",
      "dtype: int64\n"
     ]
    },
    {
     "data": {
      "text/plain": [
       "<AxesSubplot:>"
      ]
     },
     "execution_count": 68,
     "metadata": {},
     "output_type": "execute_result"
    },
    {
     "data": {
      "image/png": "[encoded data removed]",
      "text/plain": [
       "<Figure size 648x648 with 1 Axes>"
      ]
     },
     "metadata": {},
     "output_type": "display_data"
    }
   ],
   "source": [
    "s = pd.Series(rng.choice(['Rock', 'Paper', 'Scissors'], size = 10000000,\n",
    "                      p = [0.10, 0.20, 0.70]))\n",
    "vc = s.value_counts()\n",
    "vc = vc[['Rock', 'Paper', 'Scissors']]\n",
    "print(vc)\n",
    "vc.plot.bar()"
   ]
  },
  {
   "cell_type": "markdown",
   "id": "7acde067-8db0-426e-9416-5f1094c60877",
   "metadata": {},
   "source": [
    "### Bytes"
   ]
  },
  {
   "cell_type": "markdown",
   "id": "7d74b199-2f21-4b50-9baa-8797cdf07bb5",
   "metadata": {},
   "source": [
    "The 'bytes' function generates a pseudo-random sample of bytes. [17] A byte is a unit of digital information that most commonly consists of eight bits. [23] The 'byte' function has only one parameter which is 'length'. The syntax for the bytes function is:<br>"
   ]
  },
  {
   "cell_type": "markdown",
   "id": "dca380d0-2ef8-46a1-bb6c-64ab30db552f",
   "metadata": {},
   "source": [
    "``numpy.random.Generator.bytes(length)``<br>\n",
    "<br>\n",
    "The 'length' parameter determines the number of bytes that will be outputted. See below examples of the 'bytes' function:"
   ]
  },
  {
   "cell_type": "code",
   "execution_count": 69,
   "id": "4fdb84a0-0615-435d-9482-beb6fcc2aada",
   "metadata": {},
   "outputs": [],
   "source": [
    "rng = np.random.default_rng(0)"
   ]
  },
  {
   "cell_type": "code",
   "execution_count": 70,
   "id": "85af48dc-9f46-4567-bb2e-8de101391587",
   "metadata": {},
   "outputs": [
    {
     "data": {
      "text/plain": [
       "b'_\\x82\\xc2\\xd9\\xcf\\xeb\\x0f\\xa3!\\xd7'"
      ]
     },
     "execution_count": 70,
     "metadata": {},
     "output_type": "execute_result"
    }
   ],
   "source": [
    "rng.bytes(10) # Generating 10 bytes"
   ]
  },
  {
   "cell_type": "code",
   "execution_count": 71,
   "id": "b702926b-4dcb-4b1f-8802-8c7538399e4b",
   "metadata": {},
   "outputs": [
    {
     "data": {
      "text/plain": [
       "b\"\\xf8\\xbd\\x10E\\xb8\\xe8\\xcdN\\xa9=}\\n\\x1d\\xf0B\\x13\\xb6';\\x04\""
      ]
     },
     "execution_count": 71,
     "metadata": {},
     "output_type": "execute_result"
    }
   ],
   "source": [
    "rng.bytes(20) # Generating 20 bytes"
   ]
  },
  {
   "cell_type": "markdown",
   "id": "2793525d-106c-4330-91cf-fdd162bc3933",
   "metadata": {},
   "source": [
    "<br>\n",
    "\n",
    "## Permutation Functions\n",
    "***"
   ]
  },
  {
   "cell_type": "markdown",
   "id": "25d07251-55cb-4c91-8d70-5859a8594d9e",
   "metadata": {},
   "source": [
    "### Shuffle"
   ]
  },
  {
   "cell_type": "markdown",
   "id": "72f915eb-a030-482f-b052-b708c1535015",
   "metadata": {},
   "source": [
    "The 'shuffle' function modifies an array or sequence in-place by shuffling its contents. This means that the function re-orders the contents within a sequence. It only changes the order of an existing array, it does not add or remove any of the contents. It is like shiffling a deck of cards. No cards or removed or added. The difference between the 'shuffle' function and the 'permuted' function is that the 'shuffle' function is done in-place, meaning that the operation permanently alters the variable or object but the 'permutation' function returns a copy and keeps the original variable intact. [24] Let's use numpy.arange to generate an array from 0 to 9 and then shuffle it's contents. [19]"
   ]
  },
  {
   "cell_type": "code",
   "execution_count": 72,
   "id": "d71fc183-d703-4fa2-a358-802b307e8a49",
   "metadata": {},
   "outputs": [],
   "source": [
    "rng = np.random.default_rng(10)"
   ]
  },
  {
   "cell_type": "code",
   "execution_count": 73,
   "id": "0914f437-eb33-4d5f-af2b-c2ff13312adc",
   "metadata": {},
   "outputs": [
    {
     "data": {
      "text/plain": [
       "array([0, 1, 2, 3, 4, 5, 6, 7, 8, 9])"
      ]
     },
     "execution_count": 73,
     "metadata": {},
     "output_type": "execute_result"
    }
   ],
   "source": [
    "arr = np.arange(10) # list of numbers from 0 to 9\n",
    "arr"
   ]
  },
  {
   "cell_type": "code",
   "execution_count": 74,
   "id": "b05477fe-0bb6-48cb-a810-41cc9f1afa73",
   "metadata": {},
   "outputs": [
    {
     "data": {
      "text/plain": [
       "array([1, 3, 2, 4, 7, 9, 5, 6, 0, 8])"
      ]
     },
     "execution_count": 74,
     "metadata": {},
     "output_type": "execute_result"
    }
   ],
   "source": [
    "rng.shuffle(arr)\n",
    "arr # variable arr is shuffled in-place, operation is permanent"
   ]
  },
  {
   "cell_type": "markdown",
   "id": "25b9d8b4-0781-4f66-a5fd-e68b4df0ece8",
   "metadata": {},
   "source": [
    "The second parameter in the 'shuffle' function is the 'axis' parameter. The default here is ``axis = 0``. This parameter only applies to dimensions which are higher than 1, i.e. 2-D arrays and higher. Let's use numpy.arrange again and then use numpy.reshape to gives a new shape to the array without changing its data, which will generate a 3 x 3 array. We will keep the default parameter of ``axis = 0`` for the first example and then ``axis = 1`` to see which part of the array gets shuffled."
   ]
  },
  {
   "cell_type": "code",
   "execution_count": 75,
   "id": "55eb604f-517a-406d-be20-fc9c631a201c",
   "metadata": {},
   "outputs": [
    {
     "data": {
      "text/plain": [
       "array([[0, 1, 2],\n",
       "       [3, 4, 5],\n",
       "       [6, 7, 8]])"
      ]
     },
     "execution_count": 75,
     "metadata": {},
     "output_type": "execute_result"
    }
   ],
   "source": [
    "arr = np.arange(9).reshape((3, 3)) # reshape the array to 3 x 3 array\n",
    "arr"
   ]
  },
  {
   "cell_type": "code",
   "execution_count": 76,
   "id": "705c2a3a-5036-40a7-8c55-38d99ff40095",
   "metadata": {},
   "outputs": [
    {
     "data": {
      "text/plain": [
       "array([[3, 4, 5],\n",
       "       [0, 1, 2],\n",
       "       [6, 7, 8]])"
      ]
     },
     "execution_count": 76,
     "metadata": {},
     "output_type": "execute_result"
    }
   ],
   "source": [
    "rng.shuffle(arr)\n",
    "arr"
   ]
  },
  {
   "cell_type": "code",
   "execution_count": 77,
   "id": "b058f195-e87e-40c9-b9a5-f26d003d5f53",
   "metadata": {},
   "outputs": [
    {
     "data": {
      "text/plain": [
       "array([[0, 1, 2],\n",
       "       [3, 4, 5],\n",
       "       [6, 7, 8]])"
      ]
     },
     "execution_count": 77,
     "metadata": {},
     "output_type": "execute_result"
    }
   ],
   "source": [
    "arr = np.arange(9).reshape((3, 3)) \n",
    "arr"
   ]
  },
  {
   "cell_type": "code",
   "execution_count": 78,
   "id": "492d19db-34e1-4748-b8dc-a35e9ff68914",
   "metadata": {},
   "outputs": [
    {
     "data": {
      "text/plain": [
       "array([[1, 0, 2],\n",
       "       [4, 3, 5],\n",
       "       [7, 6, 8]])"
      ]
     },
     "execution_count": 78,
     "metadata": {},
     "output_type": "execute_result"
    }
   ],
   "source": [
    "rng.shuffle(arr, axis=1)\n",
    "arr"
   ]
  },
  {
   "cell_type": "markdown",
   "id": "10f5686e-1362-46b0-838b-a234900ea729",
   "metadata": {},
   "source": [
    "We can see here that 'axis=0' does not change the order within each individual array, but it changes the high level order of the sub-arrays. The numbers are still in the same order in their respctive arrays (e.g. [0, 1, 2]) but the order of the three arrays themselves has changed.<br>\n",
    "'axis=1' keeps the high level order of sub-arrays the same, but it changes the order in each of the sub-arrays. In this case [0,1,2] can change to [1, 0, 2] or similar, but the array that contains those three numbers remains first in the high level order."
   ]
  },
  {
   "cell_type": "markdown",
   "id": "9596a647-d993-489c-81ee-f9bdf93b92f6",
   "metadata": {},
   "source": [
    "### Permutation"
   ]
  },
  {
   "cell_type": "markdown",
   "id": "f02bc62e-0b2b-4641-965f-993622732981",
   "metadata": {},
   "source": [
    "The 'permutation' function is similar to the 'shuffle' function with one key difference. As mentioned above in the 'shuffle' section, the'shuffle' function is done in-place, but the 'permutation' function returns a copy and keeps the original variable intact. [25] Let's create a variable called 'x' which is just a list of numbers from 0 to 9 using numpy.arange. [19] If we perform the 'permutation' operation on 'x', the contents will be shuffled. If we then check the contents of x after this operation, we can see that the variable is still a list of numbers from 0 to 9 and is still intact."
   ]
  },
  {
   "cell_type": "code",
   "execution_count": 79,
   "id": "2392a76e-c7d2-401f-a6e2-9be0a311d520",
   "metadata": {},
   "outputs": [
    {
     "data": {
      "text/plain": [
       "array([1, 3, 2, 4, 7, 9, 5, 6, 0, 8])"
      ]
     },
     "execution_count": 79,
     "metadata": {},
     "output_type": "execute_result"
    }
   ],
   "source": [
    "rng = np.random.default_rng(10)\n",
    "x = np.arange(10)\n",
    "rng.permutation(x) # Shuffles contets of 'x' but creates a copy"
   ]
  },
  {
   "cell_type": "code",
   "execution_count": 80,
   "id": "f1a5113b-75d4-4daf-ad83-5382385db2ac",
   "metadata": {},
   "outputs": [
    {
     "data": {
      "text/plain": [
       "array([0, 1, 2, 3, 4, 5, 6, 7, 8, 9])"
      ]
     },
     "execution_count": 80,
     "metadata": {},
     "output_type": "execute_result"
    }
   ],
   "source": [
    "x # 'x' is still the same value as before"
   ]
  },
  {
   "cell_type": "markdown",
   "id": "a9fd9e68-f1a1-4b11-9e79-b272409d1664",
   "metadata": {},
   "source": [
    "If we pass an integer through the 'permutation' function it will call ``np.arange()``. For example, if we do: ``rng.permutation(10)``, this is the same thing as the above example. If x is an array, a copy is made and the elements are shuffled randomly like in the example below."
   ]
  },
  {
   "cell_type": "code",
   "execution_count": 81,
   "id": "2ac970c0-f49e-4885-b5bd-9c55fe1e45a4",
   "metadata": {},
   "outputs": [
    {
     "data": {
      "text/plain": [
       "array([ 4, 15,  1,  9, 12])"
      ]
     },
     "execution_count": 81,
     "metadata": {},
     "output_type": "execute_result"
    }
   ],
   "source": [
    "rng.permutation([1, 4, 9, 12, 15])"
   ]
  },
  {
   "cell_type": "markdown",
   "id": "91cfcff1-6eb2-493b-b1ca-1fa1267ea2cb",
   "metadata": {},
   "source": [
    "The 'axis' parameter for 'permutarion' works the exact same way that 'shuffle' works. See below the same examples as we used for 'shuffle'."
   ]
  },
  {
   "cell_type": "code",
   "execution_count": 82,
   "id": "3c2bd852-4424-41ce-af54-e238172b4114",
   "metadata": {},
   "outputs": [
    {
     "data": {
      "text/plain": [
       "array([[0, 1, 2],\n",
       "       [3, 4, 5],\n",
       "       [6, 7, 8]])"
      ]
     },
     "execution_count": 82,
     "metadata": {},
     "output_type": "execute_result"
    }
   ],
   "source": [
    "arr = np.arange(9).reshape((3, 3))\n",
    "rng.permutation(arr)"
   ]
  },
  {
   "cell_type": "code",
   "execution_count": 83,
   "id": "33a40538-79c2-4df4-8f74-0eccb945aaa2",
   "metadata": {},
   "outputs": [
    {
     "data": {
      "text/plain": [
       "array([[1, 2, 0],\n",
       "       [4, 5, 3],\n",
       "       [7, 8, 6]])"
      ]
     },
     "execution_count": 83,
     "metadata": {},
     "output_type": "execute_result"
    }
   ],
   "source": [
    "arr = np.arange(9).reshape((3, 3))\n",
    "rng.shuffle(arr, axis=1)\n",
    "arr"
   ]
  },
  {
   "cell_type": "markdown",
   "id": "f21abbfa-624d-4a4d-8549-3246ed20e460",
   "metadata": {},
   "source": [
    "### Permuted"
   ]
  },
  {
   "cell_type": "markdown",
   "id": "5e8c179b-2dfc-4309-be45-760033c028b6",
   "metadata": {},
   "source": [
    "The 'permuted' function is similar to the 'shuffle' function with the key difference being that each slice in the permutated method is shuffled independently of the others. It can create a copy or perfrom the shuffle inplace. [26]The sytax is:<br>"
   ]
  },
  {
   "cell_type": "markdown",
   "id": "19ac86fd-df97-41f4-94bd-bdea2abed109",
   "metadata": {},
   "source": [
    "``random.Generator.permuted(x, axis=None, out=None)``<br>\n",
    "<br>\n",
    "The function randomly permutes ``x`` along axis ``axis``."
   ]
  },
  {
   "cell_type": "code",
   "execution_count": 84,
   "id": "50163f08-ca60-43fa-ab92-868c1bda0a67",
   "metadata": {},
   "outputs": [],
   "source": [
    "rng = np.random.default_rng(10)"
   ]
  },
  {
   "cell_type": "code",
   "execution_count": 85,
   "id": "ff65ba23-b81a-486b-bfd3-ea9446092b4d",
   "metadata": {},
   "outputs": [
    {
     "data": {
      "text/plain": [
       "array([[ 0,  1,  2,  3,  4,  5,  6,  7],\n",
       "       [ 8,  9, 10, 11, 12, 13, 14, 15],\n",
       "       [16, 17, 18, 19, 20, 21, 22, 23]])"
      ]
     },
     "execution_count": 85,
     "metadata": {},
     "output_type": "execute_result"
    }
   ],
   "source": [
    "# Create a test array:\n",
    "x = np.arange(24).reshape(3, 8)\n",
    "x "
   ]
  },
  {
   "cell_type": "code",
   "execution_count": 86,
   "id": "4ce7e1fd-9f0a-4d3a-b375-bf4bb1de738e",
   "metadata": {},
   "outputs": [
    {
     "data": {
      "text/plain": [
       "array([[16,  9, 18, 11, 12, 13, 14, 15],\n",
       "       [ 8, 17,  2, 19,  4,  5,  6, 23],\n",
       "       [ 0,  1, 10,  3, 20, 21, 22,  7]])"
      ]
     },
     "execution_count": 86,
     "metadata": {},
     "output_type": "execute_result"
    }
   ],
   "source": [
    "y = rng.permuted(x, axis = 0)\n",
    "y # Columns shuffled with the original unchanged"
   ]
  },
  {
   "cell_type": "code",
   "execution_count": 87,
   "id": "33f822e7-a5f7-4805-94de-77658903cc55",
   "metadata": {},
   "outputs": [
    {
     "data": {
      "text/plain": [
       "array([[ 3,  5,  4,  2,  0,  7,  6,  1],\n",
       "       [12, 13, 14, 11,  9, 10,  8, 15],\n",
       "       [18, 19, 21, 20, 23, 16, 17, 22]])"
      ]
     },
     "execution_count": 87,
     "metadata": {},
     "output_type": "execute_result"
    }
   ],
   "source": [
    "y = rng.permuted(x, axis = 1)\n",
    "y # Rows shuffled with the original unchanged"
   ]
  },
  {
   "cell_type": "code",
   "execution_count": 88,
   "id": "12a6e9b2-795a-4a33-9c84-ad81f95eb693",
   "metadata": {},
   "outputs": [
    {
     "data": {
      "text/plain": [
       "array([[ 0,  1,  2,  3,  4,  5,  6,  7],\n",
       "       [ 8,  9, 10, 11, 12, 13, 14, 15],\n",
       "       [16, 17, 18, 19, 20, 21, 22, 23]])"
      ]
     },
     "execution_count": 88,
     "metadata": {},
     "output_type": "execute_result"
    }
   ],
   "source": [
    "x # The original is unchanged"
   ]
  },
  {
   "cell_type": "code",
   "execution_count": 89,
   "id": "9f0951e3-f173-4be7-8181-32c46d9c51e2",
   "metadata": {},
   "outputs": [
    {
     "data": {
      "text/plain": [
       "array([[ 5,  4,  0,  1,  2,  3,  7,  6],\n",
       "       [12, 13,  9,  8, 15, 10, 14, 11],\n",
       "       [20, 21, 23, 19, 16, 22, 17, 18]])"
      ]
     },
     "execution_count": 89,
     "metadata": {},
     "output_type": "execute_result"
    }
   ],
   "source": [
    "# To shuffle the rows of x in-place, pass x as the out parameter:\n",
    "y = rng.permuted(x, axis = 1, out = x)\n",
    "x # Rows shuffled"
   ]
  },
  {
   "cell_type": "code",
   "execution_count": 90,
   "id": "2d800424-7c44-403e-960d-bb2048aa5af4",
   "metadata": {},
   "outputs": [
    {
     "data": {
      "text/plain": [
       "True"
      ]
     },
     "execution_count": 90,
     "metadata": {},
     "output_type": "execute_result"
    }
   ],
   "source": [
    "# Note that when the out parameter is given, the return value is out:\n",
    "# out must be a NumPy array\n",
    "y is x"
   ]
  },
  {
   "cell_type": "markdown",
   "id": "48030ca9-1e73-4b85-9350-2d364c17afad",
   "metadata": {},
   "source": [
    "## Distributions"
   ]
  },
  {
   "cell_type": "code",
   "execution_count": 91,
   "id": "e79f2086-bdfb-48c6-b19c-1bd06e5fa35b",
   "metadata": {},
   "outputs": [],
   "source": [
    "# Function takes the NumPy array to be plotted and also the strings from\n",
    "# the x and y axis labels and the title.\n",
    "# Kernel Density Estimate (KDE) and discrete arguments default to False but\n",
    "# they can be set to true if needed.\n",
    "\n",
    "def hist_plotting(array, xlabel, ylabel, title, kde = False,\n",
    "                  discrete = False, cumulative = False, color = 'r'):\n",
    "    \n",
    "    # Change the style of plots.\n",
    "    plt.style.use('ggplot')\n",
    "\n",
    "    # Change default figure size.\n",
    "    plt.rcParams['figure.figsize'] = (9, 9)\n",
    "    plt.rcParams['axes.labelsize'] = 16\n",
    "    plt.rcParams['axes.titlesize'] = 20\n",
    "    \n",
    "    #Plotting the array as a histogram.\n",
    "    ax = sns.histplot(array, kde = kde, discrete = discrete, cumulative = cumulative, color = color)\n",
    "    \n",
    "    #Setting the x and y axis labels.\n",
    "    ax.set(xlabel = xlabel, ylabel = ylabel)\n",
    "    \n",
    "    #Setting the title.\n",
    "    ax.set_title(title)\n",
    "    \n",
    "    #Return the \"ax\" object.\n",
    "    return ax"
   ]
  },
  {
   "cell_type": "markdown",
   "id": "3df62ce2-0c84-4907-bb53-7ef540186ba1",
   "metadata": {},
   "source": [
    "### Continuous vs. Discrete Distributions"
   ]
  },
  {
   "cell_type": "markdown",
   "id": "4b62fdfd-75a8-4aa0-81b7-007ac6095fc6",
   "metadata": {},
   "source": [
    "Discrete and continuous are two broad categories of numerical data. A discrete distribution is one in which the data can only take on certain values that you cannot subdivide, for example integers. A continuous distribution is one in which data can take on any value within a specified range. In fact, continuous variables have an infinite number of potential values between any two points. Generally, we measure them using a scale. For a discrete distribution, probabilities can be assigned to the values in the distribution. [30] For example, \"the probability that the web page will have 12 clicks in an hour is 0.15.\" In contrast, a continuous distribution has an infinite number of possible values, and the probability associated with any particular value of a continuous distribution is null. For example, we have continuous data when we measure weight, height, length, time, and temperature. Therefore, continuous distributions are normally described in terms of probability density, which can be converted into the probability that a value will fall within a certain range. We usually use bar charts to graph discrete data because the separate bars emphasize the distinct nature of each value. However for continuous variables, we use histograms and scatterplots to graph continuous variables. These graphs are designed to handle values that fall on a continuous spectrum and have decimal places. [31]"
   ]
  },
  {
   "cell_type": "markdown",
   "id": "dd799e0f-c087-4506-adc4-82f363b96e6c",
   "metadata": {},
   "source": [
    "### Uniform Distribution"
   ]
  },
  {
   "cell_type": "markdown",
   "id": "c9bfa6d1-3697-4af7-8bb6-04ec22d845eb",
   "metadata": {},
   "source": [
    "The uniform distribution is a type of probability distribution where all the possible outcomes are equally possible. For example, a deck of cards has uniform distributions within it since the probability of drawing a heart, club, diamond or spade is equally possible. Another example is a coin since the probability of getting either the heads or the tails the same. The uniform distribution can be visualized as a straight horizontal line. Since heads and tails are equally likely to be the outcome, both have a probability p = 0.50 and it would be depicted by the line from the y-axis at 0.50. There are two kinds of uniform distributions. Discrete and continuous which I have defined above.<br> [32]\n",
    "We've actually already seen another Numpy.Random function that generates numbers based on a uniform distribution. This is the the 'integers' function which is in the Simple Random Data section of this notebook. The key difference between the integers function and the uniform function, is that while integers generates integers, uniform generates floating point numbers. It therefore replaces the integers function when the user requires numbers outside of the range of 0 and 1.<br>\n",
    "The syntax for the uniform function is:<br>\n",
    "<br>\n",
    "``random.Generator.uniform(low=0.0, high=1.0, size=None)``<br> [57]\n",
    "<br>\n",
    "The syntax is very similar to the integers function which was discussed earlier.<br>\n",
    "We can see the difference between the integer() and uniform() functions below:"
   ]
  },
  {
   "cell_type": "code",
   "execution_count": 92,
   "id": "b6773626-e15f-4014-a4ba-7df8539c01f1",
   "metadata": {},
   "outputs": [],
   "source": [
    "rng = np.random.default_rng(0)"
   ]
  },
  {
   "cell_type": "code",
   "execution_count": 93,
   "id": "3cafd53e-d266-4394-aa35-385dd52a0165",
   "metadata": {},
   "outputs": [
    {
     "data": {
      "text/plain": [
       "array([8, 6, 5, 2, 3, 0, 0, 0, 1, 8], dtype=int64)"
      ]
     },
     "execution_count": 93,
     "metadata": {},
     "output_type": "execute_result"
    }
   ],
   "source": [
    "# Generating a discrete uniform distribution via the integers() function.\n",
    "discrete = rng.integers(10, size = 10)\n",
    "discrete"
   ]
  },
  {
   "cell_type": "code",
   "execution_count": 94,
   "id": "c170d585-5761-443a-b1a4-c3d01ddbe3b2",
   "metadata": {},
   "outputs": [
    {
     "data": {
      "text/plain": [
       "array([1.7851998 , 4.54027802, 3.43453095, 5.10737508, 1.58434819,\n",
       "       2.65731801, 9.9753535 , 2.28336151, 9.69772982, 3.43310098])"
      ]
     },
     "execution_count": 94,
     "metadata": {},
     "output_type": "execute_result"
    }
   ],
   "source": [
    "# Generating a continuous uniform distribution via the uniform() function.\n",
    "continuous = rng.uniform(10, size = 10)\n",
    "continuous"
   ]
  },
  {
   "cell_type": "markdown",
   "id": "1d8807fb-ddc7-4497-82bd-11d34420bd7b",
   "metadata": {},
   "source": [
    "The probability density function (PDF) of the uniform distribution is:<br>\n",
    "<br>\n",
    "$$P(x) = \\frac{1}{(b-a)}$$<br>\n",
    "<br>\n",
    "Where 'P' is the PDF, 'b' is the high value and 'a' is the low value. For example, let's run an experiment that has a range defined as between -1 and 2 with a half open inteval excluding 1. We'll run it 100 times and show the results in a histogram"
   ]
  },
  {
   "cell_type": "code",
   "execution_count": 95,
   "id": "65897be3-352d-42d2-a71d-dd6e505369ff",
   "metadata": {
    "scrolled": true,
    "tags": []
   },
   "outputs": [
    {
     "data": {
      "text/plain": [
       "array([-0.47303314,  1.58953677,  0.62438366, -0.10086433,  0.26806166,\n",
       "       -0.91504099, -0.62715017,  1.01187324,  0.94156853,  0.84615533,\n",
       "        0.15103266,  1.99162981,  1.94250602,  1.05662595,  0.95137783,\n",
       "        1.06534019,  0.16676427, -0.59471048,  1.16446502,  0.57606297,\n",
       "       -0.06927437,  0.45750608,  1.6684635 ,  1.80213055,  0.07338559,\n",
       "        0.71458949, -0.03439183,  0.78290009,  0.01373368,  0.174857  ,\n",
       "        1.67082306, -0.31852722,  0.86956143, -0.74795397,  1.49793244,\n",
       "        1.36129492, -0.28189167,  1.62945269, -0.8242959 ,  0.00835118,\n",
       "       -0.5491616 ,  0.3510181 ,  1.38897281, -0.30807337, -0.8439361 ,\n",
       "        0.21365552, -0.40446087, -0.72774086,  0.74099716, -0.1039116 ,\n",
       "        1.01598463, -0.40145367,  1.82633933,  0.0953305 , -0.68351416,\n",
       "        0.88732445,  1.78146366,  0.32113146,  1.86377148,  0.49968744,\n",
       "        0.27568587,  0.86064036,  1.98528952,  1.84683102,  0.38013542,\n",
       "        1.27318654,  0.49226809,  0.58793648,  1.3573571 ,  0.24396755,\n",
       "        1.20345072,  1.13342863,  1.79617906, -0.6552021 ,  1.18704535,\n",
       "        1.78227179,  1.90377857, -0.95588109,  1.59092027,  1.94358512,\n",
       "        1.87163054, -0.55370796,  1.91788644,  1.66980667,  1.46712148,\n",
       "        0.43996377, -0.30288124,  1.40564174,  1.77059048, -0.20160918,\n",
       "        0.61680322,  0.32825849,  1.79305195, -0.87846787,  1.19601859,\n",
       "        0.84311974, -0.9149039 ,  1.15765932, -0.95202481,  1.27385301])"
      ]
     },
     "execution_count": 95,
     "metadata": {},
     "output_type": "execute_result"
    }
   ],
   "source": [
    "continuous_smallsize = rng.uniform(-1,2,100)\n",
    "continuous_smallsize"
   ]
  },
  {
   "cell_type": "code",
   "execution_count": 96,
   "id": "6205307c-6314-4d87-ac78-41200b751531",
   "metadata": {},
   "outputs": [
    {
     "data": {
      "text/plain": [
       "<AxesSubplot:title={'center':'Continuous Uniform Distribution - Small Sample'}, xlabel='Low - High Range', ylabel='Count'>"
      ]
     },
     "execution_count": 96,
     "metadata": {},
     "output_type": "execute_result"
    },
    {
     "data": {
      "image/png": "[encoded data removed]",
      "text/plain": [
       "<Figure size 648x648 with 1 Axes>"
      ]
     },
     "metadata": {},
     "output_type": "display_data"
    }
   ],
   "source": [
    "hist_plotting(continuous_smallsize, 'Low - High Range', 'Count', \"Continuous Uniform Distribution - Small Sample\")"
   ]
  },
  {
   "cell_type": "markdown",
   "id": "3d883ec9-3a8f-4d88-ba19-e20ceeb5d8f2",
   "metadata": {},
   "source": [
    "Like the Integers function discussed earlier, a sample size of 100 is not enough to see the characteristic rectangular shape to the plot that the uniform distribution is known for. Let's run the experiment again but this time we'll put the sample size to 10 million."
   ]
  },
  {
   "cell_type": "code",
   "execution_count": 97,
   "id": "1a2fc9e4-8092-4b16-927b-1b7bbe2f703e",
   "metadata": {},
   "outputs": [
    {
     "data": {
      "text/plain": [
       "array([ 0.53827617,  1.78731266, -0.80175251, ...,  1.45162394,\n",
       "       -0.4432711 , -0.63222414])"
      ]
     },
     "execution_count": 97,
     "metadata": {},
     "output_type": "execute_result"
    }
   ],
   "source": [
    "continuous_largesize = rng.uniform(-1,2,10000000)\n",
    "continuous_largesize"
   ]
  },
  {
   "cell_type": "code",
   "execution_count": 98,
   "id": "0177ea4a-6e5b-4004-b834-2e2bec4ef99f",
   "metadata": {},
   "outputs": [
    {
     "data": {
      "text/plain": [
       "<AxesSubplot:title={'center':'Continuous Uniform Distribution - Large Sample'}, xlabel='Low - High Range', ylabel='Count'>"
      ]
     },
     "execution_count": 98,
     "metadata": {},
     "output_type": "execute_result"
    },
    {
     "data": {
      "image/png": "[encoded data removed]",
      "text/plain": [
       "<Figure size 648x648 with 1 Axes>"
      ]
     },
     "metadata": {},
     "output_type": "display_data"
    }
   ],
   "source": [
    "hist_plotting(continuous_largesize, 'Low - High Range', 'Count', \"Continuous Uniform Distribution - Large Sample\", color = 'b')"
   ]
  },
  {
   "cell_type": "markdown",
   "id": "f9437069-affe-4712-9f16-e3c9c1a0370c",
   "metadata": {},
   "source": [
    "Now the plot matches the expected rectangular uniform distribution. While some numbers occurr a bit more frequently than others, the differences are neglagible. This means that the any floating point number within this range has an equally likely chance of being generated by NumPy Random. We can also use the 'all' NumPy function to make sure that all of our values are within the given interval."
   ]
  },
  {
   "cell_type": "code",
   "execution_count": 99,
   "id": "9eb37357-d8ed-4da7-8ed9-7e2fbb1de4c3",
   "metadata": {},
   "outputs": [
    {
     "data": {
      "text/plain": [
       "True"
      ]
     },
     "execution_count": 99,
     "metadata": {},
     "output_type": "execute_result"
    }
   ],
   "source": [
    "np.all(continuous_largesize >= -1)\n",
    "# Confirms that all values are greater than or equal to -1 (-1 in included)"
   ]
  },
  {
   "cell_type": "code",
   "execution_count": 100,
   "id": "9fdca95c-230d-4ffc-b9bb-1ae084968bc4",
   "metadata": {},
   "outputs": [
    {
     "data": {
      "text/plain": [
       "True"
      ]
     },
     "execution_count": 100,
     "metadata": {},
     "output_type": "execute_result"
    }
   ],
   "source": [
    "np.all(continuous_largesize < 2)\n",
    "# Confirms that all values are less than 2 (2 in excluded)"
   ]
  },
  {
   "cell_type": "markdown",
   "id": "65d0aa84-a894-4ffc-9cde-15b6eacd5c23",
   "metadata": {},
   "source": [
    "Let's now concert the numbers in ``continuous_largesize`` to a pandas dataframe. The formula for the mean and standard deviation are as follows:<br>\n",
    "<br>\n",
    "$$\\mu = \\frac{a+b}{2}$$<br>\n",
    "<br>\n",
    "$$\\sigma = \\sqrt{\\frac{(b-a)^{2}}{12}}$$<br>\n",
    "<br>\n",
    "Where μ is the theoretical mean (same thing as the median in this case) and σ is the standard deviation. We can use the pandas function ``describe`` to see the mean and standard deviation."
   ]
  },
  {
   "cell_type": "code",
   "execution_count": 101,
   "id": "28ce4113-b8e8-4817-bdab-95118bf9ac97",
   "metadata": {},
   "outputs": [
    {
     "data": {
      "text/html": [
       "<div>\n",
       "<style scoped>\n",
       "    .dataframe tbody tr th:only-of-type {\n",
       "        vertical-align: middle;\n",
       "    }\n",
       "\n",
       "    .dataframe tbody tr th {\n",
       "        vertical-align: top;\n",
       "    }\n",
       "\n",
       "    .dataframe thead th {\n",
       "        text-align: right;\n",
       "    }\n",
       "</style>\n",
       "<table border=\"1\" class=\"dataframe\">\n",
       "  <thead>\n",
       "    <tr style=\"text-align: right;\">\n",
       "      <th></th>\n",
       "      <th>0</th>\n",
       "    </tr>\n",
       "  </thead>\n",
       "  <tbody>\n",
       "    <tr>\n",
       "      <th>0</th>\n",
       "      <td>0.538276</td>\n",
       "    </tr>\n",
       "    <tr>\n",
       "      <th>1</th>\n",
       "      <td>1.787313</td>\n",
       "    </tr>\n",
       "    <tr>\n",
       "      <th>2</th>\n",
       "      <td>-0.801753</td>\n",
       "    </tr>\n",
       "    <tr>\n",
       "      <th>3</th>\n",
       "      <td>1.523952</td>\n",
       "    </tr>\n",
       "    <tr>\n",
       "      <th>4</th>\n",
       "      <td>-0.799930</td>\n",
       "    </tr>\n",
       "    <tr>\n",
       "      <th>...</th>\n",
       "      <td>...</td>\n",
       "    </tr>\n",
       "    <tr>\n",
       "      <th>9999995</th>\n",
       "      <td>0.466471</td>\n",
       "    </tr>\n",
       "    <tr>\n",
       "      <th>9999996</th>\n",
       "      <td>0.419455</td>\n",
       "    </tr>\n",
       "    <tr>\n",
       "      <th>9999997</th>\n",
       "      <td>1.451624</td>\n",
       "    </tr>\n",
       "    <tr>\n",
       "      <th>9999998</th>\n",
       "      <td>-0.443271</td>\n",
       "    </tr>\n",
       "    <tr>\n",
       "      <th>9999999</th>\n",
       "      <td>-0.632224</td>\n",
       "    </tr>\n",
       "  </tbody>\n",
       "</table>\n",
       "<p>10000000 rows × 1 columns</p>\n",
       "</div>"
      ],
      "text/plain": [
       "                0\n",
       "0        0.538276\n",
       "1        1.787313\n",
       "2       -0.801753\n",
       "3        1.523952\n",
       "4       -0.799930\n",
       "...           ...\n",
       "9999995  0.466471\n",
       "9999996  0.419455\n",
       "9999997  1.451624\n",
       "9999998 -0.443271\n",
       "9999999 -0.632224\n",
       "\n",
       "[10000000 rows x 1 columns]"
      ]
     },
     "execution_count": 101,
     "metadata": {},
     "output_type": "execute_result"
    }
   ],
   "source": [
    "df_unifrom = pd.DataFrame(continuous_largesize)\n",
    "df_unifrom"
   ]
  },
  {
   "cell_type": "code",
   "execution_count": 102,
   "id": "bba1e845-447d-4969-a8a4-10edfbf8ec11",
   "metadata": {},
   "outputs": [
    {
     "data": {
      "text/html": [
       "<div>\n",
       "<style scoped>\n",
       "    .dataframe tbody tr th:only-of-type {\n",
       "        vertical-align: middle;\n",
       "    }\n",
       "\n",
       "    .dataframe tbody tr th {\n",
       "        vertical-align: top;\n",
       "    }\n",
       "\n",
       "    .dataframe thead th {\n",
       "        text-align: right;\n",
       "    }\n",
       "</style>\n",
       "<table border=\"1\" class=\"dataframe\">\n",
       "  <thead>\n",
       "    <tr style=\"text-align: right;\">\n",
       "      <th></th>\n",
       "      <th>0</th>\n",
       "    </tr>\n",
       "  </thead>\n",
       "  <tbody>\n",
       "    <tr>\n",
       "      <th>count</th>\n",
       "      <td>1.000000e+07</td>\n",
       "    </tr>\n",
       "    <tr>\n",
       "      <th>mean</th>\n",
       "      <td>4.997840e-01</td>\n",
       "    </tr>\n",
       "    <tr>\n",
       "      <th>std</th>\n",
       "      <td>8.660206e-01</td>\n",
       "    </tr>\n",
       "    <tr>\n",
       "      <th>min</th>\n",
       "      <td>-9.999999e-01</td>\n",
       "    </tr>\n",
       "    <tr>\n",
       "      <th>25%</th>\n",
       "      <td>-2.505881e-01</td>\n",
       "    </tr>\n",
       "    <tr>\n",
       "      <th>50%</th>\n",
       "      <td>5.001701e-01</td>\n",
       "    </tr>\n",
       "    <tr>\n",
       "      <th>75%</th>\n",
       "      <td>1.249631e+00</td>\n",
       "    </tr>\n",
       "    <tr>\n",
       "      <th>max</th>\n",
       "      <td>2.000000e+00</td>\n",
       "    </tr>\n",
       "  </tbody>\n",
       "</table>\n",
       "</div>"
      ],
      "text/plain": [
       "                  0\n",
       "count  1.000000e+07\n",
       "mean   4.997840e-01\n",
       "std    8.660206e-01\n",
       "min   -9.999999e-01\n",
       "25%   -2.505881e-01\n",
       "50%    5.001701e-01\n",
       "75%    1.249631e+00\n",
       "max    2.000000e+00"
      ]
     },
     "execution_count": 102,
     "metadata": {},
     "output_type": "execute_result"
    }
   ],
   "source": [
    "df_unifrom.describe()"
   ]
  },
  {
   "cell_type": "markdown",
   "id": "cb53e770-61f3-446e-86dc-cc3f632e9725",
   "metadata": {},
   "source": [
    "If we use the formula above to calculate the theoretical mean we get 0.5. We can see above from pandas.describe that the mean approaches 0.5. If we use the formula above to calculate the standard deviation we get 0.8660254037844386 which is the same answer that pandas.describe gives us.<br>\n",
    "Below is an example of a discrete uniform distribution in the form of a 6 sided die. This is an example of a discete uniform distribution because the values on the die cannot be subdivided as outlined earlier. We'll now run the same experiment as above but this time we'll use the 'integers' function with sample sizes of 100 and 10 million respectively. We will see again that the rectangular shape on the hitogram plots are observed the higher the sample size."
   ]
  },
  {
   "cell_type": "code",
   "execution_count": 103,
   "id": "a0bacfd2-2f81-4987-9bc1-589e96c79e53",
   "metadata": {},
   "outputs": [
    {
     "data": {
      "text/plain": [
       "array([3, 3, 1, 1, 1, 4, 1, 5, 6, 6, 1, 1, 6, 2, 2, 1, 1, 2, 6, 3, 5, 1,\n",
       "       5, 4, 4, 5, 5, 4, 5, 4, 2, 2, 5, 3, 1, 2, 4, 2, 6, 6, 3, 2, 2, 4,\n",
       "       6, 1, 4, 4, 6, 6, 2, 2, 6, 2, 1, 1, 6, 4, 5, 3, 3, 6, 2, 6, 1, 3,\n",
       "       5, 4, 2, 4, 6, 5, 2, 2, 2, 6, 3, 3, 6, 6, 3, 6, 1, 4, 4, 3, 5, 2,\n",
       "       2, 4, 6, 5, 4, 4, 3, 2, 4, 3, 1, 1], dtype=int64)"
      ]
     },
     "execution_count": 103,
     "metadata": {},
     "output_type": "execute_result"
    }
   ],
   "source": [
    "discrete_smallsize = rng.integers(1,7,100)\n",
    "discrete_smallsize"
   ]
  },
  {
   "cell_type": "code",
   "execution_count": 104,
   "id": "b709efd7-a319-48fb-b3b7-cb22a24cb632",
   "metadata": {},
   "outputs": [
    {
     "data": {
      "text/plain": [
       "<AxesSubplot:title={'center':'6 Sided Die Rolls - Small Size'}, xlabel='Number Rolled', ylabel='Count'>"
      ]
     },
     "execution_count": 104,
     "metadata": {},
     "output_type": "execute_result"
    },
    {
     "data": {
      "image/png": "[encoded data removed]",
      "text/plain": [
       "<Figure size 648x648 with 1 Axes>"
      ]
     },
     "metadata": {},
     "output_type": "display_data"
    }
   ],
   "source": [
    "hist_plotting(discrete_smallsize, 'Number Rolled', 'Count', \"6 Sided Die Rolls - Small Size\", discrete = True, color = 'g')"
   ]
  },
  {
   "cell_type": "code",
   "execution_count": 105,
   "id": "03f421f3-9197-4214-a29a-2657f8890bdb",
   "metadata": {},
   "outputs": [
    {
     "data": {
      "text/plain": [
       "array([6, 1, 1, ..., 1, 1, 1], dtype=int64)"
      ]
     },
     "execution_count": 105,
     "metadata": {},
     "output_type": "execute_result"
    }
   ],
   "source": [
    "discrete_largesize = rng.integers(1,7,10000000)\n",
    "discrete_largesize"
   ]
  },
  {
   "cell_type": "code",
   "execution_count": 106,
   "id": "622742bb-b2eb-430c-b417-1520dc036cba",
   "metadata": {},
   "outputs": [
    {
     "data": {
      "text/plain": [
       "<AxesSubplot:title={'center':'6 Sided Die Rolls - Large Size'}, xlabel='Number Rolled', ylabel='Count'>"
      ]
     },
     "execution_count": 106,
     "metadata": {},
     "output_type": "execute_result"
    },
    {
     "data": {
      "image/png": "[encoded data removed]",
      "text/plain": [
       "<Figure size 648x648 with 1 Axes>"
      ]
     },
     "metadata": {},
     "output_type": "display_data"
    }
   ],
   "source": [
    "hist_plotting(discrete_largesize, 'Number Rolled', 'Count', \"6 Sided Die Rolls - Large Size\", discrete = True, color = 'c')"
   ]
  },
  {
   "cell_type": "markdown",
   "id": "49520ba3-6c60-4fd3-a395-1abc43d10f62",
   "metadata": {},
   "source": [
    "### Normal Distribution"
   ]
  },
  {
   "cell_type": "markdown",
   "id": "2d4333f9-800e-4855-a250-9d981ec6cfa8",
   "metadata": {},
   "source": [
    "In probability theory, a normal (or Gaussian or Gauss or Laplace–Gauss) distribution is a type of continuous probability distribution. The definition of 'continuous probability distribution' has already been discussed previously so I won't go over that definition again. Normal distributions are described as bell curves because of their shape. In a normal distribution, data is symmetrically distributed with no skew. When this data further down in this sections, we will see that the data follows a bell shape with most values clustering around a central region and tapering off as they go further away from the centre. [36]\n",
    "The syntax for the uniform function is:<br> [56]\n",
    "<br>\n",
    "``random.Generator.normal(loc=0.0, scale=1.0, size=None)``<br>\n",
    "<br>\n",
    "The parameters for the normal function in NumPy Random are ``loc``,``scale`` and ``size``. ``loc`` is the mean or centre of the distribution (the location parameter), ``scale`` is the standard deviation and ``size`` is the sample size which has been discussed earlier in the Simple Random Data section of this notebook. The probability density function for the Normal distribution is:\n",
    "<br>\n"
   ]
  },
  {
   "cell_type": "markdown",
   "id": "1217f2ab-1020-46d4-83a2-6c81fae385e3",
   "metadata": {},
   "source": [
    "$$P(x) = \\frac{1}{\\sqrt{2\\pi\\sigma^{2}}}e^{-\\frac{{(x-\\mu){2}}}{{2\\sigma}^{2}}}$$<br>\n",
    "<br>\n",
    "Where μ is the mean, σ is the standard deviation and σ^2 is the variance. For this PDF, the mean, median and mode are exactly the same.<br> [37]\n",
    "All kinds of variables in natural and social sciences are normally or approximately normally distributed. Height, birth weight, reading ability, job satisfaction, or Leaving Cert scores are just a few examples of such variables. Let's first look at a simple example. [38]"
   ]
  },
  {
   "cell_type": "code",
   "execution_count": 107,
   "id": "1b12c179-86df-4c20-aac7-4aefb6f53e10",
   "metadata": {},
   "outputs": [],
   "source": [
    "rng = np.random.default_rng(2)"
   ]
  },
  {
   "cell_type": "code",
   "execution_count": 108,
   "id": "e7cc3c24-f3b1-4d84-94e5-8d9145fdfaed",
   "metadata": {
    "scrolled": true,
    "tags": []
   },
   "outputs": [
    {
     "data": {
      "text/plain": [
       "array([ 0.01890534, -0.05227484, -0.04130635, -0.24414674,  0.17997074,\n",
       "        0.11441659, -0.03254228,  0.07738066,  0.02812107, -0.05538228,\n",
       "        0.09775675, -0.03105565, -0.03288239, -0.07921468,  0.04549581,\n",
       "       -0.00991981,  0.05452887, -0.06071857,  0.01268278, -0.0892274 ,\n",
       "        0.0841465 ,  0.01880351,  0.0330571 ,  0.04105039, -0.10107575,\n",
       "        0.0783181 ,  0.20567028, -0.16384425, -0.17294115, -0.15048314,\n",
       "        0.08414589,  0.01287157,  0.10783424,  0.07224309,  0.02105718,\n",
       "        0.02840381, -0.01697605,  0.08684602, -0.1129716 , -0.04218588,\n",
       "        0.02429389,  0.18014209, -0.07644641, -0.10790605, -0.05632872,\n",
       "        0.09692722, -0.02350055,  0.1324347 , -0.18725295,  0.11285231,\n",
       "        0.10348662, -0.14186657,  0.01535819,  0.12157576,  0.0087919 ,\n",
       "        0.09997014,  0.23748869,  0.02739323, -0.02803823, -0.07710522,\n",
       "        0.06480646, -0.01967301, -0.01787464, -0.01052598,  0.06498697,\n",
       "       -0.10663396, -0.15298765, -0.24338767,  0.11986709,  0.00737934,\n",
       "        0.15101194, -0.00089563, -0.07421555,  0.04779293, -0.00765884,\n",
       "       -0.12541867, -0.08850666,  0.17667793,  0.03543506,  0.04163865,\n",
       "       -0.02765517, -0.06897196,  0.08916558, -0.01046265, -0.07591081,\n",
       "       -0.01341285, -0.0905606 ,  0.01900458,  0.11292276, -0.08360852,\n",
       "        0.1428544 , -0.06676199,  0.01534122, -0.08363865, -0.02222352,\n",
       "        0.00474044, -0.04346849, -0.07028879, -0.06778862, -0.08211599])"
      ]
     },
     "execution_count": 108,
     "metadata": {},
     "output_type": "execute_result"
    }
   ],
   "source": [
    "mu, sigma = 0, 0.1 # mean and standard deviation\n",
    "s = rng.normal(mu, sigma, 100)\n",
    "s"
   ]
  },
  {
   "cell_type": "code",
   "execution_count": 109,
   "id": "6fa817aa-9ac3-4b28-96e2-116757f30224",
   "metadata": {},
   "outputs": [
    {
     "data": {
      "text/plain": [
       "<AxesSubplot:title={'center':'Normal Distribution'}, xlabel='Real Number Line', ylabel='Count'>"
      ]
     },
     "execution_count": 109,
     "metadata": {},
     "output_type": "execute_result"
    },
    {
     "data": {
      "image/png": "[encoded data removed]",
      "text/plain": [
       "<Figure size 648x648 with 1 Axes>"
      ]
     },
     "metadata": {},
     "output_type": "display_data"
    }
   ],
   "source": [
    "hist_plotting(s, 'Real Number Line', 'Count', 'Normal Distribution', color = 'b')"
   ]
  },
  {
   "cell_type": "markdown",
   "id": "4929e995-fb59-4e4c-bdf3-d1306b09450f",
   "metadata": {},
   "source": [
    "We can see here that the distribution is starting to look like a bell curve, but the sample size needs to be bigger to see is become a smooth curve. The next examples below show this. They also show how the shape of the curve changes when we adjust the mean and the standard deviation. I've set the Kernel Density Estimation (KDE) here to true. KDE is a technique that let’s us create a smooth curve given a set of data. [35] Let's get the mean, median, standard deviation and variance using NumPy."
   ]
  },
  {
   "cell_type": "code",
   "execution_count": 110,
   "id": "dff07507-9e01-4b12-96bd-7bc801c09f15",
   "metadata": {},
   "outputs": [
    {
     "data": {
      "text/plain": [
       "<AxesSubplot:title={'center':'Normal Distribution'}, xlabel='Real Number Line', ylabel='Count'>"
      ]
     },
     "execution_count": 110,
     "metadata": {},
     "output_type": "execute_result"
    },
    {
     "data": {
      "image/png": "[encoded data removed]",
      "text/plain": [
       "<Figure size 648x648 with 1 Axes>"
      ]
     },
     "metadata": {},
     "output_type": "display_data"
    }
   ],
   "source": [
    "mu1, sigma1 = 0, 0.5 # mean and standard deviation\n",
    "s1 = rng.normal(mu1, sigma1, 1000)\n",
    "\n",
    "mu2, sigma2 = 2, 1 # mean and standard deviation\n",
    "s2 = rng.normal(mu2, sigma2, 400)\n",
    "\n",
    "mu3, sigma3 = 4, 2.2 # mean and standard deviation\n",
    "s3 = rng.normal(mu3, sigma3, 100)\n",
    "\n",
    "mu4, sigma4 = -2, 0.7 # mean and standard deviation\n",
    "s4 = rng.normal(mu4, sigma4, 600)\n",
    "\n",
    "hist_plotting(s1, 'Real Number Line', 'Count', 'Normal Distribution', kde = True, color = 'b')\n",
    "hist_plotting(s2, 'Real Number Line', 'Count', 'Normal Distribution', kde = True, color = 'g')\n",
    "hist_plotting(s3, 'Real Number Line', 'Count', 'Normal Distribution', kde = True, color = 'r')\n",
    "hist_plotting(s4, 'Real Number Line', 'Count', 'Normal Distribution', kde = True, color = 'y')"
   ]
  },
  {
   "cell_type": "code",
   "execution_count": 111,
   "id": "06172365-6353-42bb-9030-c036051560de",
   "metadata": {},
   "outputs": [
    {
     "data": {
      "text/plain": [
       "<matplotlib.legend.Legend at 0x16a8046c850>"
      ]
     },
     "execution_count": 111,
     "metadata": {},
     "output_type": "execute_result"
    },
    {
     "data": {
      "image/png": "[encoded data removed]",
      "text/plain": [
       "<Figure size 648x648 with 1 Axes>"
      ]
     },
     "metadata": {},
     "output_type": "display_data"
    }
   ],
   "source": [
    "# Using the seaborn plot kdeplot which shows the kernel density\n",
    "\n",
    "plt.xlabel('Real Number Line')\n",
    "plt.title('Normal Distribution')\n",
    "\n",
    "sns.kdeplot(s1, label = 'μ = 0, σ = 0.5')\n",
    "\n",
    "sns.kdeplot(s2, label = 'μ = 2, σ = 1')\n",
    "\n",
    "sns.kdeplot(s3, label = 'μ = 4, σ = 2.2')\n",
    "\n",
    "sns.kdeplot(s4, label = 'μ = -2, σ = 0.7')\n",
    "\n",
    "plt.legend(loc = 0, prop={'size': 15})"
   ]
  },
  {
   "cell_type": "markdown",
   "id": "976c2bfc-964a-4d63-957f-ef5ee1eb0051",
   "metadata": {},
   "source": [
    "We can see here that adjusting the mean and standard deviation changes the shape of the curves. The spread of the values and the arrays generated by NumPy Random are different in each histogram.<br>\n",
    "Now let's look at an example that can be found in nature. We'll use the adult male population in Ireland as an experiment. If we know that adult male population in Ireland is 2479611, [33] the average (mean) height is 177 cm [34] and the standard deviation is 7.42 cm, we can use the NumPy Random function to generate a pseudo-random normal distribtion. We'll then use the above function to plot a histogram using Seaborn."
   ]
  },
  {
   "cell_type": "code",
   "execution_count": 112,
   "id": "b2620684-dd79-44d4-817b-225b5904b8ff",
   "metadata": {},
   "outputs": [
    {
     "data": {
      "text/plain": [
       "array([184.80321083, 174.30993295, 173.9019473 , ..., 171.90729218,\n",
       "       180.94583893, 156.25722754])"
      ]
     },
     "execution_count": 112,
     "metadata": {},
     "output_type": "execute_result"
    }
   ],
   "source": [
    "mu, sigma = 177, 7.42 # mean and standard deviation\n",
    "adultmale = rng.normal(mu, sigma, 2479611) # size (population is 2479611)\n",
    "adultmale"
   ]
  },
  {
   "cell_type": "code",
   "execution_count": 113,
   "id": "7a9c6bc4-6634-4779-b1be-7ffc71d00edd",
   "metadata": {},
   "outputs": [
    {
     "data": {
      "text/plain": [
       "<AxesSubplot:title={'center':'Height (cm) of Adult Males in Ireland'}, xlabel='Height (cm)', ylabel='Count'>"
      ]
     },
     "execution_count": 113,
     "metadata": {},
     "output_type": "execute_result"
    },
    {
     "data": {
      "image/png": "[encoded data removed]",
      "text/plain": [
       "<Figure size 648x648 with 1 Axes>"
      ]
     },
     "metadata": {},
     "output_type": "display_data"
    }
   ],
   "source": [
    "hist_plotting(adultmale, 'Height (cm)', 'Count', \"Height (cm) of Adult Males in Ireland\", kde = True, color = 'steelblue')"
   ]
  },
  {
   "cell_type": "markdown",
   "id": "22d0222d-d1a8-491c-b4bf-e835e5ff2495",
   "metadata": {},
   "source": [
    "We can clearly see the bell shaped curve here with the mean at the very centre of the curve. Now let's take a look at the stats from the curve using NumPy's mean, median, standard deviation and variance fuinctions:"
   ]
  },
  {
   "cell_type": "code",
   "execution_count": 114,
   "id": "0dca210c-a47e-482e-ba44-36058e38d27f",
   "metadata": {},
   "outputs": [
    {
     "name": "stdout",
     "output_type": "stream",
     "text": [
      "The mean of the adult male poulation in Ireland is: 177.00677233900714 cm\n",
      "The median of the adult male poulation in Ireland is: 177.00782590535155 cm\n",
      "The standard deviation of the adult male poulation in Ireland is: 7.419279632203989 cm\n",
      "The variance of the adult male poulation in Ireland is: 55.04571026083696 cm\n"
     ]
    }
   ],
   "source": [
    "print('The mean of the adult male poulation in Ireland is:', np.mean(adultmale), 'cm')\n",
    "print('The median of the adult male poulation in Ireland is:', np.median(adultmale), 'cm')\n",
    "print('The standard deviation of the adult male poulation in Ireland is:', np.std(adultmale), 'cm')\n",
    "print('The variance of the adult male poulation in Ireland is:', np.var(adultmale), 'cm')"
   ]
  },
  {
   "cell_type": "markdown",
   "id": "5722cda6-efcc-4030-953b-151ddd161762",
   "metadata": {},
   "source": [
    "We can see from the data above that this is exactly what we expected to see from a normal distribution. The numbers are not exactly what we put in in the first place, but they approach the mean and the standard deviation which is what is expected from a PDF."
   ]
  },
  {
   "cell_type": "markdown",
   "id": "091e7da4-aa35-4544-b787-c311a81e5eeb",
   "metadata": {},
   "source": [
    "### Binomial Distribution\n"
   ]
  },
  {
   "cell_type": "markdown",
   "id": "0731e88d-80f0-4268-9bd6-eeab4441fc74",
   "metadata": {},
   "source": [
    "The Binomial distribution is discrete version of the normal distribution. The binomial distribution deals with either a success or failure of an event, for example flipping a coin. There can only be 2 outcomes, heads or tails.<br> [38]\n",
    "The syntax for the uniform function is:<br> [03]\n",
    "<br>\n",
    "``random.Generator.binomial(n, p, size=None)``<br>\n",
    "<br>\n",
    "Here, n is the ``n`` is the number of trials. This means that if n = 10, the event is carried out 5 times. If the event is a success, then the result is a 1. If the event is a fail, then the result is a 0. The events are added together to give in integer value. ``p`` is the probability which is the same parameter as discussed in the 'Choice' section in the 'Simple Random Data' of this notebook. The ``size`` parameter has also been discussed earlier and in this case means the number of times the trials are run. Let's use an example of a coin tossed 10 times and the desired outcome is Heads, denoted by a 1. [38]"
   ]
  },
  {
   "cell_type": "code",
   "execution_count": 115,
   "id": "dd2ad9a0-6e48-482a-85f4-d3c1fe2b7ad6",
   "metadata": {},
   "outputs": [],
   "source": [
    "rng = np.random.default_rng(20)"
   ]
  },
  {
   "cell_type": "code",
   "execution_count": 116,
   "id": "87af6fba-2a14-4457-8ec3-10c5af8798b3",
   "metadata": {
    "scrolled": true,
    "tags": []
   },
   "outputs": [
    {
     "data": {
      "text/plain": [
       "array([ 4,  5,  3,  5,  5,  3,  3,  8,  6,  5,  6,  4,  4,  3,  2,  6,  6,\n",
       "        1,  4,  3,  5,  5,  5,  3,  6,  5,  5,  4,  7,  3,  3,  5,  4,  5,\n",
       "        6,  6,  6,  4,  6,  4,  5,  4,  6,  3,  5,  6,  6,  3,  8,  4,  5,\n",
       "        4,  2,  4,  4,  5,  3,  7,  4,  5,  4,  4,  7,  7,  5,  4,  3,  5,\n",
       "        3,  5,  3,  2,  5,  5,  9,  4,  5,  5,  6,  5,  4,  5,  6,  5,  6,\n",
       "        5,  4,  5,  5,  6,  4,  6,  4,  4,  7,  7,  5,  6,  7,  6,  5,  6,\n",
       "        3,  4,  5,  3,  4,  4,  4,  4,  4,  7,  2,  5,  6,  6,  4,  8,  5,\n",
       "        6,  3,  5,  4,  7,  4,  4,  7,  4,  5,  7,  2,  3,  5,  5,  8,  7,\n",
       "        6,  2,  4,  5,  5,  8,  5,  8,  4,  7,  6,  7,  6,  6,  4,  3,  3,\n",
       "        3,  4,  4,  4,  5,  6,  7,  7,  4,  8,  6,  4,  6,  4,  6,  4,  5,\n",
       "        3,  7,  3,  6,  4,  4,  8,  3,  6,  5,  4,  3,  8,  5,  7,  5,  4,\n",
       "        6,  6,  5,  5,  5,  8,  3,  6,  5,  6,  4,  7,  6,  6,  7,  4,  4,\n",
       "        3,  6,  8,  4,  4,  5,  8,  6,  6,  5,  6,  5,  6,  4,  7,  6,  4,\n",
       "        4,  7,  5,  5,  7,  5,  5,  6,  4,  4,  6,  6,  5,  6,  6,  5,  6,\n",
       "        6,  6,  7,  0,  6,  3,  3,  3,  1,  3,  7,  5,  6,  5,  6,  6,  4,\n",
       "        2,  3,  4,  4,  6,  7,  3,  7,  7,  7,  5,  5,  4,  7,  2,  5,  7,\n",
       "        6,  6,  7,  4,  5,  4,  5,  5,  2,  7,  2,  4,  7,  9,  6,  5,  5,\n",
       "        5,  5,  6,  4,  5,  5,  3,  3,  5,  2,  4,  6,  4,  5,  6,  8,  7,\n",
       "        4,  4,  5,  5,  2,  6,  7,  3,  4,  6,  6,  6,  7,  5,  4,  3,  4,\n",
       "        5,  3,  4,  5,  4,  3,  3,  6,  4,  4,  5,  4,  4,  6,  6,  5,  8,\n",
       "        2,  4,  5,  6,  8,  4,  4,  5,  2,  4,  4,  6,  2,  6,  4,  2,  4,\n",
       "        4,  5,  6,  3,  3,  6,  4,  6,  4,  4,  4,  5,  4,  6,  9,  6,  5,\n",
       "        7,  7,  3,  4,  4,  6,  9,  3,  6,  4,  5,  4,  4,  7,  7,  3,  6,\n",
       "        4,  9,  4,  3,  3,  4,  4,  5,  8,  6,  6,  3,  5,  8,  5,  5,  4,\n",
       "        3,  5,  2,  5,  7,  6,  5,  6,  3,  5,  5,  3,  5,  8,  6,  5,  6,\n",
       "        8,  6,  6,  5,  3,  7,  7,  6,  6,  5,  5,  2,  5,  6,  5,  6,  5,\n",
       "        4,  3,  4,  6,  4,  1,  5,  4,  6,  6,  5,  5,  5,  5,  6,  7,  5,\n",
       "        4,  7,  4,  5,  3,  4,  6,  6,  5,  8,  5,  4,  4,  7,  5,  7,  7,\n",
       "        7,  4,  6,  6,  6,  6,  4,  5,  7,  8,  5,  6,  8,  4,  5,  7,  2,\n",
       "        3,  7,  4,  4,  7,  8,  3,  3,  6,  4,  3,  5,  4,  6,  4,  4,  6,\n",
       "        5,  4,  5,  3,  5,  6,  7,  4,  4,  5,  4,  2,  2,  6,  5,  4,  6,\n",
       "        3,  3,  4,  5,  5,  5,  4,  4,  8,  3,  4,  6,  5,  8,  5,  2,  3,\n",
       "        4,  4,  5,  2,  1,  7,  3,  7, 10,  2,  6,  7,  5,  1,  4,  4,  2,\n",
       "        8,  6,  5,  3,  8,  6,  4,  3,  7,  5,  6,  7,  5,  3,  2,  2,  7,\n",
       "        6,  6,  3,  3,  4,  4,  6,  8,  2,  6,  3,  7,  4,  7,  6,  5,  5,\n",
       "        2,  6,  6,  1,  3,  8,  5,  5,  5,  3,  6,  4,  6,  8,  6,  5,  5,\n",
       "        2,  7,  6,  4,  6,  8,  5,  7,  6,  3,  2,  4,  3,  6,  4,  3,  5,\n",
       "        4,  2,  6,  4,  1,  2,  2,  8,  4,  5,  8,  4,  4,  4,  7,  4,  3,\n",
       "        4,  6,  2,  7,  4,  7,  6,  6,  4,  6,  4,  7,  7,  5,  4,  5,  5,\n",
       "        2,  8,  5,  6,  6,  7,  3,  5,  7,  3,  4,  3,  6,  6,  4,  3,  7,\n",
       "        3,  7,  2,  9,  5,  5,  6,  4,  4,  8,  6,  7,  8,  7,  7,  6,  6,\n",
       "        7,  6,  6,  4,  5,  5,  5,  4,  4,  5,  4,  3,  3,  3,  5,  3,  6,\n",
       "        7,  5,  6,  3,  4,  4,  6,  3,  6,  2,  4,  6,  6,  4,  6,  4,  5,\n",
       "        5,  5,  6,  5,  7,  4,  4,  6,  4,  8,  6,  4,  5,  5,  4,  6,  4,\n",
       "        3,  5,  7,  5,  4,  5,  5,  7,  6,  6,  4,  4,  4,  4,  3,  4,  4,\n",
       "        4,  8,  2,  3,  8,  6,  7,  7,  6,  4,  4,  4,  5,  2,  6,  2,  5,\n",
       "        6,  7,  3,  4,  5,  8,  6,  3,  3,  6,  6,  3,  7,  6,  4,  6,  3,\n",
       "        5,  5,  6,  3,  4,  4,  5,  5,  9,  4,  4,  4,  4,  4,  7,  4,  4,\n",
       "        6,  4,  4,  6,  8,  3,  5,  2,  4,  4,  3,  7,  8,  5,  7,  4,  8,\n",
       "        6,  7,  2,  5,  5,  7,  7,  6,  4,  4,  5,  4,  5,  5,  6,  2,  3,\n",
       "        4,  3,  4,  7,  6,  6,  2,  4,  5,  5,  6,  6,  6,  6,  5,  5,  8,\n",
       "        6,  4,  6,  2,  5,  7,  4,  5,  4,  4,  6,  2,  4,  6,  3,  3,  4,\n",
       "        7,  6,  5,  3,  5,  4,  8,  7,  4,  4,  5,  3,  1,  6,  7,  4,  4,\n",
       "        8,  8,  5,  4,  6,  6,  4,  5,  6,  3,  5,  9,  5,  7,  5,  6,  5,\n",
       "        3,  6,  6,  4,  6,  7,  6,  5,  4,  6,  6,  6,  4,  4,  4,  4,  5,\n",
       "        5,  7,  4,  7,  7,  6,  6,  6,  3,  3,  3,  3,  6,  3,  7,  5,  1,\n",
       "        7,  7,  7,  6,  7,  6,  8,  6,  4,  7,  4,  9,  7,  5,  6,  4,  8,\n",
       "        4,  2,  5,  6,  5,  7,  5,  7,  3,  4,  6,  3,  7,  1,  4,  5,  5,\n",
       "        7,  4,  6,  6,  5,  5,  6,  6,  6,  6,  4,  5,  4,  2],\n",
       "      dtype=int64)"
      ]
     },
     "execution_count": 116,
     "metadata": {},
     "output_type": "execute_result"
    }
   ],
   "source": [
    "n, p = 10, .5  # number of trials, probability of each trial\n",
    "coin_toss_1 = rng.binomial(n, p, 1000) # 10 trials ran 1000 times\n",
    "coin_toss_1"
   ]
  },
  {
   "cell_type": "markdown",
   "id": "1ee0ea41-20a2-45e8-bbea-f1ef907fa4f3",
   "metadata": {},
   "source": [
    "The probability density function for the Normal distribution is:<br>\n",
    "<br>\n",
    "$$P(N) = \\binom{n}{N}P^{N}(1-P)^{n-N}$$<br>\n",
    "<br>\n",
    "Where ``n`` is the number of trials, ``p`` is the probability of success, and ``N`` is the number of successes. $\\binom{n}{N}$ is often called 'n choose N' and can be also be written as:<br>\n",
    "<br>\n",
    "$$\\binom{n}{N} =\\frac{n!}{N!(n - N)!}$$<br>\n",
    "<br>\n",
    "To demonstrate this PDF, let's toss a fair coin 3 times and the outcome that we are looking for is 2 Heads. Out of a total of 8 possible outcomes, there are 3 outcomes in which we would produce 2 Heads. See below:"
   ]
  },
  {
   "cell_type": "markdown",
   "id": "7923c30a-f78f-4979-96d5-18a31ef7c0cd",
   "metadata": {},
   "source": [
    "![Coins](Pics/Coins.png)"
   ]
  },
  {
   "cell_type": "markdown",
   "id": "3d06069e-0875-4e84-b8ef-936c6c29508c",
   "metadata": {},
   "source": [
    "The 2 Heads could be in any order: \"HHT\", \"THH\" and \"HTH\". In terms of the probabilities, since there are 8 possible outcomes and each of them are equally likely, we can say that each oucome has a probability of 1/8. Therefore, the probability of getting 2 Heads is 3 x 1/8 which is 3/8. The probabilities of getting Heads in different combinations is as shows below:\n",
    "- P(N = 3) = 1/8\n",
    "- P(N = 2) = 3/8\n",
    "- P(N = 1) = 3/8\n",
    "- P(N = 0) = 1/8"
   ]
  },
  {
   "cell_type": "markdown",
   "id": "59235128-19f4-4a8a-997a-e994820d79bd",
   "metadata": {},
   "source": [
    "This comes out as a symmetrical graph. This shows why when we plot a NumPy binomial distribution we get a discrete version of the Normal distribution. [38] See below the symmetrical histogram of the above example of a coin being tossed 10 times which is in turn ran 1000 times."
   ]
  },
  {
   "cell_type": "code",
   "execution_count": 117,
   "id": "aa35f1b2-2b08-4d23-bab0-56ba215c3fe4",
   "metadata": {},
   "outputs": [
    {
     "data": {
      "image/png": "[encoded data removed]",
      "text/plain": [
       "<Figure size 648x648 with 1 Axes>"
      ]
     },
     "metadata": {},
     "output_type": "display_data"
    }
   ],
   "source": [
    "coin_toss_hist1 = hist_plotting(coin_toss_1, 'Number of Heads', 'Count',\n",
    "                               \"Coin Tossed 10 Times (Size = 1000)\",\n",
    "                               discrete=True, color = 'c')"
   ]
  },
  {
   "cell_type": "markdown",
   "id": "f9321c44-818e-4616-945c-29afed9e8ebc",
   "metadata": {},
   "source": [
    "Let's not ramp the sample size up to 1000000 to see even more symmetry:"
   ]
  },
  {
   "cell_type": "code",
   "execution_count": 118,
   "id": "407fb7e9-67e3-47c0-b3b8-04d723871b38",
   "metadata": {},
   "outputs": [
    {
     "data": {
      "text/plain": [
       "array([4, 3, 3, ..., 7, 4, 4], dtype=int64)"
      ]
     },
     "execution_count": 118,
     "metadata": {},
     "output_type": "execute_result"
    }
   ],
   "source": [
    "n, p = 10, .5  # number of trials, probability of each trial\n",
    "coin_toss_2 = rng.binomial(n, p, 1000000) # 10 trials ran 10 million times\n",
    "coin_toss_2"
   ]
  },
  {
   "cell_type": "code",
   "execution_count": 119,
   "id": "d46da685-80aa-4602-bd69-82223a7111e7",
   "metadata": {},
   "outputs": [
    {
     "data": {
      "image/png": "[encoded data removed]",
      "text/plain": [
       "<Figure size 648x648 with 1 Axes>"
      ]
     },
     "metadata": {},
     "output_type": "display_data"
    }
   ],
   "source": [
    "coin_toss_hist2 = hist_plotting(coin_toss_2, 'Number of Heads', 'Count',\n",
    "                               \"Coin Tossed 10 Times (Size = 1000000)\",\n",
    "                               discrete=True)"
   ]
  },
  {
   "cell_type": "markdown",
   "id": "5233fcfe-ab8f-42a9-9e95-0a87b9fe4f00",
   "metadata": {},
   "source": [
    "The Bernoulli distribution relates to the binomial distribution because it only has 2 possible outcomes as well. [41] Below is a picture of the hidden block spinner in Super Mario Party. If the arrow lands in the smaller segment, then the player recieves a star. If it lands in the larger segment, the player does not recive a star."
   ]
  },
  {
   "cell_type": "markdown",
   "id": "d701267d-c9d3-4c7f-b4f0-a40e13af764e",
   "metadata": {},
   "source": [
    "![Hidden Block](https://mario.wiki.gallery/images/9/98/SMP_Powderkeg_Hidden_Block.jpg)"
   ]
  },
  {
   "cell_type": "markdown",
   "id": "b30f8ca0-184e-4cfd-aac9-f56cdab12895",
   "metadata": {},
   "source": [
    "Here is the code that represents the Bernoulli distribution of the probability of the player recieving a star"
   ]
  },
  {
   "cell_type": "code",
   "execution_count": 120,
   "id": "43182d26-8768-47d7-b4aa-ec158abf92e7",
   "metadata": {},
   "outputs": [],
   "source": [
    "hidden_block = rng.binomial(n = 1, p = 0.15, size = 100000)"
   ]
  },
  {
   "cell_type": "code",
   "execution_count": 121,
   "id": "9901a54e-1e5a-4199-8f6e-1412e656429c",
   "metadata": {},
   "outputs": [
    {
     "data": {
      "text/plain": [
       "array([0, 0, 0, ..., 0, 1, 0], dtype=int64)"
      ]
     },
     "execution_count": 121,
     "metadata": {},
     "output_type": "execute_result"
    }
   ],
   "source": [
    "hidden_block"
   ]
  },
  {
   "cell_type": "code",
   "execution_count": 122,
   "id": "da1f924f-8c07-4537-927d-a06d33d0ec7c",
   "metadata": {},
   "outputs": [
    {
     "data": {
      "image/png": "[encoded data removed]",
      "text/plain": [
       "<Figure size 648x648 with 1 Axes>"
      ]
     },
     "metadata": {},
     "output_type": "display_data"
    }
   ],
   "source": [
    "#Setting the hist_plotting function to the variable \"ax\" so that I can tidy up the x axis.\n",
    "ax = hist_plotting(hidden_block, 'Outcome', 'Count', \"Hidden Block\", discrete=True)"
   ]
  },
  {
   "cell_type": "markdown",
   "id": "4ad7f40b-2de8-4171-a4ff-4a380ba71cd2",
   "metadata": {},
   "source": [
    "It should be notes that: [42]\n",
    "1. A random variables that follows a Bernoulli distribution can only take on two possible values, but a random variable that follows a Binomial distribution can take on several values.\n",
    "2. In order for a random variable to follow a Binomial distribution, the probability of “success” in each Bernoulli trial must be equal and independent."
   ]
  },
  {
   "cell_type": "markdown",
   "id": "80032de5-ecf1-44cb-86c2-f224843a9da9",
   "metadata": {},
   "source": [
    "### Poisson Distribution"
   ]
  },
  {
   "cell_type": "markdown",
   "id": "a693d343-c70b-4a5f-925d-01000cd911d9",
   "metadata": {},
   "source": [
    "The Poisson Distribution is a discrete probability distribution that is used to show how many times an event is likely to occur over a specified period of time. It is a count distribution. Poisson distributions are often used to understand independent events that occur at a constant rate within a given interval of time. [44] It was named after French mathematician Siméon Denis Poisson. [43] It is used to estimate how likely it is that something will happen \"X\" number of times. For example, A fast-food restaurant gets an average of 3 visitors to the drive-through per minute. The Poisson distribution can be used to analyse the probability of how many customers go through the drive-through. It can also be used to calculate the probability of a lull in activity i.e. when there are 0 customers coming to the drive-through as well as the probability of a flurry of activity i.e. when there are 5 or more customers coming to the drive-through. [45] The data generating process for the Poisson distribution is called the Poisson point process. [55] The 3 main factors that make a Poisson process are:<br>\n",
    "1. The average time between events is known and constant. It does not change throughout the day or experiment.\n",
    "2. Events are independent of each other. The previous event and the next event do not affect the event in question.\n",
    "3. Events cannot occut similtaneously. There has to be a time interval occuring between events."
   ]
  },
  {
   "cell_type": "markdown",
   "id": "e852a699-b3aa-4971-a73d-8596645908cf",
   "metadata": {},
   "source": [
    "The syntax for the Poisson function is:<br>\n",
    "<br>\n",
    "``random.Generator.poisson(lam=1.0, size=None)``<br>\n",
    "<br>\n",
    "The probability density function (PDF) for the Poisson distribution is:<br> [58]\n",
    "<br>\n",
    "$$f(k;\\lambda) = \\frac{\\lambda^{k}e^{-\\lambda}}{k!}$$<br>\n",
    "<br>\n",
    "Where ``e`` is Euler's number (e = 2.71828...), ``k`` is the number of occurrences, ``k!`` is the factorial of ``k`` and ``λ`` is the expected value (EV) of x in a fixed time interval."
   ]
  },
  {
   "cell_type": "markdown",
   "id": "2c0ae392-c883-423b-af76-e1d323f219a2",
   "metadata": {},
   "source": [
    "The 2 parameters in the Poisson fuction are ``lam`` and ``size``. ``Size`` has been explained on a number of occasions throughout this notebook so I will not explain it again here. ``lam`` is the expected value (EV) that I outlined above in the PDF.<br>\n",
    "Let's look at an example. We'll set λ (Expected Value) at 5 and use a size sample of 10,000."
   ]
  },
  {
   "cell_type": "code",
   "execution_count": 123,
   "id": "83a0b80c-ea26-4e3e-9eee-914e305c7498",
   "metadata": {},
   "outputs": [
    {
     "data": {
      "text/plain": [
       "array([ 7, 10,  7, ...,  5,  9,  6], dtype=int64)"
      ]
     },
     "execution_count": 123,
     "metadata": {},
     "output_type": "execute_result"
    }
   ],
   "source": [
    "rng = np.random.default_rng(4)\n",
    "s = rng.poisson(5, 10000)\n",
    "s"
   ]
  },
  {
   "cell_type": "code",
   "execution_count": 124,
   "id": "a1d1dda5-4e01-40c4-95b6-89274b576d15",
   "metadata": {},
   "outputs": [
    {
     "data": {
      "text/plain": [
       "<AxesSubplot:title={'center':'Poisson Distribution'}, xlabel='k (λ = 5)', ylabel='f(k;λ)'>"
      ]
     },
     "execution_count": 124,
     "metadata": {},
     "output_type": "execute_result"
    },
    {
     "data": {
      "image/png": "[encoded data removed]",
      "text/plain": [
       "<Figure size 648x648 with 1 Axes>"
      ]
     },
     "metadata": {},
     "output_type": "display_data"
    }
   ],
   "source": [
    "hist_plotting(s, 'k (λ = 5)', 'f(k;λ)', 'Poisson Distribution',\n",
    "              discrete = True)"
   ]
  },
  {
   "cell_type": "markdown",
   "id": "596183fc-2d85-4ac9-9023-cd93e7b3c0ac",
   "metadata": {},
   "source": [
    "Let's have a look at some different shapes that the Poisson Distribution can take. We'll have a look at λ = 3, λ = 5 and λ = 10"
   ]
  },
  {
   "cell_type": "code",
   "execution_count": 125,
   "id": "4891e86f-853f-450c-9e4b-7431e9bc3bba",
   "metadata": {},
   "outputs": [],
   "source": [
    "s1 = rng.poisson(3, 10000)\n",
    "s2 = rng.poisson(5, 10000)\n",
    "s3 = rng.poisson(10, 10000)"
   ]
  },
  {
   "cell_type": "code",
   "execution_count": 126,
   "id": "6449592e-75c1-42f9-a95b-c8201b2950fe",
   "metadata": {},
   "outputs": [
    {
     "data": {
      "text/plain": [
       "Text(0, 0.5, 'f(k;λ)')"
      ]
     },
     "execution_count": 126,
     "metadata": {},
     "output_type": "execute_result"
    },
    {
     "data": {
      "image/png": "[encoded data removed]",
      "text/plain": [
       "<Figure size 720x360 with 3 Axes>"
      ]
     },
     "metadata": {},
     "output_type": "display_data"
    }
   ],
   "source": [
    "plt.figure(figsize = (10, 5))\n",
    "ax1 = plt.subplot(1,3,1)\n",
    "sns.histplot(s1, color = 'b', discrete = True)\n",
    "ax1.set_title('λ = 3')\n",
    "ax1.set_xlabel('k (λ = 3)')\n",
    "ax1.set_ylabel('f(k;λ)')\n",
    "\n",
    "\n",
    "ax2 = plt.subplot(1,3,2)\n",
    "sns.histplot(s2, color = 'r', discrete = True)\n",
    "ax2.set_title('λ = 5')\n",
    "ax2.set_xlabel('k (λ = 5)')\n",
    "ax2.set_ylabel('f(k;λ)')\n",
    "\n",
    "ax3 = plt.subplot(1,3,3)\n",
    "sns.histplot(s3, color = 'g', discrete = True)\n",
    "ax3.set_title('λ = 10')\n",
    "ax3.set_xlabel('k (λ = 10)')\n",
    "ax3.set_ylabel('f(k;λ)')"
   ]
  },
  {
   "cell_type": "markdown",
   "id": "d8ee0fef-309e-4e0a-b013-2907f62b4190",
   "metadata": {},
   "source": [
    "We can observe here that the Poisson Distributions are: [46]\n",
    "- Unimodel (A PDF with one clear peak) [47]\n",
    "- They exhibit positive skew (that decreases as λ increases)\n",
    "- They are centred roughly around λ\n",
    "- They have variance (spread) that increases as λ increases."
   ]
  },
  {
   "cell_type": "markdown",
   "id": "2af73e73-7db4-4fd6-a49a-4f533bc33ffa",
   "metadata": {},
   "source": [
    "We can see that when λ is 10, the shape of the plot is starting to look like a Normal Distribution."
   ]
  },
  {
   "cell_type": "markdown",
   "id": "29e1ba3b-621b-4930-8285-8e268b5d1cd0",
   "metadata": {},
   "source": [
    "Let's look at the World Cup in 2018. There was an average of 2.6 goals per game and there was 64 games. [48]"
   ]
  },
  {
   "cell_type": "code",
   "execution_count": 127,
   "id": "d4397e29-a76c-4d41-b808-fac727b0376b",
   "metadata": {},
   "outputs": [
    {
     "data": {
      "text/plain": [
       "array([7, 1, 3, 3, 4, 4, 4, 2, 3, 2, 2, 2, 2, 2, 1, 0, 4, 2, 3, 2, 4, 1,\n",
       "       4, 3, 3, 2, 1, 4, 7, 4, 3, 4, 3, 1, 4, 2, 1, 8, 2, 2, 2, 3, 3, 1,\n",
       "       1, 2, 1, 4, 2, 3, 2, 1, 2, 3, 2, 1, 1, 5, 4, 1, 3, 5, 3, 2],\n",
       "      dtype=int64)"
      ]
     },
     "execution_count": 127,
     "metadata": {},
     "output_type": "execute_result"
    }
   ],
   "source": [
    "worldcup = rng.poisson(2.6, 64)\n",
    "worldcup"
   ]
  },
  {
   "cell_type": "code",
   "execution_count": 128,
   "id": "838daa42-0755-4288-9082-508e40fdab25",
   "metadata": {},
   "outputs": [
    {
     "data": {
      "text/plain": [
       "<AxesSubplot:title={'center':'World Cup Goals Per Game'}, xlabel='Goals', ylabel='Matches'>"
      ]
     },
     "execution_count": 128,
     "metadata": {},
     "output_type": "execute_result"
    },
    {
     "data": {
      "image/png": "[encoded data removed]",
      "text/plain": [
       "<Figure size 648x648 with 1 Axes>"
      ]
     },
     "metadata": {},
     "output_type": "display_data"
    }
   ],
   "source": [
    "hist_plotting(worldcup, 'Goals', 'Matches', 'World Cup Goals Per Game',\n",
    "              color = 'c', discrete = True)"
   ]
  },
  {
   "cell_type": "markdown",
   "id": "a79c0451-302f-4ebb-9bf1-5cff2a4c7d15",
   "metadata": {},
   "source": [
    "We can see here that in around 20 games, 2 goals were scored. Also as k increases the probability approaches 0"
   ]
  },
  {
   "cell_type": "markdown",
   "id": "6c505c4d-72a4-4d57-9a0b-ea13d0371232",
   "metadata": {},
   "source": [
    "### Exponential Distribution"
   ]
  },
  {
   "cell_type": "markdown",
   "id": "6f2f95a9-be6d-48a5-82db-32ba261c02c1",
   "metadata": {},
   "source": [
    "The exponential distribution is used to measure amount of time until some specific event occurs. For example, the amount of time (beginning now) until an earthquake occurs has an exponential distribution. Like the Poisson distribution, the data generating process for the exponential distribution is the Poisson point process. Other examples include the length, in minutes, of long distance business telephone calls, and the amount of time, in months, a car battery lasts. It can be shown, too, that the value of the change that you have in your pocket or purse approximately follows an exponential distribution.<br> [50]\n",
    "What the exponential distribution/function is asking is how much time occurs between a given number of events. The question that the Poisson distribution answers is how many events will occur in a fixed time interval. [49] For the exponential distribution, the random viariable represents time itself. This is why the exponential distribution is a continuous distribution since time can be infinite. For the Poisson distribution, the random variable represents the number of events(discrete) [51]. \n",
    "The syntax for the exponential function is:<br>\n",
    "<br>\n",
    "``random.Generator.exponential(scale=1.0, size=None)``<br> [59]\n",
    "<br>\n",
    "The probability density function (PDF) for the exponential distribution is:<br>\n",
    "<br>\n",
    "$$f(x;\\frac{1}{\\beta}) = \\frac{1}{\\beta}exp(\\frac{-x}{\\beta})$$<br>"
   ]
  },
  {
   "cell_type": "markdown",
   "id": "2eb77ff3-99a7-4410-b7bd-161e2bacb59b",
   "metadata": {},
   "source": [
    "Where \\beta is the inverse of the rate of arrival or rate of occurance(λ = 1/β). This is also the ``scale`` parameter and is the only parameter that the exponential function relies on. The size parameter has been explained on a number of occasions throughout this notebook so I will not explain it again here. The units for the exponential distribution is 1/time. For the Poisson distribution, λ represents the expected number of occurances. The units for the Poisson distribution are unitless."
   ]
  },
  {
   "cell_type": "code",
   "execution_count": 129,
   "id": "54e6f197-842f-451b-8600-34ac9e8c992b",
   "metadata": {},
   "outputs": [
    {
     "data": {
      "text/plain": [
       "array([0.70752926, 1.02520335, 0.56854866, 0.89510986, 0.20653275,\n",
       "       3.38363735, 0.00975363, 2.80921576, 0.57533276, 0.30053401,\n",
       "       0.54113589, 0.31214561, 0.89977015, 1.07370066, 1.88425005,\n",
       "       0.22207126, 3.14467332, 0.73585727, 0.3483729 , 0.88356512,\n",
       "       0.07506151, 0.06004634, 1.22356642, 0.77290565, 2.1959648 ,\n",
       "       0.4751539 , 0.52131819, 1.1807552 , 0.52653544, 0.02216913,\n",
       "       0.29327876, 1.01425867, 0.63473038, 1.39657786, 0.00830063,\n",
       "       0.90383064, 0.25034535, 0.3556278 , 3.0748573 , 1.40442229,\n",
       "       3.79541248, 1.74809921, 2.24303932, 0.14494652, 0.30255383,\n",
       "       0.23877445, 1.14824526, 1.22325291, 0.12721671, 0.38385457,\n",
       "       1.06788654, 0.06870063, 0.09820133, 0.87140927, 1.87400006,\n",
       "       2.69635176, 0.70609459, 1.30607194, 0.76354623, 0.9370585 ,\n",
       "       0.14484738, 2.49499671, 0.88427876, 0.87521203, 0.02635314,\n",
       "       1.08504127, 1.06185701, 1.06420435, 0.56883105, 1.36363051,\n",
       "       1.57366733, 0.65002118, 0.35114035, 1.69988311, 0.67257892,\n",
       "       0.75077212, 0.11144707, 0.2450896 , 2.04748793, 0.72785219,\n",
       "       0.02479076, 1.32669727, 0.49155307, 2.95186364, 0.84260739,\n",
       "       0.97658186, 0.43399643, 0.01937923, 5.38363264, 0.46928567,\n",
       "       2.06966182, 0.14719218, 2.74173153, 0.01439415, 0.85844044,\n",
       "       0.09177618, 0.18587097, 1.59138192, 2.64959739, 0.67838267])"
      ]
     },
     "execution_count": 129,
     "metadata": {},
     "output_type": "execute_result"
    }
   ],
   "source": [
    "rng = np.random.default_rng(7)\n",
    "s = rng.exponential(1, 100)\n",
    "s"
   ]
  },
  {
   "cell_type": "markdown",
   "id": "a7309b5f-debd-4eab-bdca-cb739ce70adb",
   "metadata": {},
   "source": [
    "Let's look at what a kdeplot of the exponential function looks like."
   ]
  },
  {
   "cell_type": "code",
   "execution_count": 130,
   "id": "0a54f70d-e4f2-4cc7-96ed-d9e368455d70",
   "metadata": {},
   "outputs": [
    {
     "data": {
      "text/plain": [
       "Text(0.5, 0, 'x')"
      ]
     },
     "execution_count": 130,
     "metadata": {},
     "output_type": "execute_result"
    },
    {
     "data": {
      "image/png": "[encoded data removed]",
      "text/plain": [
       "<Figure size 648x648 with 1 Axes>"
      ]
     },
     "metadata": {},
     "output_type": "display_data"
    }
   ],
   "source": [
    "sns.kdeplot(s, shade = True)\n",
    "plt.xlabel('x')"
   ]
  },
  {
   "cell_type": "markdown",
   "id": "c6c995ef-adf4-4d11-a288-78965ff379c3",
   "metadata": {},
   "source": [
    "We can see here that the exponential PDF looks similar to the Poisson distribution with its peak at the ``scale`` parameter. Let's see what happens when we change the scale parameter."
   ]
  },
  {
   "cell_type": "code",
   "execution_count": 131,
   "id": "b6a48ba0-a308-44ee-b712-b90e19eacce4",
   "metadata": {},
   "outputs": [],
   "source": [
    "# 3 different scale parameters.\n",
    "\n",
    "s1 = rng.exponential(0.5, 100)\n",
    "s2 = rng.exponential(1, 100)\n",
    "s3 = rng.exponential(1.5, 100)"
   ]
  },
  {
   "cell_type": "code",
   "execution_count": 132,
   "id": "7f537c3f-9b75-4bc3-ab51-2e8d04730fae",
   "metadata": {},
   "outputs": [
    {
     "data": {
      "text/plain": [
       "Text(0.5, 0, 'x')"
      ]
     },
     "execution_count": 132,
     "metadata": {},
     "output_type": "execute_result"
    },
    {
     "data": {
      "image/png": "[encoded data removed]",
      "text/plain": [
       "<Figure size 720x360 with 3 Axes>"
      ]
     },
     "metadata": {},
     "output_type": "display_data"
    }
   ],
   "source": [
    "# Investigating what happens when we change the scale parameter.\n",
    "\n",
    "plt.figure(figsize = (10, 5))\n",
    "ax1 = plt.subplot(1,3,1)\n",
    "sns.kdeplot(s1, color = 'b', shade = True)\n",
    "ax1.set_title('scale = 0.5')\n",
    "ax1.set_xlabel('x')\n",
    "\n",
    "\n",
    "ax2 = plt.subplot(1,3,2)\n",
    "sns.kdeplot(s2, color = 'r', shade = True)\n",
    "ax2.set_title('scale = 1')\n",
    "ax2.set_xlabel('x')\n",
    "\n",
    "ax3 = plt.subplot(1,3,3)\n",
    "sns.kdeplot(s3, color = 'g', shade = True)\n",
    "ax3.set_title('scale = 1.5')\n",
    "ax3.set_xlabel('x')"
   ]
  },
  {
   "cell_type": "markdown",
   "id": "ae3bad2e-2a4c-4b78-a3d1-92f410a92ab1",
   "metadata": {},
   "source": [
    "We can see here that the density decreases when the scale parameter increases but it's hard to see anything from these plots. Let's now plot the cumumlative kde distributions on the same plot."
   ]
  },
  {
   "cell_type": "code",
   "execution_count": 133,
   "id": "d74f3f11-9e37-4b6b-86c0-4f745d13852f",
   "metadata": {},
   "outputs": [
    {
     "data": {
      "text/plain": [
       "<matplotlib.legend.Legend at 0x16a822b6a90>"
      ]
     },
     "execution_count": 133,
     "metadata": {},
     "output_type": "execute_result"
    },
    {
     "data": {
      "image/png": "[encoded data removed]",
      "text/plain": [
       "<Figure size 648x648 with 1 Axes>"
      ]
     },
     "metadata": {},
     "output_type": "display_data"
    }
   ],
   "source": [
    "# Investigating what happens when we change the scale parameter.\n",
    "\n",
    "plt.xlabel('x')\n",
    "plt.title('Exponential Distribution')\n",
    "\n",
    "sns.kdeplot(s1, label = 'Scale =0.5', cumulative = True)\n",
    "\n",
    "sns.kdeplot(s2,label = 'Scale =1', cumulative = True)\n",
    "\n",
    "sns.kdeplot(s3,label = 'Scale =1.5', cumulative = True)\n",
    "\n",
    "plt.legend(loc = 0, prop={'size': 12})"
   ]
  },
  {
   "cell_type": "markdown",
   "id": "cb053ae2-dbf2-4153-a947-30fedb38dbdd",
   "metadata": {},
   "source": [
    "The exponential distribution is a special case of the gamma distribution. When the ``shape`` parameter of the gamma distribution is equal to 1 and the scale parameter equal to $\\beta$. The exponential distribution is also a continuous version of the geometric distribution. The geometric distribution is discrete because it looks at the number of events whereas the exponential distribution looks at the amount of time. [52]"
   ]
  },
  {
   "cell_type": "markdown",
   "id": "cd3c900a-8c81-4ee5-b825-567dd9341264",
   "metadata": {},
   "source": [
    "## References\n",
    "[01][Towards Data Science - Why NumPy Is So Fundamental](https://towardsdatascience.com/why-numpy-is-so-fundamental-78ae2807300) <br>\n",
    "[02][Numpy.org - Random sampling (numpy.random)](https://numpy.org/doc/stable/reference/random/index.html)<br>\n",
    "[03][numpy.random.binomial](https://numpy.org/doc/stable/reference/random/generated/numpy.random.binomial.html?highlight=binomial#numpy.random.binomial)<br>\n",
    "[04][Random sampling (numpy.random)](https://numpy.org/doc/stable/reference/random/index.html)<br>\n",
    "[05][Sharp Sight - NumPy Random Seed, Explained](https://www.sharpsightlabs.com/blog/numpy-random-seed/#numpy-random-seed-examples)<br>\n",
    "[06][Sharp Sight - How to use numpy random normal in Python](https://www.sharpsightlabs.com/blog/numpy-random-normal/)<br>\n",
    "[07][Wolfram MathWorld - Pseudorandom Number](https://mathworld.wolfram.com/PseudorandomNumber.html)<br>\n",
    "[08][Wikipedia - Random Walk](https://en.wikipedia.org/wiki/Random_walk)<br>\n",
    "[09][TestU01: A C Library for Empirical Testing of Random Number Generators](chrome-extension://efaidnbmnnnibpcajpcglclefindmkaj/viewer.html?pdfurl=https%3A%2F%2Fwww.iro.umontreal.ca%2F~lecuyer%2Fmyftp%2Fpapers%2Ftestu01.pdf&clen=801628&chunk=true)<br>\n",
    "[10][PCG: A Family of Simple Fast Space-Efficient Statistically Good Algorithms for Random Number Generation](chrome-extension://efaidnbmnnnibpcajpcglclefindmkaj/viewer.html?pdfurl=https%3A%2F%2Fwww.cs.hmc.edu%2Ftr%2Fhmc-cs-2014-0905.pdf&clen=2326958&chunk=true)<br>\n",
    "[11][Numpy.org - Permuted Congruential Generator (64-bit, PCG64)](https://numpy.org/doc/stable/reference/random/bit_generators/pcg64.html)<br>\n",
    "[12][Wikipedia - Mersenne Twister](https://en.wikipedia.org/w/index.php?title=Mersenne_Twister&oldid=1049043226)<br>\n",
    "[13][Wikipedia - Permuted congruential generator](https://en.wikipedia.org/w/index.php?title=Permuted_congruential_generator&oldid=999160939)<br>\n",
    "[14][numpy.random.Generator.integers](https://numpy.org/doc/stable/reference/random/generated/numpy.random.Generator.integers.html#numpy.random.Generator.integers)<br>\n",
    "[15][numpy.random.Generator.random](https://numpy.org/doc/stable/reference/random/generated/numpy.random.Generator.random.html#numpy.random.Generator.random)<br>\n",
    "[16][numpy.random.Generator.choice](https://numpy.org/doc/stable/reference/random/generated/numpy.random.Generator.choice.html#numpy.random.Generator.choice)<br>\n",
    "[17][numpy.random.Generator.bytes](https://numpy.org/doc/stable/reference/random/generated/numpy.random.Generator.bytes.html#numpy.random.Generator.bytes)<br>\n",
    "[18][Wikipedia - Interval (mathematics)](https://en.wikipedia.org/wiki/Interval_(mathematics)<br>\n",
    "[19][numpy.arange](https://numpy.org/doc/stable/reference/generated/numpy.arange.html)<br>\n",
    "[20][pandas.Series](https://pandas.pydata.org/pandas-docs/stable/reference/api/pandas.Series.html)<br>\n",
    "[21][pandas.Series.value_counts](https://pandas.pydata.org/pandas-docs/stable/reference/api/pandas.Series.value_counts.html)<br>\n",
    "[22][pandas.Series.plot.bar](https://pandas.pydata.org/pandas-docs/stable/reference/api/pandas.Series.plot.bar.html)<br>\n",
    "[23][Wikipedia - Byte](https://en.wikipedia.org/wiki/Byte)<br>\n",
    "[24][NumPy - Shuffle](https://numpy.org/doc/stable/reference/random/generated/numpy.random.Generator.shuffle.html#numpy.random.Generator.shuffle)<br>\n",
    "[25][NumPy - Permutation](https://numpy.org/doc/stable/reference/random/generated/numpy.random.Generator.permutation.html#numpy.random.Generator.permutation)<br>\n",
    "[26][NumPy - Permuted](https://numpy.org/doc/stable/reference/random/generated/numpy.random.Generator.permuted.html#numpy.random.Generator.permuted)<br>\n",
    "[27][numpy.arange](https://numpy.org/doc/stable/reference/generated/numpy.arange.html)<br>\n",
    "[28][numpy.reshape](https://numpy.org/doc/stable/reference/generated/numpy.reshape.html)<br>\n",
    "[29][W3schools - is operator](https://www.w3schools.com/python/python_operators.asp)<br>\n",
    "[30][Statistics By Jim - Discrete vs. Continuous Data](https://statisticsbyjim.com/basics/discrete-vs-continuous-data/)<br>\n",
    "[31][Statistics.com - Continuous vs. Discrete Distributions](https://www.statistics.com/glossary/continuous-vs-discrete-distributions/)<br>\n",
    "[32][Vedandtu - Uniform Distribution](https://www.vedantu.com/maths/uniform-distribution)<br>\n",
    "[33][knoema.com - Ireland - Male population](https://knoema.com/atlas/Ireland/topics/Demographics/Population/Male-population)<br>\n",
    "[34][tall.life](https://tall.life/height-percentile-calculator-age-country/)<br>\n",
    "[35][Wikipedia - Kernel density estimation](https://en.wikipedia.org/wiki/Kernel_density_estimation)<br>\n",
    "[36][Scribbr - Understanding normal distributions](https://www.scribbr.com/statistics/normal-distribution/)<br>\n",
    "[37][Wikipedia - Normal distribution](https://en.wikipedia.org/wiki/Normal_distribution#Definitions)<br>\n",
    "[38][mathsisfun.com - Normal Distribution](https://www.mathsisfun.com/data/standard-normal-distribution.html)<br>\n",
    "[39][Wikipedia - Binomial Distribution](https://en.wikipedia.org/wiki/Binomial_distribution)<br>\n",
    "[40][mathsisfun.com - The Binomial Distribution](https://www.mathsisfun.com/data/binomial-distribution.html)<br>\n",
    "[41][Wolfram Mathworld - Bernoulli Distribution](https://mathworld.wolfram.com/BernoulliDistribution.html)<br>\n",
    "[42][Statology - Bernoulli vs Binomial Distribution: What’s the Difference?](https://www.statology.org/bernoulli-vs-binomial/)<br>\n",
    "[43][Wikipdia Poisson distribution](https://en.wikipedia.org/wiki/Poisson_distribution)<br>\n",
    "[44][Brilliant.org - Poisson Distribution](https://brilliant.org/wiki/poisson-distribution/)<br>\n",
    "[45][Investopedia - Poisson Distribution](https://www.investopedia.com/terms/p/poisson-distribution.asp)<br>\n",
    "[46][Lecture 5: The Poisson distribution - University of Oxford](chrome-extension://efaidnbmnnnibpcajpcglclefindmkaj/viewer.html?pdfurl=http%3A%2F%2Fwww.stats.ox.ac.uk%2F~filippi%2FTeaching%2Fpsychology_humanscience_2015%2Flecture5.pdf&clen=211638&chunk=true)<br>\n",
    "[47][statology.org - What is a Unimodal Distribution?](https://www.statology.org/unimodal-distribution/)<br>\n",
    "[48][Wikipedia - 2018 FIFA World Cup](https://en.wikipedia.org/wiki/2018_FIFA_World_Cup)<br>\n",
    "[49][Wikipedia - Exponential distribution](https://en.wikipedia.org/wiki/Exponential_distribution)<br>\n",
    "[50][lumenlearning.com - The Exponential Distribution](https://courses.lumenlearning.com/introstats1/chapter/the-exponential-distribution/)<br>\n",
    "[51][YouTube - Explained by Michael - Understanding Exponential vs Poisson Distributions](https://www.youtube.com/watch?v=n7K8s4vryCQ)<br>\n",
    "[52][Statology - An Introduction to the Exponential Distribution](https://www.statology.org/exponential-distribution/)<br>\n",
    "[53][Wikipedia - NumPy](https://en.wikipedia.org/wiki/NumPy)<br>\n",
    "[54][NumPy - Random Generator](https://numpy.org/doc/stable/reference/random/generator.html)<br>\n",
    "[55][Wikipedia - Poisson point process](https://en.wikipedia.org/wiki/Poisson_point_process)<br>\n",
    "[56][NumPy - numpy.random.Generator.normal](https://numpy.org/doc/stable/reference/random/generated/numpy.random.Generator.normal.html#numpy.random.Generator.normal)<br>\n",
    "[57][NumPy - numpy.random.Generator.uniform](https://numpy.org/doc/stable/reference/random/generated/numpy.random.Generator.uniform.html#numpy.random.Generator.uniform)<br>\n",
    "[58][NumPy - numpy.random.Generator.poisson](https://numpy.org/doc/stable/reference/random/generated/numpy.random.Generator.poisson.html#numpy.random.Generator.poisson)<br>\n",
    "[59][NumPy - numpy.random.Generator.exponential](https://numpy.org/doc/stable/reference/random/generated/numpy.random.Generator.exponential.html#numpy.random.Generator.exponential)<br>\n",
    "[60][Wikipedia - Eniac](https://en.wikipedia.org/wiki/ENIAC)<br>\n",
    "[61][Khan academy - Pseudorandom number generators](https://www.youtube.com/watch?v=GtOt7EBNEwQ)"
   ]
  },
  {
   "cell_type": "markdown",
   "id": "06bd825a-7545-4760-8032-a9030d6c1705",
   "metadata": {},
   "source": [
    "***\n",
    "## End"
   ]
  }
 ],
 "metadata": {
  "kernelspec": {
   "display_name": "Python 3 (ipykernel)",
   "language": "python",
   "name": "python3"
  },
  "language_info": {
   "codemirror_mode": {
    "name": "ipython",
    "version": 3
   },
   "file_extension": ".py",
   "mimetype": "text/x-python",
   "name": "python",
   "nbconvert_exporter": "python",
   "pygments_lexer": "ipython3",
   "version": "3.9.4"
  }
 },
 "nbformat": 4,
 "nbformat_minor": 5
}
